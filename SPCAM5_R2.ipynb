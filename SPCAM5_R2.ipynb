{
 "cells": [
  {
   "cell_type": "code",
   "execution_count": 1,
   "metadata": {},
   "outputs": [
    {
     "name": "stdout",
     "output_type": "stream",
     "text": [
      "begin\n",
      "halfway\n",
      "2879\n"
     ]
    }
   ],
   "source": [
    "#Import the acrtuals to compare to model guesses\n",
    "#nc file\n",
    "import netCDF4\n",
    "import numpy as np\n",
    "import time\n",
    "import matplotlib.pyplot as plt\n",
    "import xarray as xr\n",
    "import dask\n",
    "print('begin')\n",
    "\n",
    "#Path for Aqua_Planet, 2 months, No VPB\n",
    "path_to_file = \"/fast/gmooers/Preprocessed_Data/One_Month_Apr/full_physics_essentials_valid_month02_targets.nc\"\n",
    "ds = xr.open_dataset(path_to_file)\n",
    "truths = ds.targets[:, :30].values\n",
    "lons = ds.lon.values\n",
    "lats = ds.lat.values\n",
    "print('halfway')\n",
    "#Path for Aqua_Planet, 2 months, No VPB\n",
    "path_to_file = \"/fast/gmooers/Models/Good_Apr.nc\"\n",
    "ds = xr.open_dataset(path_to_file)\n",
    "features = ds.Prediction[:, :30].values\n",
    "\n",
    "x = 144\n",
    "#x = 128\n",
    "y = 96\n",
    "#y=64\n",
    "z = 30\n",
    "t = int(len(truths)/(x*y))\n",
    "print(t)"
   ]
  },
  {
   "cell_type": "code",
   "execution_count": 3,
   "metadata": {},
   "outputs": [
    {
     "name": "stdout",
     "output_type": "stream",
     "text": [
      "hi\n",
      "(144, 96, 2879, 30)\n",
      "(144, 96, 2879, 30)\n"
     ]
    }
   ],
   "source": [
    "reconstructed_targets = np.zeros(shape=(x, y, t, z))\n",
    "reconstructed_features = np.zeros(shape=(x, y, t, z))\n",
    "#print(reconstructed_targets.shape)\n",
    "print('hi')\n",
    "count = 0\n",
    "for i in range(t):\n",
    "    for j in range(y):\n",
    "        for k in range(x):\n",
    "            A = truths[count]\n",
    "            B = features[count]\n",
    "            reconstructed_targets[k, j, i, :] = A\n",
    "            reconstructed_features[k, j, i, :] = B\n",
    "            count = count + 1\n",
    "\n",
    "print(reconstructed_targets.shape)\n",
    "print(reconstructed_features.shape)"
   ]
  },
  {
   "cell_type": "code",
   "execution_count": 4,
   "metadata": {},
   "outputs": [
    {
     "name": "stdout",
     "output_type": "stream",
     "text": [
      "0\n",
      "10\n",
      "20\n",
      "30\n",
      "40\n",
      "50\n",
      "60\n",
      "70\n",
      "80\n",
      "90\n",
      "100\n",
      "110\n",
      "120\n",
      "130\n",
      "140\n",
      "hi\n",
      "(144, 96, 1, 30)\n"
     ]
    }
   ],
   "source": [
    "#code for all longitudes \n",
    "A = reconstructed_targets\n",
    "B = reconstructed_features\n",
    "\n",
    "targs = reconstructed_targets\n",
    "feats = reconstructed_features\n",
    "\n",
    "\n",
    "R = np.zeros(shape=(x, y, 1, z))\n",
    "SSE = np.zeros(shape=(x, y, 1, z))\n",
    "SVAR = np.zeros(shape=(x, y, 1, z))\n",
    "target_list = []\n",
    "feature_list = []\n",
    "count = 0\n",
    "\n",
    "for i in range(len(A)):\n",
    "    for j in range(len(A[0])):\n",
    "        for k in range(len(A[0][0][0])):\n",
    "            for l in range(len(A[0][0])):\n",
    "                target_value = reconstructed_targets[i][j][l][k]\n",
    "                feature_value = reconstructed_features[i][j][l][k]\n",
    "                target_list.append(target_value)\n",
    "                feature_list.append(feature_value)\n",
    "            \n",
    "            target_list = np.array(target_list)\n",
    "            feature_list = np.array(feature_list)\n",
    "            sse = np.sum((target_list-feature_list)**2.0)\n",
    "            svar = np.sum((target_list-np.mean(target_list))**2.0)\n",
    "            r_2 = 1-(sse/svar)\n",
    "            R[i, j, :, k] = r_2\n",
    "            SSE[i, j, :, k] = sse\n",
    "            SVAR[i, j, :, k] = svar\n",
    "            target_list = []\n",
    "            feature_list = []\n",
    "    \n",
    "    if i%10==0:\n",
    "        print(i)\n",
    "            \n",
    "\n",
    "print('hi')\n",
    "print(R.shape)\n",
    "R_Save = np.squeeze(R)\n",
    "SSE_Save = np.squeeze(SSE)\n",
    "SVAR_Save = np.squeeze(SVAR)\n",
    "np.save(\"/fast/gmooers/RG_Paper_Data/April_SSE_SPCAM5_15_Min_Interval_Heat.npy\", SSE_Save)\n",
    "np.save(\"/fast/gmooers/RG_Paper_Data/April_SVAR_SPCAM5_15_Min_Interval_Heat.npy\", SVAR_Save)\n",
    "np.save(\"/fast/gmooers/RG_Paper_Data/April_SPCAM5_15_Min_Interval_Heat.npy\", R_Save)\n",
    "print(\"Save completed - nothing below here matters\")"
   ]
  }
 ],
 "metadata": {
  "kernelspec": {
   "display_name": "Python 3",
   "language": "python",
   "name": "python3"
  },
  "language_info": {
   "codemirror_mode": {
    "name": "ipython",
    "version": 3
   },
   "file_extension": ".py",
   "mimetype": "text/x-python",
   "name": "python",
   "nbconvert_exporter": "python",
   "pygments_lexer": "ipython3",
   "version": "3.7.3"
  }
 },
 "nbformat": 4,
 "nbformat_minor": 2
}
