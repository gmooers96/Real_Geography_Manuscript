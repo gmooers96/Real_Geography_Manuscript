{
 "cells": [
  {
   "cell_type": "code",
   "execution_count": 1,
   "metadata": {},
   "outputs": [
    {
     "name": "stderr",
     "output_type": "stream",
     "text": [
      "/export/home/gmooers/miniconda3/lib/python3.7/site-packages/ipykernel_launcher.py:39: MatplotlibDeprecationWarning: \n",
      "The dedent function was deprecated in Matplotlib 3.1 and will be removed in 3.3. Use inspect.cleandoc instead.\n"
     ]
    }
   ],
   "source": [
    "import pickle, pprint\n",
    "import math\n",
    "import netCDF4\n",
    "import numpy as np\n",
    "import time\n",
    "import matplotlib.pyplot as plt\n",
    "from scipy import stats\n",
    "from scipy.ndimage import gaussian_filter\n",
    "import pandas as pd\n",
    "from tabulate import tabulate\n",
    "import xarray as xr\n",
    "import dask\n",
    "\n",
    "import seaborn as sns\n",
    "\n",
    "import matplotlib\n",
    "from matplotlib.gridspec import GridSpec\n",
    "from matplotlib import animation\n",
    "from matplotlib import transforms\n",
    "from mpl_toolkits.axes_grid1 import make_axes_locatable\n",
    "import matplotlib.image as imag\n",
    "from matplotlib.ticker import NullFormatter\n",
    "import matplotlib.ticker as mticker\n",
    "import types\n",
    "\n",
    "\n",
    "import matplotlib.colors as colors\n",
    "import matplotlib.patches as patches\n",
    "from matplotlib import ticker\n",
    "import cartopy\n",
    "import cartopy.feature as cfeature\n",
    "import cartopy.crs as ccrs\n",
    "\n",
    "import csv\n",
    "import pandas as pd\n",
    "import os\n",
    "\n",
    "from mpl_toolkits.basemap import Basemap\n",
    "bm = Basemap()\n",
    "\n",
    "import types\n",
    "def bottom_offset(self, bboxes, bboxes2):\n",
    "    bottom = self.axes.bbox.ymin\n",
    "    self.offsetText.set(va=\"top\", ha=\"left\")\n",
    "    self.offsetText.set_position(\n",
    "            (0, bottom - self.OFFSETTEXTPAD * self.figure.dpi / 72.0))\n",
    "\n",
    "\n",
    "def register_bottom_offset(axis, func):\n",
    "    axis._update_offset_text_position = types.MethodType(func, axis)"
   ]
  },
  {
   "cell_type": "code",
   "execution_count": 2,
   "metadata": {},
   "outputs": [],
   "source": [
    "fz = 15*1.5\n",
    "lw = 4\n",
    "siz = 100\n",
    "XNNA = 1.25 # Abscissa where architecture-constrained network will be placed\n",
    "XTEXT = 0.25 # Text placement\n",
    "YTEXT = 0.3 # Text placement\n",
    "\n",
    "plt.rc('text', usetex=False)\n",
    "matplotlib.rcParams['mathtext.fontset'] = 'stix'\n",
    "matplotlib.rcParams['font.family'] = 'STIXGeneral'\n",
    "#mpl.rcParams[\"font.serif\"] = \"STIX\"\n",
    "plt.rc('font', family='serif', size=fz)\n",
    "matplotlib.rcParams['lines.linewidth'] = lw"
   ]
  },
  {
   "cell_type": "code",
   "execution_count": 3,
   "metadata": {},
   "outputs": [],
   "source": [
    "path_to_file = '../Preprocessed_Data/Paper_Annual/full_physics_essentials_valid_month02_targets.nc'\n",
    "real_ds = xr.open_dataset(path_to_file)\n",
    "\n",
    "path_to_file = '../Models/Annual_Softmax.nc'\n",
    "Softmax_ds = xr.open_dataset(path_to_file)\n",
    "\n",
    "path_to_file = '../Models/Annual_Softplus.nc'\n",
    "Softplus_ds = xr.open_dataset(path_to_file)\n",
    "\n",
    "path_to_file = '../Models/Annual_Exponential.nc'\n",
    "Exponential_ds = xr.open_dataset(path_to_file)\n",
    "\n",
    "path_to_file = '../Models/Annual_Linear_Baseline.nc'\n",
    "Linear_Baseline_ds = xr.open_dataset(path_to_file)\n",
    "\n",
    "#path_to_file = 'Models/Paper_Full_2018.nc'\n",
    "#predict_ds = xr.open_dataset(path_to_file)"
   ]
  },
  {
   "cell_type": "code",
   "execution_count": 4,
   "metadata": {},
   "outputs": [
    {
     "data": {
      "text/plain": [
       "Frozen(OrderedDict([('target_lev', <xarray.IndexVariable 'target_lev' (target_lev: 65)>\n",
       "array([ 0,  1,  2,  3,  4,  5,  6,  7,  8,  9, 10, 11, 12, 13, 14, 15, 16, 17,\n",
       "       18, 19, 20, 21, 22, 23, 24, 25, 26, 27, 28, 29, 30, 31, 32, 33, 34, 35,\n",
       "       36, 37, 38, 39, 40, 41, 42, 43, 44, 45, 46, 47, 48, 49, 50, 51, 52, 53,\n",
       "       54, 55, 56, 57, 58, 59, 60, 61, 62, 63, 64])), ('time', <xarray.Variable (sample: 472449024)>\n",
       "[472449024 values with dtype=int64]), ('lat', <xarray.Variable (sample: 472449024)>\n",
       "[472449024 values with dtype=float64]), ('lon', <xarray.Variable (sample: 472449024)>\n",
       "[472449024 values with dtype=float64]), ('targets', <xarray.Variable (sample: 472449024, target_lev: 65)>\n",
       "[30709186560 values with dtype=float32]), ('target_names', <xarray.Variable (target_lev: 65)>\n",
       "array(['PTTEND_lev00', 'PTTEND_lev01', 'PTTEND_lev02', 'PTTEND_lev03',\n",
       "       'PTTEND_lev04', 'PTTEND_lev05', 'PTTEND_lev06', 'PTTEND_lev07',\n",
       "       'PTTEND_lev08', 'PTTEND_lev09', 'PTTEND_lev10', 'PTTEND_lev11',\n",
       "       'PTTEND_lev12', 'PTTEND_lev13', 'PTTEND_lev14', 'PTTEND_lev15',\n",
       "       'PTTEND_lev16', 'PTTEND_lev17', 'PTTEND_lev18', 'PTTEND_lev19',\n",
       "       'PTTEND_lev20', 'PTTEND_lev21', 'PTTEND_lev22', 'PTTEND_lev23',\n",
       "       'PTTEND_lev24', 'PTTEND_lev25', 'PTTEND_lev26', 'PTTEND_lev27',\n",
       "       'PTTEND_lev28', 'PTTEND_lev29', 'PTEQ_lev00', 'PTEQ_lev01',\n",
       "       'PTEQ_lev02', 'PTEQ_lev03', 'PTEQ_lev04', 'PTEQ_lev05', 'PTEQ_lev06',\n",
       "       'PTEQ_lev07', 'PTEQ_lev08', 'PTEQ_lev09', 'PTEQ_lev10', 'PTEQ_lev11',\n",
       "       'PTEQ_lev12', 'PTEQ_lev13', 'PTEQ_lev14', 'PTEQ_lev15', 'PTEQ_lev16',\n",
       "       'PTEQ_lev17', 'PTEQ_lev18', 'PTEQ_lev19', 'PTEQ_lev20', 'PTEQ_lev21',\n",
       "       'PTEQ_lev22', 'PTEQ_lev23', 'PTEQ_lev24', 'PTEQ_lev25', 'PTEQ_lev26',\n",
       "       'PTEQ_lev27', 'PTEQ_lev28', 'PTEQ_lev29', 'FSNT', 'FSNS', 'FLNT',\n",
       "       'FLNS', 'PRECT'], dtype=object))]))"
      ]
     },
     "execution_count": 4,
     "metadata": {},
     "output_type": "execute_result"
    }
   ],
   "source": [
    "real_ds.variables"
   ]
  },
  {
   "cell_type": "code",
   "execution_count": 5,
   "metadata": {},
   "outputs": [
    {
     "name": "stdout",
     "output_type": "stream",
     "text": [
      "(472449024,)\n"
     ]
    }
   ],
   "source": [
    "print(np.squeeze(real_ds.targets[:,-1].values).shape)"
   ]
  },
  {
   "cell_type": "code",
   "execution_count": 6,
   "metadata": {},
   "outputs": [
    {
     "name": "stdout",
     "output_type": "stream",
     "text": [
      "34176\n"
     ]
    }
   ],
   "source": [
    "precip_SPCAM5_ds = np.squeeze(real_ds.targets[:,-1].values)\n",
    "precip_Softmax_ds = Softmax_ds.Prediction.values\n",
    "precip_Softplus_ds = Softplus_ds.Prediction.values\n",
    "precip_Exponential_ds = Exponential_ds.Prediction.values\n",
    "precip_Linear_Baseline_ds = Linear_Baseline_ds.Prediction.values\n",
    "\n",
    "times = real_ds.time.values\n",
    "\n",
    "lats = np.linspace(-90.0, 90.0, 96)\n",
    "lons = np.linspace(0.0, 357.5, 144)\n",
    "\n",
    "Xvar, Yvar = np.meshgrid(lons, lats)\n",
    "\n",
    "x = 144\n",
    "y = 96\n",
    "z = 30\n",
    "t = int(len(precip_SPCAM5_ds)/(x*y))\n",
    "print(t)"
   ]
  },
  {
   "cell_type": "code",
   "execution_count": 7,
   "metadata": {},
   "outputs": [],
   "source": [
    "precip_SPCAM5 = np.zeros(shape=(t, y, x))\n",
    "precip_Softmax = np.zeros(shape=(t, y, x))\n",
    "precip_Softplus = np.zeros(shape=(t, y, x))\n",
    "precip_Exponential = np.zeros(shape=(t, y, x))\n",
    "precip_Linear_Baseline = np.zeros(shape=(t, y, x))\n",
    "count = 0\n",
    "for i in range(t):\n",
    "    for j in range(y):\n",
    "        for k in range(x):\n",
    "            precip_SPCAM5[i, j, k] = precip_SPCAM5_ds[count]*86400000.\n",
    "            precip_Softmax[i, j, k] = precip_Softmax_ds[count]*86400000.\n",
    "            precip_Softplus[i, j, k] = precip_Softplus_ds[count]*86400000.\n",
    "            precip_Exponential[i, j, k] = precip_Exponential_ds[count]*86400000.\n",
    "            precip_Linear_Baseline[i, j, k] = precip_Linear_Baseline_ds[count]*86400000.\n",
    "            \n",
    "            count = count + 1"
   ]
  },
  {
   "cell_type": "code",
   "execution_count": 8,
   "metadata": {},
   "outputs": [],
   "source": [
    "truths = np.nanmean(precip_SPCAM5, axis = 0)\n",
    "\n",
    "predictions_Softmax = np.nanmean(precip_Softmax, axis = 0)\n",
    "predictions_Softplus = np.nanmean(precip_Softplus, axis = 0)\n",
    "predictions_Exponential = np.nanmean(precip_Exponential, axis = 0)\n",
    "predictions_Linear_Baseline = np.nanmean(precip_Linear_Baseline, axis = 0)\n",
    "\n",
    "diff_Softmax = predictions_Softmax-truths\n",
    "diff_Softplus = predictions_Softplus-truths\n",
    "diff_Exponential = predictions_Exponential-truths\n",
    "diff_Linear_Baseline = predictions_Linear_Baseline-truths\n",
    "\n",
    "precip_levels = np.linspace(-2,26,15)\n",
    "diff_levels = np.linspace(-2.5,2.5,26)"
   ]
  },
  {
   "cell_type": "code",
   "execution_count": 12,
   "metadata": {},
   "outputs": [
    {
     "name": "stdout",
     "output_type": "stream",
     "text": [
      "[[ 0.07557671  0.07535357  0.07558828 ...  0.07539537  0.07603418\n",
      "   0.07555782]\n",
      " [ 0.09448119  0.09506826  0.09523965 ...  0.09181362  0.09381369\n",
      "   0.09804009]\n",
      " [ 0.07179259  0.07312075  0.07478968 ...  0.05821369  0.06013231\n",
      "   0.06435879]\n",
      " ...\n",
      " [-0.02075998  0.00267142 -0.01540346 ... -0.04764942 -0.02561673\n",
      "  -0.0301006 ]\n",
      " [-0.00385818  0.00097117  0.00394902 ... -0.02487997 -0.00902576\n",
      "  -0.00873896]\n",
      " [ 0.10278506  0.11235249  0.10672165 ...  0.10855557  0.1055841\n",
      "   0.11177321]]\n"
     ]
    }
   ],
   "source": [
    "print(diff_Softplus)"
   ]
  },
  {
   "cell_type": "code",
   "execution_count": 22,
   "metadata": {},
   "outputs": [],
   "source": [
    "np.save(\"/fast/gmooers/Real_Geography_Manuscript/Data_For_Paper/Paper_Annual_Precip_Error_Softmax.npy\", diff_Softmax)\n",
    "np.save(\"/fast/gmooers/Real_Geography_Manuscript/Data_For_Paper/Paper_Annual_Precip_Error_Softplus.npy\", diff_Softplus)\n",
    "np.save(\"/fast/gmooers/Real_Geography_Manuscript/Data_For_Paper/Paper_Annual_Precip_Error_Exponential.npy\", diff_Exponential)\n",
    "np.save(\"/fast/gmooers/Real_Geography_Manuscript/Data_For_Paper/Paper_Annual_Precip_Error_Linear_Baseline.npy\", diff_Linear_Baseline)"
   ]
  },
  {
   "cell_type": "code",
   "execution_count": 20,
   "metadata": {},
   "outputs": [
    {
     "ename": "NameError",
     "evalue": "name 'diff' is not defined",
     "output_type": "error",
     "traceback": [
      "\u001b[0;31m---------------------------------------------------------------------------\u001b[0m",
      "\u001b[0;31mNameError\u001b[0m                                 Traceback (most recent call last)",
      "\u001b[0;32m<ipython-input-20-d4f178ee894a>\u001b[0m in \u001b[0;36m<module>\u001b[0;34m\u001b[0m\n\u001b[1;32m     16\u001b[0m \u001b[0mplt\u001b[0m\u001b[0;34m.\u001b[0m\u001b[0msubplots_adjust\u001b[0m\u001b[0;34m(\u001b[0m\u001b[0mhspace\u001b[0m\u001b[0;34m=\u001b[0m\u001b[0;36m0.12\u001b[0m\u001b[0;34m,\u001b[0m \u001b[0mwspace\u001b[0m\u001b[0;34m=\u001b[0m\u001b[0;36m0\u001b[0m\u001b[0;34m)\u001b[0m\u001b[0;34m\u001b[0m\u001b[0;34m\u001b[0m\u001b[0m\n\u001b[1;32m     17\u001b[0m \u001b[0mplt\u001b[0m\u001b[0;34m.\u001b[0m\u001b[0msuptitle\u001b[0m\u001b[0;34m(\u001b[0m\u001b[0;34m\"Annual Mean Precipitation Error\"\u001b[0m\u001b[0;34m,\u001b[0m \u001b[0my\u001b[0m\u001b[0;34m=\u001b[0m\u001b[0;36m0.99\u001b[0m\u001b[0;34m,\u001b[0m \u001b[0mx\u001b[0m\u001b[0;34m=\u001b[0m\u001b[0;36m0.47\u001b[0m\u001b[0;34m,\u001b[0m \u001b[0mfontsize\u001b[0m \u001b[0;34m=\u001b[0m \u001b[0mfz\u001b[0m\u001b[0;34m)\u001b[0m\u001b[0;34m\u001b[0m\u001b[0;34m\u001b[0m\u001b[0m\n\u001b[0;32m---> 18\u001b[0;31m \u001b[0mnp\u001b[0m\u001b[0;34m.\u001b[0m\u001b[0msave\u001b[0m\u001b[0;34m(\u001b[0m\u001b[0;34m\"/fast/gmooers/Real_Geography_Manuscript/Compressed_Data/Paper_Annual_Precip_Error_Softmax.npy\"\u001b[0m\u001b[0;34m,\u001b[0m \u001b[0mdiff\u001b[0m\u001b[0;34m)\u001b[0m\u001b[0;34m\u001b[0m\u001b[0;34m\u001b[0m\u001b[0m\n\u001b[0m",
      "\u001b[0;31mNameError\u001b[0m: name 'diff' is not defined"
     ]
    },
    {
     "data": {
      "image/png": "[encoded data removed]",
      "text/plain": [
       "<Figure size 1080x432 with 2 Axes>"
      ]
     },
     "metadata": {
      "needs_background": "light"
     },
     "output_type": "display_data"
    }
   ],
   "source": [
    "fig, ax = plt.subplots(1,1,subplot_kw={'projection':ccrs.Robinson(central_longitude=180)})\n",
    "fig.set_size_inches(15,6)\n",
    "\n",
    "cmap = matplotlib.colors.ListedColormap([\"midnightblue\",\"darkblue\",\"dodgerblue\",\"lightskyblue\",\"lightblue\",\"aliceblue\",\"seashell\",\"lightsalmon\",\"darksalmon\",\"indianred\",\"maroon\",\"darkred\"])\n",
    "norm = matplotlib.colors.BoundaryNorm(np.arange(1,5), cmap.N, clip=True)\n",
    "#contour_plot = ax.contourf(Xvar, Yvar, diff_Softmax,diff_levels,cmap=cmap, vmin =-2.5, vmax=2.5, transform=ccrs.PlateCarree(central_longitude=180))\n",
    "contour_plot = ax.pcolormesh(diff_Softmax,cmap=cmap)\n",
    "#fig.subplots_adjust(right=0.8)\n",
    "#cbaxes = fig.add_axes([0.82, 0.12, 0.05, 0.23])\n",
    "cbar = plt.colorbar(contour_plot, label=r'$\\left(\\mathrm{mm/day}\\right)$') \n",
    "ax.set_title('(c) Softmax DNN - SPCAM5', fontsize = fz)\n",
    "ax.coastlines(linewidth=2.0,edgecolor='0.25')\n",
    "ax.gridlines()\n",
    "ax.add_feature(cfeature.BORDERS,linewidth=0.5,edgecolor='0.25')\n",
    "\n",
    "plt.subplots_adjust(hspace=0.12, wspace=0)\n",
    "plt.suptitle(\"Annual Mean Precipitation Error\", y=0.99, x=0.47, fontsize = fz)\n",
    "np.save(\"/fast/gmooers/Real_Geography_Manuscript/Compressed_Data/Paper_Annual_Precip_Error_Softmax.npy\", diff_Softmax)"
   ]
  },
  {
   "cell_type": "code",
   "execution_count": null,
   "metadata": {},
   "outputs": [],
   "source": [
    "cmap = matplotlib.colors.ListedColormap([\"mediumblue\",\"blue\", \"deepskyblue\", \"aquamarine\", \"lightgreen\",\"limegreen\",\"greenyellow\",\"yellow\",\"gold\",\"orange\",\"orangered\",\"red\",\"mediumvioletred\",\"purple\"])\n",
    "norm = matplotlib.colors.BoundaryNorm(np.arange(1,5), cmap.N) \n",
    "fig, ax = plt.subplots(1,1,subplot_kw={'projection':ccrs.Robinson(central_longitude=180)})\n",
    "fig.set_size_inches(15,6)\n",
    "\n",
    "cmap = matplotlib.colors.ListedColormap([\"midnightblue\",\"darkblue\",\"dodgerblue\",\"lightskyblue\",\"lightblue\",\"aliceblue\",\"seashell\",\"lightsalmon\",\"darksalmon\",\"indianred\",\"maroon\",\"darkred\"])\n",
    "norm = matplotlib.colors.BoundaryNorm(np.arange(1,5), cmap.N)\n",
    "contour_plot = ax.contourf(Xvar, Yvar, diff_Softplus,diff_levels,cmap=cmap, vmin =-2.5, vmax=2.5, transform=ccrs.PlateCarree())\n",
    "#fig.subplots_adjust(right=0.8)\n",
    "#cbaxes = fig.add_axes([0.82, 0.12, 0.05, 0.23])\n",
    "cbar = plt.colorbar(contour_plot, label=r'$\\left(\\mathrm{mm/day}\\right)$') \n",
    "ax.set_title('(c) Softmax DNN - SPCAM5', fontsize = fz)\n",
    "ax.coastlines(linewidth=2.0,edgecolor='0.25')\n",
    "ax.gridlines()\n",
    "ax.add_feature(cfeature.BORDERS,linewidth=0.5,edgecolor='0.25')\n",
    "\n",
    "plt.subplots_adjust(hspace=0.12, wspace=0)\n",
    "plt.suptitle(\"Annual Mean Precipitation Error\", y=0.99, x=0.47, fontsize = fz)\n",
    "np.save(\"/fast/gmooers/Real_Geography_Manuscript/Compressed_Data/Paper_Annual_Precip_Error_Softplus.npy\", diff_Softplus)"
   ]
  },
  {
   "cell_type": "code",
   "execution_count": null,
   "metadata": {},
   "outputs": [],
   "source": [
    "cmap = matplotlib.colors.ListedColormap([\"mediumblue\",\"blue\", \"deepskyblue\", \"aquamarine\", \"lightgreen\",\"limegreen\",\"greenyellow\",\"yellow\",\"gold\",\"orange\",\"orangered\",\"red\",\"mediumvioletred\",\"purple\"])\n",
    "norm = matplotlib.colors.BoundaryNorm(np.arange(1,5), cmap.N) \n",
    "fig, ax = plt.subplots(1,1,subplot_kw={'projection':ccrs.Robinson(central_longitude=180)})\n",
    "fig.set_size_inches(15,6)\n",
    "\n",
    "cmap = matplotlib.colors.ListedColormap([\"midnightblue\",\"darkblue\",\"dodgerblue\",\"lightskyblue\",\"lightblue\",\"aliceblue\",\"seashell\",\"lightsalmon\",\"darksalmon\",\"indianred\",\"maroon\",\"darkred\"])\n",
    "norm = matplotlib.colors.BoundaryNorm(np.arange(1,5), cmap.N)\n",
    "contour_plot = ax.contourf(Xvar, Yvar, diff_Exponential,diff_levels,cmap=cmap, vmin =-2.5, vmax=2.5, transform=ccrs.PlateCarree())\n",
    "#fig.subplots_adjust(right=0.8)\n",
    "#cbaxes = fig.add_axes([0.82, 0.12, 0.05, 0.23])\n",
    "cbar = plt.colorbar(contour_plot, label=r'$\\left(\\mathrm{mm/day}\\right)$') \n",
    "ax.set_title('(c) Exponential DNN - SPCAM5', fontsize = fz)\n",
    "ax.coastlines(linewidth=2.0,edgecolor='0.25')\n",
    "ax.gridlines()\n",
    "ax.add_feature(cfeature.BORDERS,linewidth=0.5,edgecolor='0.25')\n",
    "\n",
    "plt.subplots_adjust(hspace=0.12, wspace=0)\n",
    "plt.suptitle(\"Annual Mean Precipitation Error\", y=0.99, x=0.47, fontsize = fz)\n",
    "np.save(\"/fast/gmooers/Real_Geography_Manuscript/Compressed_Data/Paper_Annual_Precip_Error_Exponential.npy\", diff_Exponential)"
   ]
  },
  {
   "cell_type": "code",
   "execution_count": null,
   "metadata": {},
   "outputs": [],
   "source": [
    "cmap = matplotlib.colors.ListedColormap([\"mediumblue\",\"blue\", \"deepskyblue\", \"aquamarine\", \"lightgreen\",\"limegreen\",\"greenyellow\",\"yellow\",\"gold\",\"orange\",\"orangered\",\"red\",\"mediumvioletred\",\"purple\"])\n",
    "norm = matplotlib.colors.BoundaryNorm(np.arange(1,5), cmap.N) \n",
    "fig, ax = plt.subplots(1,1,subplot_kw={'projection':ccrs.Robinson(central_longitude=180)})\n",
    "fig.set_size_inches(15,6)\n",
    "\n",
    "cmap = matplotlib.colors.ListedColormap([\"midnightblue\",\"darkblue\",\"dodgerblue\",\"lightskyblue\",\"lightblue\",\"aliceblue\",\"seashell\",\"lightsalmon\",\"darksalmon\",\"indianred\",\"maroon\",\"darkred\"])\n",
    "norm = matplotlib.colors.BoundaryNorm(np.arange(1,5), cmap.N)\n",
    "contour_plot = ax.contourf(Xvar, Yvar, diff_Linear_Baseline,diff_levels,cmap=cmap, vmin =-2.5, vmax=2.5, transform=ccrs.PlateCarree())\n",
    "#fig.subplots_adjust(right=0.8)\n",
    "#cbaxes = fig.add_axes([0.82, 0.12, 0.05, 0.23])\n",
    "cbar = plt.colorbar(contour_plot, label=r'$\\left(\\mathrm{mm/day}\\right)$') \n",
    "ax.set_title('(c) Linear Baseline DNN - SPCAM5', fontsize = fz)\n",
    "ax.coastlines(linewidth=2.0,edgecolor='0.25')\n",
    "ax.gridlines()\n",
    "ax.add_feature(cfeature.BORDERS,linewidth=0.5,edgecolor='0.25')\n",
    "\n",
    "plt.subplots_adjust(hspace=0.12, wspace=0)\n",
    "plt.suptitle(\"Annual Mean Precipitation Error\", y=0.99, x=0.47, fontsize = fz)\n",
    "np.save(\"/fast/gmooers/Real_Geography_Manuscript/Compressed_Data/Paper_Annual_Precip_Error_Linear_Baseline.npy\", diff)"
   ]
  },
  {
   "cell_type": "code",
   "execution_count": null,
   "metadata": {},
   "outputs": [],
   "source": [
    "cmap = matplotlib.colors.ListedColormap([\"mediumblue\",\"blue\", \"deepskyblue\", \"aquamarine\", \"lightgreen\",\"limegreen\",\"greenyellow\",\"yellow\",\"gold\",\"orange\",\"orangered\",\"red\",\"mediumvioletred\",\"purple\"])\n",
    "norm = matplotlib.colors.BoundaryNorm(np.arange(1,5), cmap.N) \n",
    "fig, ax = plt.subplots(1,1,subplot_kw={'projection':ccrs.Robinson(central_longitude=180)})\n",
    "fig.set_size_inches(15,6)\n",
    "\n",
    "cmap = matplotlib.colors.ListedColormap([\"midnightblue\",\"darkblue\",\"dodgerblue\",\"lightskyblue\",\"lightblue\",\"aliceblue\",\"seashell\",\"lightsalmon\",\"darksalmon\",\"indianred\",\"maroon\",\"darkred\"])\n",
    "norm = matplotlib.colors.BoundaryNorm(np.arange(1,5), cmap.N)\n",
    "contour_plot = ax.contourf(Xvar, Yvar, diff,diff_levels,cmap=cmap, vmin =-2.5, vmax=2.5, transform=ccrs.PlateCarree())\n",
    "#fig.subplots_adjust(right=0.8)\n",
    "#cbaxes = fig.add_axes([0.82, 0.12, 0.05, 0.23])\n",
    "cbar = plt.colorbar(contour_plot, label=r'$\\left(\\mathrm{mm/day}\\right)$') \n",
    "ax.set_title('(c) DNN - SPCAM5', fontsize = fz)\n",
    "ax.coastlines(linewidth=2.0,edgecolor='0.25')\n",
    "ax.gridlines()\n",
    "ax.add_feature(cfeature.BORDERS,linewidth=0.5,edgecolor='0.25')\n",
    "\n",
    "plt.subplots_adjust(hspace=0.12, wspace=0)\n",
    "plt.suptitle(\"Annual Mean Precipitation Error\", y=0.99, x=0.47, fontsize = fz)\n",
    "#np.save(\"/fast/gmooers/Real_Geography_Manuscript/Compressed_Data/Paper_Annual_Precip_Error.npy\", diff)"
   ]
  },
  {
   "cell_type": "code",
   "execution_count": null,
   "metadata": {},
   "outputs": [],
   "source": [
    "path_to_file = '/fast/gmooers/Models/Paper_Full_2018_Primative.nc'\n",
    "primative_ds = xr.open_dataset(path_to_file)\n",
    "primative_dnn_ds = primative_ds.Prediction.values*86400000."
   ]
  },
  {
   "cell_type": "code",
   "execution_count": null,
   "metadata": {},
   "outputs": [],
   "source": [
    "primative_dnn = np.zeros(shape=(t, y, x))\n",
    "\n",
    "count = 0\n",
    "for i in range(t):\n",
    "    for j in range(y):\n",
    "        for k in range(x):\n",
    "            A = primative_dnn_ds[count]\n",
    "            primative_dnn[i, j, k] = A\n",
    "            count = count + 1"
   ]
  },
  {
   "cell_type": "code",
   "execution_count": null,
   "metadata": {},
   "outputs": [],
   "source": [
    "precip_cam_ds = precip_cam_ds*86400000."
   ]
  },
  {
   "cell_type": "code",
   "execution_count": null,
   "metadata": {},
   "outputs": [],
   "source": [
    "D = precip_DNN.ravel()\n",
    "PD = primative_dnn.ravel()\n",
    "T = precip_spcam5.ravel()\n",
    "C = precip_cam_ds.ravel()"
   ]
  },
  {
   "cell_type": "code",
   "execution_count": null,
   "metadata": {},
   "outputs": [],
   "source": [
    "max_values = [np.nanmax(D), np.nanmax(T), np.nanmax(C)]\n",
    "min_values = [np.nanmin(D),  np.nanmin(T),  np.nanmin(C)]\n",
    "m = min(min_values)\n",
    "M = max(max_values)"
   ]
  },
  {
   "cell_type": "code",
   "execution_count": null,
   "metadata": {},
   "outputs": [],
   "source": [
    "np.save(\"/fast/gmooers/Real_Geography_Manuscript/Compressed_Data/Paper_SPCAM5_Precip_Linear_Baseline.npy\",D)\n",
    "np.save(\"/fast/gmooers/Real_Geography_Manuscript/Compressed_Data/Paper_SPCAM5_Precip_Exponential.npy\",PD)\n",
    "np.save(\"/fast/gmooers/Real_Geography_Manuscript/Compressed_Data/Paper_SPCAM5_Precip_Softmax.npy\",T)\n",
    "np.save(\"/fast/gmooers/Real_Geography_Manuscript/Compressed_Data/Paper_SPCAM5_Softplus.npy\",C)"
   ]
  },
  {
   "cell_type": "code",
   "execution_count": null,
   "metadata": {},
   "outputs": [],
   "source": [
    "#np.save(\"/fast/gmooers/Real_Geography_Manuscript/Compressed_Data/Paper_SPCAM5_Precip_Prediction.npy\",D)\n",
    "#np.save(\"/fast/gmooers/Real_Geography_Manuscript/Compressed_Data/Paper_SPCAM5_Precip_Primative_Prediction.npy\",PD)\n",
    "#np.save(\"/fast/gmooers/Real_Geography_Manuscript/Compressed_Data/Paper_SPCAM5_Precip_Truth.npy\",T)\n",
    "#np.save(\"/fast/gmooers/Real_Geography_Manuscript/Compressed_Data/Paper_CAM5_PRECIP.npy\",C)\n",
    "#np.save(\"/fast/gmooers/Real_Geography_Manuscript/Compressed_Data/Paper_Precip_Max_Scalar.npy\",m)\n",
    "#np.save(\"/fast/gmooers/Real_Geography_Manuscript/Compressed_Data/Paper_Precip_Min_Scalar.npy\",M)"
   ]
  },
  {
   "cell_type": "code",
   "execution_count": null,
   "metadata": {},
   "outputs": [],
   "source": [
    "ocean_DNN = np.zeros(shape=(t, y, x))\n",
    "ocean_Primative_DNN = np.zeros(shape=(t, y, x))\n",
    "ocean_SPCAM5 = np.zeros(shape=(t, y, x))\n",
    "ocean_CAM5 = np.zeros(shape=(len(precip_cam_ds),y, x))\n",
    "\n",
    "ocean_DNN[:,:,:] = np.nan\n",
    "ocean_SPCAM5[:,:,:] = np.nan\n",
    "ocean_CAM5[:,:,:] = np.nan\n",
    "\n",
    "\n",
    "for i in range(len(ocean_DNN[0][0])):\n",
    "    lon = lons[i]\n",
    "    if lon > 180.0:\n",
    "        lon = lon - 360.0\n",
    "    for j in range(len(ocean_DNN[i])):\n",
    "        lat = lats[j]\n",
    "        if bm.is_land(lon, lat) == False:\n",
    "            ocean_DNN[:, j, i] = precip_DNN[:, j, i]\n",
    "            ocean_Primative_DNN[:,j,i] = primative_dnn[:,j,i] \n",
    "            ocean_SPCAM5[:, j, i] =  precip_spcam5[:, j, i]\n",
    "            \n",
    "for i in range(len(ocean_CAM5[0][0])):\n",
    "    lon = lons[i]\n",
    "    if lon > 180.0:\n",
    "        lon = lon - 360.0\n",
    "    for j in range(len(ocean_CAM5[i])):\n",
    "        lat = lats[j]\n",
    "        if bm.is_land(lon, lat) == False:\n",
    "            ocean_CAM5[:, j, i] = precip_cam_ds[:, j, i]\n",
    "        \n",
    "\n",
    "print('ocean masks applied')"
   ]
  },
  {
   "cell_type": "code",
   "execution_count": null,
   "metadata": {},
   "outputs": [],
   "source": [
    "land_DNN = np.zeros(shape=(t, y, x))\n",
    "land_Primiative_DNN = np.zeros(shape=(t, y, x))\n",
    "land_SPCAM5 = np.zeros(shape=(t, y, x))\n",
    "land_CAM5 = np.zeros(shape=(len(precip_cam_ds),y, x))\n",
    "\n",
    "land_DNN[:,:,:] = np.nan\n",
    "land_SPCAM5[:,:,:] = np.nan\n",
    "land_CAM5[:,:,:] = np.nan\n",
    "\n",
    "\n",
    "for i in range(len(land_DNN[0][0])):\n",
    "    lon = lons[i]\n",
    "    if lon > 180.0:\n",
    "        lon = lon - 360.0\n",
    "    for j in range(len(land_DNN[i])):\n",
    "        lat = lats[j]\n",
    "        if bm.is_land(lon, lat) == True:\n",
    "            land_DNN[:, j, i] = precip_DNN[:, j, i]\n",
    "            land_Primiative_DNN[:,j,i] = primative_dnn[:,j,i]\n",
    "            land_SPCAM5[:, j, i] = precip_spcam5[:, j, i]\n",
    "            \n",
    "for i in range(len(land_CAM5[0][0])):\n",
    "    lon = lons[i]\n",
    "    if lon > 180.0:\n",
    "        lon = lon - 360.0\n",
    "    for j in range(len(land_CAM5[i])):\n",
    "        lat = lats[j]\n",
    "        if bm.is_land(lon, lat) == True:\n",
    "            land_CAM5[:, j, i] = precip_cam_ds[:, j, i]\n",
    "        \n",
    "\n",
    "print('land masks applied')"
   ]
  },
  {
   "cell_type": "code",
   "execution_count": null,
   "metadata": {},
   "outputs": [],
   "source": [
    "C_ocean = ocean_CAM5.ravel()\n",
    "C_land = land_CAM5.ravel()\n",
    "\n",
    "D_ocean = ocean_DNN.ravel()\n",
    "D_land = land_DNN.ravel()\n",
    "\n",
    "DP_ocean = ocean_Primative_DNN.ravel()\n",
    "DP_land = land_Primiative_DNN.ravel()\n",
    "\n",
    "T_ocean = ocean_SPCAM5.ravel()\n",
    "T_land = land_SPCAM5.ravel()"
   ]
  },
  {
   "cell_type": "code",
   "execution_count": null,
   "metadata": {},
   "outputs": [],
   "source": [
    "ocean_max_values = [np.nanmax(D_ocean), np.nanmax(T_ocean), np.nanmax(C_ocean)]\n",
    "ocean_min_values = [np.nanmin(D_ocean),  np.nanmin(T_ocean),  np.nanmin(C_ocean)]\n",
    "m_ocean = min(ocean_min_values)\n",
    "M_ocean = max(ocean_max_values)\n",
    "land_max_values = [np.nanmax(D_land), np.nanmax(T_land), np.nanmax(C_land)]\n",
    "land_min_values = [np.nanmin(D_land),  np.nanmin(T_land),  np.nanmin(C_land)]\n",
    "m_land = min(land_min_values)\n",
    "M_land = max(land_max_values)"
   ]
  },
  {
   "cell_type": "code",
   "execution_count": null,
   "metadata": {},
   "outputs": [],
   "source": [
    "#np.save(\"/fast/gmooers/Real_Geography_Manuscript/Compressed_Data/Paper_Ocean_SPCAM5_Precip_Prediction.npy\",D_ocean)\n",
    "#np.save(\"/fast/gmooers/Real_Geography_Manuscript/Compressed_Data/Paper_Ocean_SPCAM5_Precip_Primative_Prediction.npy\",DP_ocean)\n",
    "#np.save(\"/fast/gmooers/Real_Geography_Manuscript/Compressed_Data/Paper_Ocean_SPCAM5_Prepip_Truth.npy\",T_ocean)\n",
    "#np.save(\"/fast/gmooers/Real_Geography_Manuscript/Compressed_Data/Paper_Ocean_CAM5_PRECIP.npy\",C_ocean)\n",
    "#np.save(\"/fast/gmooers/Real_Geography_Manuscript/Compressed_Data/Paper_Ocean_Precip_Max_Scalar.npy\",m_ocean)\n",
    "#np.save(\"/fast/gmooers/Real_Geography_Manuscript/Compressed_Data/Paper_Ocean_Precip_Min_Scalar.npy\",M_ocean)\n",
    "\n",
    "#np.save(\"/fast/gmooers/Real_Geography_Manuscript/Compressed_Data/Paper_Land_SPCAM5_Precip_Prediction.npy\",D_land)\n",
    "#np.save(\"/fast/gmooers/Real_Geography_Manuscript/Compressed_Data/Paper_Land_SPCAM5_Precip_Primative_Prediction.npy\",DP_land)\n",
    "#np.save(\"/fast/gmooers/Real_Geography_Manuscript/Compressed_Data/Paper_Land_SPCAM5_Prepip_Truth.npy\",T_land)\n",
    "#np.save(\"/fast/gmooers/Real_Geography_Manuscript/Compressed_Data/Paper_Land_CAM5_PRECIP.npy\",C_land)\n",
    "#np.save(\"/fast/gmooers/Real_Geography_Manuscript/Compressed_Data/Paper_Land_Precip_Max_Scalar.npy\",m_land)\n",
    "#np.save(\"/fast/gmooers/Real_Geography_Manuscript/Compressed_Data/Paper_Land_Precip_Min_Scalar.npy\",M_land)\n",
    "\n",
    "\n",
    "print(\"precip data saved\")"
   ]
  },
  {
   "cell_type": "code",
   "execution_count": null,
   "metadata": {},
   "outputs": [],
   "source": [
    "def array_generator(min_val, max_val, percentage):\n",
    "    listing = []\n",
    "    for i in range(300):\n",
    "        if i == 0:\n",
    "            temp_val = min_val\n",
    "            listing.append(temp_val)\n",
    "        else:\n",
    "            if temp_val < max_val:\n",
    "                temp_val = temp_val*percentage\n",
    "                listing.append(temp_val)\n",
    "        \n",
    "    print(len(listing))\n",
    "    return np.array(listing)\n",
    "#array_generator(0.03, maxi, 1.07)"
   ]
  },
  {
   "cell_type": "code",
   "execution_count": null,
   "metadata": {},
   "outputs": [],
   "source": [
    "bins = array_generator(0.03, M, 1.03)\n",
    "\n",
    "\n",
    "\n",
    "fig, ax = plt.subplots(3,2,figsize=(15,15))\n",
    "\n",
    "shared_bins = np.histogram_bin_edges(D, bins=bins, range=(0, M))\n",
    "freq, edges = np.histogram(D, bins = shared_bins, density=True)\n",
    "bad_freq, bad_edges = np.histogram(PD, bins = shared_bins, density=True)\n",
    "freq_targ, edges_targ = np.histogram(T, bins = shared_bins, density=True)\n",
    "freq_cams, edges_cams = np.histogram(C, bins = shared_bins, density=True)\n",
    "\n",
    "ax[0,1].set_xscale(\"log\")\n",
    "ax[1,1].set_xscale(\"log\")\n",
    "ax[2,1].set_xscale(\"log\")\n",
    "\n",
    "ax[0,0].plot(edges[:-1], freq/np.sum(freq),  label = \"NN\", color = 'blue')\n",
    "ax[0,0].plot(bad_edges[:-1], bad_freq/np.sum(bad_freq),  label = \"Primative NN\", color = 'blue', linestyle=\"--\")\n",
    "ax[0,0].plot(edges_targ[:-1], freq_targ/np.sum(freq_targ), label = \"SPCAM5\", color = 'green')\n",
    "ax[0,0].plot(edges_cams[:-1], freq_cams/np.sum(freq_cams), label = \"CAM5\", color = 'red')\n",
    "ax[0,0].set_ylim(1e-8, 1)\n",
    "\n",
    "ax[2,0].set_xlabel('Rate '+r'$\\left(\\mathrm{mm \\ day^{-1}}\\right)$', fontsize = fz)\n",
    "ax[2,0].xaxis.set_label_coords(1.1,-0.1)\n",
    "ax[1,0].set_ylabel('Probability', fontsize = fz)\n",
    "ax[0,0].set_title('(a) Global PDF', fontsize = fz)\n",
    "ax[1,0].set_title('(c) Ocean PDF', fontsize = fz)\n",
    "ax[2,0].set_title('(e) Land PDF', fontsize = fz)\n",
    "ax[0,0].set_yscale('log')\n",
    "ax[0,0].set_xticks([])\n",
    "    \n",
    "totals = freq*edges[:-1]\n",
    "bad_totals = bad_freq*bad_edges[:-1]\n",
    "totals_targ = freq_targ*edges_targ[:-1]\n",
    "totals_cam = freq_cams*edges_cams[:-1]\n",
    "    \n",
    "ax[0,1].plot(edges[:-1], totals,  label = \"DNN\", color = 'blue')\n",
    "ax[0,1].plot(bad_edges[:-1], bad_totals,  label = \"Primative DNN\", color = 'blue', linestyle=\"--\")\n",
    "ax[0,1].plot(edges_targ[:-1], totals_targ, label = \"SPCAM5\", color = 'green')\n",
    "ax[0,1].plot(edges_cams[:-1], totals_cam, label = \"CAM5\", color = 'red')\n",
    "\n",
    "ax[1,1].set_ylabel('Amount '+r'$\\left(\\mathrm{mm \\ day^{-1}}\\right)$', fontsize = fz)\n",
    "ax[0,1].set_title('(b) Global Amount Distribution', fontsize = fz)\n",
    "ax[1,1].set_title('(d) Ocean Amount Distribution', fontsize = fz)\n",
    "ax[2,1].set_title('(f) Land Amount Distribution', fontsize = fz)\n",
    "ax[0,0].legend(loc = 'best')\n",
    "\n",
    "ax[0,1].yaxis.set_label_position(\"right\")\n",
    "ax[0,1].yaxis.tick_right()\n",
    "ax[0,1].set_xticks([])\n",
    "ax[0,1].set_ylim(0, 0.4)\n",
    "\n",
    "shared_bins = np.histogram_bin_edges(D_ocean, bins=bins, range=(0, M))\n",
    "freq, edges = np.histogram(D_ocean, bins = shared_bins, density=True)\n",
    "bad_freq, bad_edges = np.histogram(DP_ocean, bins = shared_bins, density=True)\n",
    "freq_targ, edges_targ = np.histogram(T_ocean, bins = shared_bins, density=True)\n",
    "freq_cams, edges_cams = np.histogram(C_ocean, bins = shared_bins, density=True)\n",
    "\n",
    "ax[1,0].plot(edges[:-1], freq/np.sum(freq), color = 'blue')\n",
    "ax[1,0].plot(bad_edges[:-1], bad_freq/np.sum(bad_freq), color = 'blue', linestyle=\"--\")\n",
    "ax[1,0].plot(edges_targ[:-1], freq_targ/np.sum(freq_targ), color = 'green')\n",
    "ax[1,0].plot(edges_cams[:-1], freq_cams/np.sum(freq_cams),  color = 'red')\n",
    "ax[1,0].set_xticks([])\n",
    "ax[1,0].set_yscale('log')\n",
    "ax[1,0].set_ylim(1e-8, 1)\n",
    "\n",
    "totals = freq*edges[:-1]\n",
    "bad_totals = bad_freq*bad_edges[:-1]\n",
    "totals_targ = freq_targ*edges_targ[:-1]\n",
    "totals_cam = freq_cams*edges_cams[:-1]\n",
    "\n",
    "ax[1,1].plot(edges[:-1], totals, color = 'blue')\n",
    "ax[1,1].plot(bad_edges[:-1], bad_totals, color = 'blue', linestyle=\"--\")\n",
    "ax[1,1].plot(edges_targ[:-1], totals_targ, color = 'green')\n",
    "ax[1,1].plot(edges_cams[:-1], totals_cam, color = 'red')\n",
    "ax[1,1].set_xticks([])\n",
    "ax[1,1].yaxis.set_label_position(\"right\")\n",
    "ax[1,1].yaxis.tick_right()\n",
    "ax[1,1].set_ylim(0, 0.4)\n",
    "\n",
    "shared_bins = np.histogram_bin_edges(D_land, bins=bins, range=(0, M))\n",
    "freq, edges = np.histogram(D_land, bins = shared_bins, density=True)\n",
    "bad_freq, bad_edges = np.histogram(DP_land, bins = shared_bins, density=True)\n",
    "freq_targ, edges_targ = np.histogram(T_land, bins = shared_bins, density=True)\n",
    "freq_cams, edges_cams = np.histogram(C_land, bins = shared_bins, density=True)\n",
    "\n",
    "ax[2,0].plot(edges[:-1], freq/np.sum(freq), color = 'blue')\n",
    "ax[2,0].plot(bad_edges[:-1], bad_freq/np.sum(bad_freq), color = 'blue', linestyle=\"--\")\n",
    "ax[2,0].plot(edges_targ[:-1], freq_targ/np.sum(freq_targ), color = 'green')\n",
    "ax[2,0].plot(edges_cams[:-1], freq_cams/np.sum(freq_cams),  color = 'red')\n",
    "ax[2,0].set_yscale('log')\n",
    "ax[2,0].set_ylim(1e-8, 1)\n",
    "\n",
    "totals = freq*edges[:-1]\n",
    "bad_totals = bad_freq*bad_edges[:-1]\n",
    "totals_targ = freq_targ*edges_targ[:-1]\n",
    "totals_cam = freq_cams*edges_cams[:-1]\n",
    "\n",
    "ax[2,1].plot(edges[:-1], totals, color = 'blue')\n",
    "ax[2,1].plot(bad_edges[:-1], bad_totals, color = 'blue', linestyle=\"--\")\n",
    "ax[2,1].plot(edges_targ[:-1], totals_targ, color = 'green')\n",
    "ax[2,1].plot(edges_cams[:-1], totals_cam, color = 'red')\n",
    "ax[2,1].yaxis.set_label_position(\"right\")\n",
    "ax[2,1].yaxis.tick_right()\n",
    "ax[2,1].set_ylim(0, 0.4)\n",
    "plt.suptitle(\"Precipitation\", y=0.93)\n",
    "plt.subplots_adjust(wspace=0.01, hspace=0.10)"
   ]
  },
  {
   "cell_type": "code",
   "execution_count": null,
   "metadata": {},
   "outputs": [],
   "source": []
  }
 ],
 "metadata": {
  "kernelspec": {
   "display_name": "Python 3",
   "language": "python",
   "name": "python3"
  },
  "language_info": {
   "codemirror_mode": {
    "name": "ipython",
    "version": 3
   },
   "file_extension": ".py",
   "mimetype": "text/x-python",
   "name": "python",
   "nbconvert_exporter": "python",
   "pygments_lexer": "ipython3",
   "version": "3.7.3"
  }
 },
 "nbformat": 4,
 "nbformat_minor": 4
}
