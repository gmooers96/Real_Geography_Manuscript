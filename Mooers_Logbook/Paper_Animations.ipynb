{
 "cells": [
  {
   "cell_type": "code",
   "execution_count": 1,
   "metadata": {},
   "outputs": [
    {
     "name": "stderr",
     "output_type": "stream",
     "text": [
      "/export/home/gmooers/miniconda3/lib/python3.7/site-packages/ipykernel_launcher.py:25: MatplotlibDeprecationWarning: \n",
      "The dedent function was deprecated in Matplotlib 3.1 and will be removed in 3.3. Use inspect.cleandoc instead.\n"
     ]
    }
   ],
   "source": [
    "import numpy as np\n",
    "import math\n",
    "import scipy\n",
    "import matplotlib.pyplot as plt\n",
    "import matplotlib\n",
    "from matplotlib import animation\n",
    "from mpl_toolkits.axes_grid1 import make_axes_locatable\n",
    "import xarray as xr\n",
    "import dask\n",
    "import scipy\n",
    "import scipy.io as sio\n",
    "import matplotlib.colors as colors\n",
    "import matplotlib.patches as patches\n",
    "from matplotlib import ticker\n",
    "import cartopy\n",
    "import cartopy.feature as cfeature\n",
    "import cartopy.crs as ccrs\n",
    "from mpl_toolkits.basemap import Basemap\n",
    "from statistics import mode\n",
    "from matplotlib import transforms\n",
    "import itertools\n",
    "from sklearn.cluster import KMeans\n",
    "from sklearn.cluster import AgglomerativeClustering\n",
    "from sklearn.cluster import Birch\n",
    "bm = Basemap()\n",
    "import netCDF4\n",
    "\n",
    "import cartopy.feature as cfeature\n",
    "import cartopy.crs as ccrs\n",
    "import matplotlib.ticker as mticker"
   ]
  },
  {
   "cell_type": "code",
   "execution_count": 2,
   "metadata": {},
   "outputs": [],
   "source": [
    "fz = 15\n",
    "lw = 3\n",
    "siz = 100\n",
    "XNNA = 1.25 # Abscissa where architecture-constrained network will be placed\n",
    "XTEXT = 0.25 # Text placement\n",
    "YTEXT = 0.3 # Text placement\n",
    "LWC = 2.0\n",
    "\n",
    "plt.rc('text', usetex=False)\n",
    "matplotlib.rcParams['mathtext.fontset'] = 'stix'\n",
    "matplotlib.rcParams['font.family'] = 'STIXGeneral'\n",
    "#mpl.rcParams[\"font.serif\"] = \"STIX\"\n",
    "plt.rc('font', family='serif', size=fz)\n",
    "matplotlib.rcParams['lines.linewidth'] = lw"
   ]
  },
  {
   "cell_type": "code",
   "execution_count": 3,
   "metadata": {},
   "outputs": [
    {
     "name": "stdout",
     "output_type": "stream",
     "text": [
      "files imported\n"
     ]
    }
   ],
   "source": [
    "#Good_July.nc\n",
    "path_to_file = '/fast/gmooers/Preprocessed_Data/One_Month_July/full_physics_essentials_valid_month02_targets.nc'\n",
    "real_ds = xr.open_dataset(path_to_file)\n",
    "\n",
    "path_to_file = '/fast/gmooers/Models/Good_July.nc'\n",
    "test_ds = xr.open_dataset(path_to_file)\n",
    "\n",
    "print('files imported')"
   ]
  },
  {
   "cell_type": "code",
   "execution_count": 4,
   "metadata": {},
   "outputs": [],
   "source": [
    "heat_SPCAM5 = real_ds.targets[:, 19].values\n",
    "\n",
    "heat_DNN = test_ds.Prediction[:, 19].values\n",
    "\n",
    "moisture_SPCAM5 = real_ds.targets[:, 49].values\n",
    "\n",
    "moisture_DNN = test_ds.Prediction[:, 49].values\n",
    "\n",
    "precip_SPCAM5 = real_ds.targets[:, -1].values\n",
    "\n",
    "precip_DNN = test_ds.Prediction[:, -1].values\n",
    "\n",
    "times = real_ds.time.values\n",
    "\n",
    "lats = real_ds.lat.values\n",
    "\n",
    "lons = real_ds.lon.values"
   ]
  },
  {
   "cell_type": "code",
   "execution_count": 5,
   "metadata": {},
   "outputs": [],
   "source": [
    "x = 144\n",
    "y = 96\n",
    "z = 30\n",
    "t = int(len(heat_SPCAM5)/(x*y))\n",
    "\n",
    "Target_Heat = np.zeros(shape=(x, y, t))\n",
    "NN_Heat = np.zeros(shape=(x, y, t))\n",
    "Target_Moisture = np.zeros(shape=(x, y, t))\n",
    "NN_Moisture = np.zeros(shape=(x, y, t))\n",
    "\n",
    "Target_Precip = np.zeros(shape=(x, y, t))\n",
    "NN_Precip = np.zeros(shape=(x, y, t))\n",
    "\n",
    "count = 0\n",
    "for i in range(t):\n",
    "    for j in range(y):\n",
    "        for k in range(x):\n",
    "            A = heat_SPCAM5[count]\n",
    "            B = heat_DNN[count]\n",
    "            C = moisture_SPCAM5[count]\n",
    "            D = moisture_DNN[count]\n",
    "            E = precip_SPCAM5[count]\n",
    "            F = precip_DNN[count]\n",
    "            Target_Heat[k, j, i] = A\n",
    "            NN_Heat[k, j, i] = B\n",
    "            Target_Moisture[k, j, i] = C\n",
    "            NN_Moisture[k, j, i] = D\n",
    "            Target_Precip[k, j, i] = E\n",
    "            NN_Precip[k, j, i] = F\n",
    "            count = count + 1\n"
   ]
  },
  {
   "cell_type": "code",
   "execution_count": 6,
   "metadata": {},
   "outputs": [],
   "source": [
    "others = netCDF4.Dataset(\"/Compressed_Data/TimestepOutput_Neuralnet_SPCAM_216.cam.h1.2009-01-01-72000.nc\")\n",
    "plev = np.array(others.variables['lev'])\n",
    "ps = np.array(others.variables['PS'])\n",
    "g = 9.81 #m/s^2\n",
    "L = 2256000.0\n",
    "#print(plev)\n",
    "hyai = np.array(others.variables['hyai'])\n",
    "hybi = np.array(others.variables['hybi'])\n",
    "#print(hyai.shape)\n",
    "#print(hyai)\n",
    "cp = 1004.0\n",
    "PS = 1e5\n",
    "P0 = 1e5\n",
    "P = P0*hyai+PS*hybi # Total pressure [Pa]\n",
    "dp = P[1:]-P[:-1] # Differential pressure [Pa]\n",
    "#convert from k/s to w/m^2\n",
    "\n",
    "\n",
    "pressure_weighted_Target_Heat = Target_Heat*dp[19]*cp/g\n",
    "pressure_weighted_NN_Heat = NN_Heat*dp[19]*cp/g\n",
    "\n",
    "pressure_weighted_Target_Moisture = Target_Moisture*dp[19]*L/g\n",
    "pressure_weighted_NN_Moisture = NN_Moisture*dp[19]*L/g\n",
    "\n",
    "weighted_Target_Precip = Target_Precip*86400000.\n",
    "weighted_NN_Precip = NN_Precip*86400000."
   ]
  },
  {
   "cell_type": "code",
   "execution_count": 8,
   "metadata": {},
   "outputs": [],
   "source": [
    "def Heat_Moisture_Small(heat_truth, heat_pred, moisture_truth, moisture_pred, timesteps, vmin, vmax):\n",
    "    fig,ax = plt.subplots(2,2,figsize=(10,7.5),subplot_kw=dict(projection=ccrs.Robinson()))\n",
    "    feat_list = []\n",
    "    for i in range(timesteps):\n",
    "        # (a) Convective Moistening\n",
    "        im_a = ax[0,0].imshow(np.squeeze(moisture_truth[:,:,i]).T,cmap='bwr', vmin = vmin, vmax=vmax, animated=True, transform=ccrs.PlateCarree())\n",
    "        #im = ax[0,0].imshow(coor.TS[it,:,:].values,cmap='bwr',transform=ccrs.PlateCarree())\n",
    "        ax[0,0].set_title('Cloud-Resolving Model')\n",
    "        ax[0,0].set_global()\n",
    "        ax[0,0].add_feature(cfeature.COASTLINE)\n",
    "        if i == 0:\n",
    "            cb = fig.colorbar(im_a, ax=ax[0,0], pad=0.01, extend='both', orientation='horizontal'); \n",
    "            cb.set_label('$\\mathrm{600hPa\\ Convective\\ Moistening\\ (W/m^{2})}$')\n",
    "\n",
    "        # (b) Convective Heating\n",
    "        im_b = ax[0,1].imshow(np.squeeze(heat_truth[:,:,i]).T, cmap='bwr', vmin = vmin, vmax=vmax, animated=True, transform=ccrs.PlateCarree())\n",
    "        ax[0,1].set_title('Cloud-Resolving Model')\n",
    "        ax[0,1].add_feature(cfeature.COASTLINE)\n",
    "        if i == 0:\n",
    "            cb = fig.colorbar(im_b, ax=ax[0,1], pad=0.01, extend='both', orientation='horizontal'); \n",
    "            cb.set_label('$\\mathrm{600hPa\\ Convective\\ Heating\\ (W/m^{2})}$')\n",
    "\n",
    "        # (a) Convective Moistening\n",
    "        im_c = ax[1,0].imshow(np.squeeze(moisture_pred[:,:,i]).T,cmap='bwr', vmin = vmin, vmax=vmax, animated=True, transform=ccrs.PlateCarree())\n",
    "        ax[1,0].set_title('Neural Network')\n",
    "        ax[1,0].add_feature(cfeature.COASTLINE)\n",
    "        #cb = fig.colorbar(im, ax=ax[1,0], pad=0.01, extend='both', orientation='horizontal'); \n",
    "        #cb.set_label('$\\mathrm{PRED\\ 600hPa\\ Convective\\ Moistening\\ (W/m^{2})}$')\n",
    "\n",
    "        # (b) Convective Heating\n",
    "        im_d = ax[1,1].imshow(np.squeeze(heat_pred[:,:,i]).T,cmap='bwr', vmin = vmin, vmax=vmax, animated=True, transform=ccrs.PlateCarree())\n",
    "        ax[1,1].set_title('Neural Network')\n",
    "        ax[1,1].add_feature(cfeature.COASTLINE)\n",
    "        \n",
    "        feat_list.append([im_a, im_b, im_c, im_d])\n",
    "    \n",
    "    ani = animation.ArtistAnimation(fig, feat_list, interval = 100, blit = False, repeat = True)\n",
    "    ani.save('Figures/Basic_Heat_Moisture.mp4')\n",
    "    plt.show()\n",
    "    \n",
    "#Heat_Moisture_Small(pressure_weighted_Target_Heat, pressure_weighted_NN_Heat, pressure_weighted_Target_Moisture, pressure_weighted_NN_Moisture, 100, -150, 150)    "
   ]
  },
  {
   "cell_type": "code",
   "execution_count": 9,
   "metadata": {},
   "outputs": [],
   "source": [
    "def Heat_Moisture(heat_truth, heat_pred, moisture_truth, moisture_pred, timesteps, vmin, vmax):\n",
    "    fig,ax = plt.subplots(2,2,figsize=(10,7.5),subplot_kw=dict(projection=ccrs.Robinson()))\n",
    "    feat_list = []\n",
    "    for i in range(timesteps):\n",
    "        if i %2 == 0:\n",
    "            im_a = ax[0,0].imshow(np.squeeze(moisture_truth[:,:,i]).T,cmap='bwr', vmin = vmin, vmax=vmax, animated=True, transform=ccrs.PlateCarree())\n",
    "            ax[0,0].set_title('Cloud-Resolving Model')\n",
    "            ax[0,0].set_global()\n",
    "            ax[0,0].add_feature(cfeature.COASTLINE)\n",
    "            if i == 0:\n",
    "                cb = fig.colorbar(im_a, ax=ax[0,0], pad=0.01, extend='both', orientation='horizontal'); \n",
    "                cb.set_label('$\\mathrm{600hPa\\ Convective\\ Moistening\\ (W/m^{2})}$')\n",
    "\n",
    "            im_b = ax[0,1].imshow(np.squeeze(heat_truth[:,:,i]).T, cmap='bwr', vmin = vmin, vmax=vmax, animated=True, transform=ccrs.PlateCarree())\n",
    "            ax[0,1].set_title('Cloud-Resolving Model')\n",
    "            ax[0,1].add_feature(cfeature.COASTLINE)\n",
    "            if i == 0:\n",
    "                cb = fig.colorbar(im_b, ax=ax[0,1], pad=0.01, extend='both', orientation='horizontal'); \n",
    "                cb.set_label('$\\mathrm{600hPa\\ Convective\\ Heating\\ (W/m^{2})}$')\n",
    "\n",
    "            im_c = ax[1,0].imshow(np.squeeze(moisture_pred[:,:,i]).T,cmap='bwr', vmin = vmin, vmax=vmax, animated=True, transform=ccrs.PlateCarree())\n",
    "            ax[1,0].set_title('Neural Network')\n",
    "            ax[1,0].add_feature(cfeature.COASTLINE)\n",
    "\n",
    "            im_d = ax[1,1].imshow(np.squeeze(heat_pred[:,:,i]).T,cmap='bwr', vmin = vmin, vmax=vmax, animated=True, transform=ccrs.PlateCarree())\n",
    "            ax[1,1].set_title('Neural Network')\n",
    "            ax[1,1].add_feature(cfeature.COASTLINE)\n",
    "        \n",
    "            feat_list.append([im_a, im_b, im_c, im_d])\n",
    "    \n",
    "    ani = animation.ArtistAnimation(fig, feat_list, interval = 30, blit = False, repeat = True)\n",
    "    ani.save('/fast/gmooers/Figures/14_days_heating_moistening.mp4')\n",
    "    plt.show()\n",
    "    \n",
    "Heat_Moisture(pressure_weighted_Target_Heat, pressure_weighted_NN_Heat, pressure_weighted_Target_Moisture, pressure_weighted_NN_Moisture, 1342, -150, 150) "
   ]
  },
  {
   "cell_type": "code",
   "execution_count": 10,
   "metadata": {},
   "outputs": [],
   "source": [
    "def Daily_Precip(precip_truth, precip_pred, timesteps, vmin, vmax):\n",
    "    fig,ax = plt.subplots(2,1,figsize=(5,7.5),subplot_kw=dict(projection=ccrs.Robinson()))\n",
    "    feat_list = []\n",
    "    for i in range(timesteps):\n",
    "        im_a = ax[0].imshow(np.squeeze(precip_truth[:,:,i]).T,cmap='Greens', vmin = vmin, vmax=vmax, animated=True, transform=ccrs.PlateCarree())\n",
    "        ax[0].set_title('Cloud-Resolving Model')\n",
    "        ax[0].set_global()\n",
    "        ax[0].add_feature(cfeature.COASTLINE)\n",
    "        if i == 0:\n",
    "            cb = fig.colorbar(im_a, ax=ax[0], pad=0.01, extend='both', orientation='horizontal'); \n",
    "            cb.set_label('$\\mathrm{Precipitation\\ Rate\\ (mm/day)}$')\n",
    "\n",
    "        im_b = ax[1].imshow(np.squeeze(precip_pred[:,:,i]).T, cmap='Greens', vmin = vmin, vmax=vmax, animated=True, transform=ccrs.PlateCarree())\n",
    "        ax[1].set_title('Neural Network')\n",
    "        ax[1].add_feature(cfeature.COASTLINE)\n",
    "        \n",
    "        feat_list.append([im_a, im_b])\n",
    "    \n",
    "    ani = animation.ArtistAnimation(fig, feat_list, interval = 100, blit = False, repeat = True)\n",
    "    ani.save('/fast/gmooers/Figures/1_Day_Precip.mp4')\n",
    "    plt.show()\n",
    "    \n",
    "#Daily_Precip(weighted_Target_Precip, weighted_NN_Precip, 100, 0, 50)    "
   ]
  },
  {
   "cell_type": "code",
   "execution_count": 11,
   "metadata": {},
   "outputs": [],
   "source": [
    "def Two_Week_Precip(precip_truth, precip_pred, timesteps, vmin, vmax):\n",
    "    fig,ax = plt.subplots(2,1,figsize=(5,7.5),subplot_kw=dict(projection=ccrs.Robinson()))\n",
    "    feat_list = []\n",
    "    for i in range(timesteps):\n",
    "        if i%2==0:\n",
    "            im_a = ax[0].imshow(np.squeeze(precip_truth[:,:,i]).T,cmap='Greens', vmin = vmin, vmax=vmax, animated=True, transform=ccrs.PlateCarree())\n",
    "            ax[0].set_title('Cloud-Resolving Model')\n",
    "            ax[0].set_global()\n",
    "            ax[0].add_feature(cfeature.COASTLINE)\n",
    "            if i == 0:\n",
    "                cb = fig.colorbar(im_a, ax=ax[0], pad=0.01, extend='both', orientation='horizontal'); \n",
    "                cb.set_label('$\\mathrm{Precipitation\\ Rate\\ (mm/day)}$')\n",
    "\n",
    "            im_b = ax[1].imshow(np.squeeze(precip_pred[:,:,i]).T, cmap='Greens', vmin = vmin, vmax=vmax, animated=True, transform=ccrs.PlateCarree())\n",
    "            ax[1].set_title('Neural Network')\n",
    "            ax[1].add_feature(cfeature.COASTLINE)\n",
    "        \n",
    "            feat_list.append([im_a, im_b])\n",
    "    \n",
    "    ani = animation.ArtistAnimation(fig, feat_list, interval = 50, blit = False, repeat = True)\n",
    "    ani.save('/fast/gmooers/Figures/14_Day_Precip.mp4')\n",
    "    plt.show()\n",
    "    \n",
    "#Two_Week_Precip(weighted_Target_Precip, weighted_NN_Precip, 1342, 0, 50) "
   ]
  },
  {
   "cell_type": "code",
   "execution_count": 13,
   "metadata": {},
   "outputs": [
    {
     "name": "stderr",
     "output_type": "stream",
     "text": [
      "/export/home/gmooers/miniconda3/lib/python3.7/site-packages/ipykernel_launcher.py:1: RuntimeWarning: divide by zero encountered in log10\n",
      "  \"\"\"Entry point for launching an IPython kernel.\n",
      "/export/home/gmooers/miniconda3/lib/python3.7/site-packages/ipykernel_launcher.py:2: RuntimeWarning: divide by zero encountered in log10\n",
      "  \n",
      "/export/home/gmooers/miniconda3/lib/python3.7/site-packages/ipykernel_launcher.py:2: RuntimeWarning: invalid value encountered in log10\n",
      "  \n"
     ]
    }
   ],
   "source": [
    "log_weighted_Target_Precip = np.log10(weighted_Target_Precip)\n",
    "log_weighted_NN_Precip = np.log10(weighted_NN_Precip)"
   ]
  },
  {
   "cell_type": "code",
   "execution_count": 15,
   "metadata": {},
   "outputs": [
    {
     "data": {
      "image/png": "[encoded data removed]",
      "text/plain": [
       "<Figure size 360x540 with 3 Axes>"
      ]
     },
     "metadata": {
      "needs_background": "light"
     },
     "output_type": "display_data"
    }
   ],
   "source": [
    "def Log_Precip(precip_truth, precip_pred, timesteps, vmin, vmax):\n",
    "    fig,ax = plt.subplots(2,1,figsize=(5,7.5),subplot_kw=dict(projection=ccrs.Robinson()))\n",
    "    feat_list = []\n",
    "    for i in range(timesteps):\n",
    "        if i%2==0:\n",
    "            im_a = ax[0].imshow(np.squeeze(precip_truth[:,:,i]).T,cmap='Greens', vmin = vmin, vmax=vmax, animated=True, transform=ccrs.PlateCarree())\n",
    "            ax[0].set_title('Cloud-Resolving Model')\n",
    "            ax[0].set_global()\n",
    "            ax[0].add_feature(cfeature.COASTLINE)\n",
    "            if i == 0:\n",
    "                cb = fig.colorbar(im_a, ax=ax[0], pad=0.01, extend='both', orientation='horizontal'); \n",
    "                cb.set_label('$\\mathrm{Log\\ Precipitation\\ Rate\\ (mm/day)}$')\n",
    "\n",
    "            im_b = ax[1].imshow(np.squeeze(precip_pred[:,:,i]).T, cmap='Greens', vmin = vmin, vmax=vmax, animated=True, transform=ccrs.PlateCarree())\n",
    "            ax[1].set_title('Neural Network')\n",
    "            ax[1].add_feature(cfeature.COASTLINE)\n",
    "        \n",
    "            feat_list.append([im_a, im_b])\n",
    "    \n",
    "    ani = animation.ArtistAnimation(fig, feat_list, interval = 50, blit = False, repeat = True)\n",
    "    ani.save('/fast/gmooers/Figures/14_Day_Log10_Precip.mp4')\n",
    "    plt.show()\n",
    "    \n",
    "#Log_Precip(log_weighted_Target_Precip, log_weighted_NN_Precip, 1342, 0, 1.7) "
   ]
  }
 ],
 "metadata": {
  "kernelspec": {
   "display_name": "Python 3",
   "language": "python",
   "name": "python3"
  },
  "language_info": {
   "codemirror_mode": {
    "name": "ipython",
    "version": 3
   },
   "file_extension": ".py",
   "mimetype": "text/x-python",
   "name": "python",
   "nbconvert_exporter": "python",
   "pygments_lexer": "ipython3",
   "version": "3.7.3"
  }
 },
 "nbformat": 4,
 "nbformat_minor": 4
}
