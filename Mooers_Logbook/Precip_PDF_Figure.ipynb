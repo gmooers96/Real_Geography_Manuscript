{
 "cells": [
  {
   "cell_type": "code",
   "execution_count": 1,
   "metadata": {},
   "outputs": [
    {
     "name": "stderr",
     "output_type": "stream",
     "text": [
      "/export/home/gmooers/miniconda3/lib/python3.7/site-packages/ipykernel_launcher.py:39: MatplotlibDeprecationWarning: \n",
      "The dedent function was deprecated in Matplotlib 3.1 and will be removed in 3.3. Use inspect.cleandoc instead.\n"
     ]
    }
   ],
   "source": [
    "import pickle, pprint\n",
    "import math\n",
    "import netCDF4\n",
    "import numpy as np\n",
    "import time\n",
    "import matplotlib.pyplot as plt\n",
    "from scipy import stats\n",
    "from scipy.ndimage import gaussian_filter\n",
    "import pandas as pd\n",
    "from tabulate import tabulate\n",
    "import xarray as xr\n",
    "import dask\n",
    "\n",
    "import seaborn as sns\n",
    "\n",
    "import matplotlib\n",
    "from matplotlib.gridspec import GridSpec\n",
    "from matplotlib import animation\n",
    "from matplotlib import transforms\n",
    "from mpl_toolkits.axes_grid1 import make_axes_locatable\n",
    "import matplotlib.image as imag\n",
    "from matplotlib.ticker import NullFormatter\n",
    "import matplotlib.ticker as mticker\n",
    "import types\n",
    "\n",
    "\n",
    "import matplotlib.colors as colors\n",
    "import matplotlib.patches as patches\n",
    "from matplotlib import ticker\n",
    "import cartopy\n",
    "import cartopy.feature as cfeature\n",
    "import cartopy.crs as ccrs\n",
    "\n",
    "import csv\n",
    "import pandas as pd\n",
    "import os\n",
    "\n",
    "from mpl_toolkits.basemap import Basemap\n",
    "bm = Basemap()\n",
    "\n",
    "import types\n",
    "def bottom_offset(self, bboxes, bboxes2):\n",
    "    bottom = self.axes.bbox.ymin\n",
    "    self.offsetText.set(va=\"top\", ha=\"left\")\n",
    "    self.offsetText.set_position(\n",
    "            (0, bottom - self.OFFSETTEXTPAD * self.figure.dpi / 72.0))\n",
    "\n",
    "\n",
    "def register_bottom_offset(axis, func):\n",
    "    axis._update_offset_text_position = types.MethodType(func, axis)"
   ]
  },
  {
   "cell_type": "code",
   "execution_count": 2,
   "metadata": {},
   "outputs": [
    {
     "name": "stdout",
     "output_type": "stream",
     "text": [
      "(96, 144)\n"
     ]
    }
   ],
   "source": [
    "path_to_file = '/fast/gmooers/Raw_Data/extras/TimestepOutput_Neuralnet_SPCAM_216.cam.h0.2018-07.nc'\n",
    "land_frac = xr.open_dataset(path_to_file)\n",
    "land_f = np.squeeze(land_frac.LANDFRAC.values)\n",
    "print(land_f.shape)"
   ]
  },
  {
   "cell_type": "code",
   "execution_count": 3,
   "metadata": {},
   "outputs": [],
   "source": [
    "fz = 15*1.5\n",
    "lw = 4\n",
    "siz = 100\n",
    "XNNA = 1.25 # Abscissa where architecture-constrained network will be placed\n",
    "XTEXT = 0.25 # Text placement\n",
    "YTEXT = 0.3 # Text placement\n",
    "\n",
    "plt.rc('text', usetex=False)\n",
    "matplotlib.rcParams['mathtext.fontset'] = 'stix'\n",
    "matplotlib.rcParams['font.family'] = 'STIXGeneral'\n",
    "#mpl.rcParams[\"font.serif\"] = \"STIX\"\n",
    "plt.rc('font', family='serif', size=fz)\n",
    "matplotlib.rcParams['lines.linewidth'] = lw"
   ]
  },
  {
   "cell_type": "code",
   "execution_count": 4,
   "metadata": {},
   "outputs": [
    {
     "ename": "FileNotFoundError",
     "evalue": "[Errno 2] No such file or directory: b'/fast/gmooers/Real_Geography_Manuscript/Models/3_Months_Summer_Linear_Baseline.nc'",
     "output_type": "error",
     "traceback": [
      "\u001b[0;31m---------------------------------------------------------------------------\u001b[0m",
      "\u001b[0;31mKeyError\u001b[0m                                  Traceback (most recent call last)",
      "\u001b[0;32m/export/home/gmooers/miniconda3/lib/python3.7/site-packages/xarray/backends/file_manager.py\u001b[0m in \u001b[0;36macquire\u001b[0;34m(self, needs_lock)\u001b[0m\n\u001b[1;32m    166\u001b[0m             \u001b[0;32mtry\u001b[0m\u001b[0;34m:\u001b[0m\u001b[0;34m\u001b[0m\u001b[0;34m\u001b[0m\u001b[0m\n\u001b[0;32m--> 167\u001b[0;31m                 \u001b[0mfile\u001b[0m \u001b[0;34m=\u001b[0m \u001b[0mself\u001b[0m\u001b[0;34m.\u001b[0m\u001b[0m_cache\u001b[0m\u001b[0;34m[\u001b[0m\u001b[0mself\u001b[0m\u001b[0;34m.\u001b[0m\u001b[0m_key\u001b[0m\u001b[0;34m]\u001b[0m\u001b[0;34m\u001b[0m\u001b[0;34m\u001b[0m\u001b[0m\n\u001b[0m\u001b[1;32m    168\u001b[0m             \u001b[0;32mexcept\u001b[0m \u001b[0mKeyError\u001b[0m\u001b[0;34m:\u001b[0m\u001b[0;34m\u001b[0m\u001b[0;34m\u001b[0m\u001b[0m\n",
      "\u001b[0;32m/export/home/gmooers/miniconda3/lib/python3.7/site-packages/xarray/backends/lru_cache.py\u001b[0m in \u001b[0;36m__getitem__\u001b[0;34m(self, key)\u001b[0m\n\u001b[1;32m     41\u001b[0m         \u001b[0;32mwith\u001b[0m \u001b[0mself\u001b[0m\u001b[0;34m.\u001b[0m\u001b[0m_lock\u001b[0m\u001b[0;34m:\u001b[0m\u001b[0;34m\u001b[0m\u001b[0;34m\u001b[0m\u001b[0m\n\u001b[0;32m---> 42\u001b[0;31m             \u001b[0mvalue\u001b[0m \u001b[0;34m=\u001b[0m \u001b[0mself\u001b[0m\u001b[0;34m.\u001b[0m\u001b[0m_cache\u001b[0m\u001b[0;34m[\u001b[0m\u001b[0mkey\u001b[0m\u001b[0;34m]\u001b[0m\u001b[0;34m\u001b[0m\u001b[0;34m\u001b[0m\u001b[0m\n\u001b[0m\u001b[1;32m     43\u001b[0m             \u001b[0mself\u001b[0m\u001b[0;34m.\u001b[0m\u001b[0m_cache\u001b[0m\u001b[0;34m.\u001b[0m\u001b[0mmove_to_end\u001b[0m\u001b[0;34m(\u001b[0m\u001b[0mkey\u001b[0m\u001b[0;34m)\u001b[0m\u001b[0;34m\u001b[0m\u001b[0;34m\u001b[0m\u001b[0m\n",
      "\u001b[0;31mKeyError\u001b[0m: [<function _open_netcdf4_group at 0x7fb3426c9840>, ('/fast/gmooers/Real_Geography_Manuscript/Models/3_Months_Summer_Linear_Baseline.nc', CombinedLock([<SerializableLock: a08c47b2-b7ee-4f76-97fc-b62f938b56fb>, <SerializableLock: 0c5cf406-ac58-4f4d-86ec-34243367cf6e>])), 'r', (('clobber', True), ('diskless', False), ('format', 'NETCDF4'), ('group', None), ('persist', False))]",
      "\nDuring handling of the above exception, another exception occurred:\n",
      "\u001b[0;31mFileNotFoundError\u001b[0m                         Traceback (most recent call last)",
      "\u001b[0;32m<ipython-input-4-9f204870e340>\u001b[0m in \u001b[0;36m<module>\u001b[0;34m\u001b[0m\n\u001b[1;32m     12\u001b[0m \u001b[0;34m\u001b[0m\u001b[0m\n\u001b[1;32m     13\u001b[0m \u001b[0mpath_to_file\u001b[0m \u001b[0;34m=\u001b[0m \u001b[0;34m'../Models/3_Months_Summer_Linear_Baseline.nc'\u001b[0m\u001b[0;34m\u001b[0m\u001b[0;34m\u001b[0m\u001b[0m\n\u001b[0;32m---> 14\u001b[0;31m \u001b[0mLinear_Baseline_ds\u001b[0m \u001b[0;34m=\u001b[0m \u001b[0mxr\u001b[0m\u001b[0;34m.\u001b[0m\u001b[0mopen_dataset\u001b[0m\u001b[0;34m(\u001b[0m\u001b[0mpath_to_file\u001b[0m\u001b[0;34m)\u001b[0m\u001b[0;34m\u001b[0m\u001b[0;34m\u001b[0m\u001b[0m\n\u001b[0m\u001b[1;32m     15\u001b[0m \u001b[0;34m\u001b[0m\u001b[0m\n\u001b[1;32m     16\u001b[0m \u001b[0;31m#path_to_file = 'Models/Paper_Full_2018.nc'\u001b[0m\u001b[0;34m\u001b[0m\u001b[0;34m\u001b[0m\u001b[0;34m\u001b[0m\u001b[0m\n",
      "\u001b[0;32m/export/home/gmooers/miniconda3/lib/python3.7/site-packages/xarray/backends/api.py\u001b[0m in \u001b[0;36mopen_dataset\u001b[0;34m(filename_or_obj, group, decode_cf, mask_and_scale, decode_times, autoclose, concat_characters, decode_coords, engine, chunks, lock, cache, drop_variables, backend_kwargs, use_cftime)\u001b[0m\n\u001b[1;32m    361\u001b[0m         \u001b[0;32mif\u001b[0m \u001b[0mengine\u001b[0m \u001b[0;34m==\u001b[0m \u001b[0;34m'netcdf4'\u001b[0m\u001b[0;34m:\u001b[0m\u001b[0;34m\u001b[0m\u001b[0;34m\u001b[0m\u001b[0m\n\u001b[1;32m    362\u001b[0m             store = backends.NetCDF4DataStore.open(\n\u001b[0;32m--> 363\u001b[0;31m                 filename_or_obj, group=group, lock=lock, **backend_kwargs)\n\u001b[0m\u001b[1;32m    364\u001b[0m         \u001b[0;32melif\u001b[0m \u001b[0mengine\u001b[0m \u001b[0;34m==\u001b[0m \u001b[0;34m'scipy'\u001b[0m\u001b[0;34m:\u001b[0m\u001b[0;34m\u001b[0m\u001b[0;34m\u001b[0m\u001b[0m\n\u001b[1;32m    365\u001b[0m             \u001b[0mstore\u001b[0m \u001b[0;34m=\u001b[0m \u001b[0mbackends\u001b[0m\u001b[0;34m.\u001b[0m\u001b[0mScipyDataStore\u001b[0m\u001b[0;34m(\u001b[0m\u001b[0mfilename_or_obj\u001b[0m\u001b[0;34m,\u001b[0m \u001b[0;34m**\u001b[0m\u001b[0mbackend_kwargs\u001b[0m\u001b[0;34m)\u001b[0m\u001b[0;34m\u001b[0m\u001b[0;34m\u001b[0m\u001b[0m\n",
      "\u001b[0;32m/export/home/gmooers/miniconda3/lib/python3.7/site-packages/xarray/backends/netCDF4_.py\u001b[0m in \u001b[0;36mopen\u001b[0;34m(cls, filename, mode, format, group, clobber, diskless, persist, lock, lock_maker, autoclose)\u001b[0m\n\u001b[1;32m    350\u001b[0m             kwargs=dict(group=group, clobber=clobber, diskless=diskless,\n\u001b[1;32m    351\u001b[0m                         persist=persist, format=format))\n\u001b[0;32m--> 352\u001b[0;31m         \u001b[0;32mreturn\u001b[0m \u001b[0mcls\u001b[0m\u001b[0;34m(\u001b[0m\u001b[0mmanager\u001b[0m\u001b[0;34m,\u001b[0m \u001b[0mlock\u001b[0m\u001b[0;34m=\u001b[0m\u001b[0mlock\u001b[0m\u001b[0;34m,\u001b[0m \u001b[0mautoclose\u001b[0m\u001b[0;34m=\u001b[0m\u001b[0mautoclose\u001b[0m\u001b[0;34m)\u001b[0m\u001b[0;34m\u001b[0m\u001b[0;34m\u001b[0m\u001b[0m\n\u001b[0m\u001b[1;32m    353\u001b[0m \u001b[0;34m\u001b[0m\u001b[0m\n\u001b[1;32m    354\u001b[0m     \u001b[0;34m@\u001b[0m\u001b[0mproperty\u001b[0m\u001b[0;34m\u001b[0m\u001b[0;34m\u001b[0m\u001b[0m\n",
      "\u001b[0;32m/export/home/gmooers/miniconda3/lib/python3.7/site-packages/xarray/backends/netCDF4_.py\u001b[0m in \u001b[0;36m__init__\u001b[0;34m(self, manager, lock, autoclose)\u001b[0m\n\u001b[1;32m    309\u001b[0m \u001b[0;34m\u001b[0m\u001b[0m\n\u001b[1;32m    310\u001b[0m         \u001b[0mself\u001b[0m\u001b[0;34m.\u001b[0m\u001b[0m_manager\u001b[0m \u001b[0;34m=\u001b[0m \u001b[0mmanager\u001b[0m\u001b[0;34m\u001b[0m\u001b[0;34m\u001b[0m\u001b[0m\n\u001b[0;32m--> 311\u001b[0;31m         \u001b[0mself\u001b[0m\u001b[0;34m.\u001b[0m\u001b[0mformat\u001b[0m \u001b[0;34m=\u001b[0m \u001b[0mself\u001b[0m\u001b[0;34m.\u001b[0m\u001b[0mds\u001b[0m\u001b[0;34m.\u001b[0m\u001b[0mdata_model\u001b[0m\u001b[0;34m\u001b[0m\u001b[0;34m\u001b[0m\u001b[0m\n\u001b[0m\u001b[1;32m    312\u001b[0m         \u001b[0mself\u001b[0m\u001b[0;34m.\u001b[0m\u001b[0m_filename\u001b[0m \u001b[0;34m=\u001b[0m \u001b[0mself\u001b[0m\u001b[0;34m.\u001b[0m\u001b[0mds\u001b[0m\u001b[0;34m.\u001b[0m\u001b[0mfilepath\u001b[0m\u001b[0;34m(\u001b[0m\u001b[0;34m)\u001b[0m\u001b[0;34m\u001b[0m\u001b[0;34m\u001b[0m\u001b[0m\n\u001b[1;32m    313\u001b[0m         \u001b[0mself\u001b[0m\u001b[0;34m.\u001b[0m\u001b[0mis_remote\u001b[0m \u001b[0;34m=\u001b[0m \u001b[0mis_remote_uri\u001b[0m\u001b[0;34m(\u001b[0m\u001b[0mself\u001b[0m\u001b[0;34m.\u001b[0m\u001b[0m_filename\u001b[0m\u001b[0;34m)\u001b[0m\u001b[0;34m\u001b[0m\u001b[0;34m\u001b[0m\u001b[0m\n",
      "\u001b[0;32m/export/home/gmooers/miniconda3/lib/python3.7/site-packages/xarray/backends/netCDF4_.py\u001b[0m in \u001b[0;36mds\u001b[0;34m(self)\u001b[0m\n\u001b[1;32m    354\u001b[0m     \u001b[0;34m@\u001b[0m\u001b[0mproperty\u001b[0m\u001b[0;34m\u001b[0m\u001b[0;34m\u001b[0m\u001b[0m\n\u001b[1;32m    355\u001b[0m     \u001b[0;32mdef\u001b[0m \u001b[0mds\u001b[0m\u001b[0;34m(\u001b[0m\u001b[0mself\u001b[0m\u001b[0;34m)\u001b[0m\u001b[0;34m:\u001b[0m\u001b[0;34m\u001b[0m\u001b[0;34m\u001b[0m\u001b[0m\n\u001b[0;32m--> 356\u001b[0;31m         \u001b[0;32mreturn\u001b[0m \u001b[0mself\u001b[0m\u001b[0;34m.\u001b[0m\u001b[0m_manager\u001b[0m\u001b[0;34m.\u001b[0m\u001b[0macquire\u001b[0m\u001b[0;34m(\u001b[0m\u001b[0;34m)\u001b[0m\u001b[0;34m.\u001b[0m\u001b[0mvalue\u001b[0m\u001b[0;34m\u001b[0m\u001b[0;34m\u001b[0m\u001b[0m\n\u001b[0m\u001b[1;32m    357\u001b[0m \u001b[0;34m\u001b[0m\u001b[0m\n\u001b[1;32m    358\u001b[0m     \u001b[0;32mdef\u001b[0m \u001b[0mopen_store_variable\u001b[0m\u001b[0;34m(\u001b[0m\u001b[0mself\u001b[0m\u001b[0;34m,\u001b[0m \u001b[0mname\u001b[0m\u001b[0;34m,\u001b[0m \u001b[0mvar\u001b[0m\u001b[0;34m)\u001b[0m\u001b[0;34m:\u001b[0m\u001b[0;34m\u001b[0m\u001b[0;34m\u001b[0m\u001b[0m\n",
      "\u001b[0;32m/export/home/gmooers/miniconda3/lib/python3.7/site-packages/xarray/backends/file_manager.py\u001b[0m in \u001b[0;36macquire\u001b[0;34m(self, needs_lock)\u001b[0m\n\u001b[1;32m    171\u001b[0m                     \u001b[0mkwargs\u001b[0m \u001b[0;34m=\u001b[0m \u001b[0mkwargs\u001b[0m\u001b[0;34m.\u001b[0m\u001b[0mcopy\u001b[0m\u001b[0;34m(\u001b[0m\u001b[0;34m)\u001b[0m\u001b[0;34m\u001b[0m\u001b[0;34m\u001b[0m\u001b[0m\n\u001b[1;32m    172\u001b[0m                     \u001b[0mkwargs\u001b[0m\u001b[0;34m[\u001b[0m\u001b[0;34m'mode'\u001b[0m\u001b[0;34m]\u001b[0m \u001b[0;34m=\u001b[0m \u001b[0mself\u001b[0m\u001b[0;34m.\u001b[0m\u001b[0m_mode\u001b[0m\u001b[0;34m\u001b[0m\u001b[0;34m\u001b[0m\u001b[0m\n\u001b[0;32m--> 173\u001b[0;31m                 \u001b[0mfile\u001b[0m \u001b[0;34m=\u001b[0m \u001b[0mself\u001b[0m\u001b[0;34m.\u001b[0m\u001b[0m_opener\u001b[0m\u001b[0;34m(\u001b[0m\u001b[0;34m*\u001b[0m\u001b[0mself\u001b[0m\u001b[0;34m.\u001b[0m\u001b[0m_args\u001b[0m\u001b[0;34m,\u001b[0m \u001b[0;34m**\u001b[0m\u001b[0mkwargs\u001b[0m\u001b[0;34m)\u001b[0m\u001b[0;34m\u001b[0m\u001b[0;34m\u001b[0m\u001b[0m\n\u001b[0m\u001b[1;32m    174\u001b[0m                 \u001b[0;32mif\u001b[0m \u001b[0mself\u001b[0m\u001b[0;34m.\u001b[0m\u001b[0m_mode\u001b[0m \u001b[0;34m==\u001b[0m \u001b[0;34m'w'\u001b[0m\u001b[0;34m:\u001b[0m\u001b[0;34m\u001b[0m\u001b[0;34m\u001b[0m\u001b[0m\n\u001b[1;32m    175\u001b[0m                     \u001b[0;31m# ensure file doesn't get overriden when opened again\u001b[0m\u001b[0;34m\u001b[0m\u001b[0;34m\u001b[0m\u001b[0;34m\u001b[0m\u001b[0m\n",
      "\u001b[0;32m/export/home/gmooers/miniconda3/lib/python3.7/site-packages/xarray/backends/netCDF4_.py\u001b[0m in \u001b[0;36m_open_netcdf4_group\u001b[0;34m(filename, lock, mode, group, **kwargs)\u001b[0m\n\u001b[1;32m    242\u001b[0m     \u001b[0;32mimport\u001b[0m \u001b[0mnetCDF4\u001b[0m \u001b[0;32mas\u001b[0m \u001b[0mnc4\u001b[0m\u001b[0;34m\u001b[0m\u001b[0;34m\u001b[0m\u001b[0m\n\u001b[1;32m    243\u001b[0m \u001b[0;34m\u001b[0m\u001b[0m\n\u001b[0;32m--> 244\u001b[0;31m     \u001b[0mds\u001b[0m \u001b[0;34m=\u001b[0m \u001b[0mnc4\u001b[0m\u001b[0;34m.\u001b[0m\u001b[0mDataset\u001b[0m\u001b[0;34m(\u001b[0m\u001b[0mfilename\u001b[0m\u001b[0;34m,\u001b[0m \u001b[0mmode\u001b[0m\u001b[0;34m=\u001b[0m\u001b[0mmode\u001b[0m\u001b[0;34m,\u001b[0m \u001b[0;34m**\u001b[0m\u001b[0mkwargs\u001b[0m\u001b[0;34m)\u001b[0m\u001b[0;34m\u001b[0m\u001b[0;34m\u001b[0m\u001b[0m\n\u001b[0m\u001b[1;32m    245\u001b[0m \u001b[0;34m\u001b[0m\u001b[0m\n\u001b[1;32m    246\u001b[0m     \u001b[0;32mwith\u001b[0m \u001b[0mclose_on_error\u001b[0m\u001b[0;34m(\u001b[0m\u001b[0mds\u001b[0m\u001b[0;34m)\u001b[0m\u001b[0;34m:\u001b[0m\u001b[0;34m\u001b[0m\u001b[0;34m\u001b[0m\u001b[0m\n",
      "\u001b[0;32mnetCDF4/_netCDF4.pyx\u001b[0m in \u001b[0;36mnetCDF4._netCDF4.Dataset.__init__\u001b[0;34m()\u001b[0m\n",
      "\u001b[0;32mnetCDF4/_netCDF4.pyx\u001b[0m in \u001b[0;36mnetCDF4._netCDF4._ensure_nc_success\u001b[0;34m()\u001b[0m\n",
      "\u001b[0;31mFileNotFoundError\u001b[0m: [Errno 2] No such file or directory: b'/fast/gmooers/Real_Geography_Manuscript/Models/3_Months_Summer_Linear_Baseline.nc'"
     ]
    }
   ],
   "source": [
    "path_to_file = '../Preprocessed_Data/Summer_Months/full_physics_essentials_valid_month02_targets.nc'\n",
    "real_ds = xr.open_dataset(path_to_file)\n",
    "\n",
    "path_to_file = '../Models/Summer_Sigmoid_Summer.nc'\n",
    "Softmax_ds = xr.open_dataset(path_to_file)\n",
    "\n",
    "path_to_file = '../Models/Summer_Softplus_Summer.nc'\n",
    "Softplus_ds = xr.open_dataset(path_to_file)\n",
    "\n",
    "path_to_file = '../Models/Summer_Exponential_Summer.nc'\n",
    "Exponential_ds = xr.open_dataset(path_to_file)\n",
    "\n",
    "path_to_file = '../Models/3_Months_Summer_Linear_Baseline.nc'\n",
    "Linear_Baseline_ds = xr.open_dataset(path_to_file)\n",
    "\n",
    "#path_to_file = 'Models/Paper_Full_2018.nc'\n",
    "#prehttp://localhost:8899/notebooks/Real_Geography_Manuscript/Mooers_Logbook/Precip_PDF_Figure.ipynb#dict_ds = xr.open_dataset(path_to_file)"
   ]
  },
  {
   "cell_type": "code",
   "execution_count": 26,
   "metadata": {},
   "outputs": [
    {
     "name": "stdout",
     "output_type": "stream",
     "text": [
      "8831\n"
     ]
    }
   ],
   "source": [
    "precip_SPCAM5_ds = np.squeeze(real_ds.targets[:,-1].values)\n",
    "precip_Softmax_ds = np.squeeze(Softmax_ds.Prediction[:,-1].values)\n",
    "precip_Softplus_ds = np.squeeze(Softplus_ds.Prediction[:,-1].values)\n",
    "precip_Exponential_ds = np.squeeze(Exponential_ds.Prediction[:,-1].values)\n",
    "precip_Linear_Baseline_ds = np.squeeze(Linear_Baseline_ds.Prediction[:,-1].values)\n",
    "\n",
    "precip_SPCAM5_ds = precip_SPCAM5_ds*86400000.\n",
    "precip_Softmax_ds = precip_Softmax_ds*86400000.\n",
    "precip_Softplus_ds = precip_Softplus_ds*86400000.\n",
    "precip_Exponential_ds = precip_Exponential_ds*86400000.\n",
    "precip_Linear_Baseline_ds = precip_Linear_Baseline_ds*86400000.\n",
    "\n",
    "times = real_ds.time.values\n",
    "\n",
    "lats = np.linspace(-90.0, 90.0, 96)\n",
    "lons = np.linspace(0.0, 357.5, 144)\n",
    "\n",
    "Xvar, Yvar = np.meshgrid(lons, lats)\n",
    "\n",
    "x = 144\n",
    "y = 96\n",
    "z = 30\n",
    "t = int(len(precip_SPCAM5_ds)/(x*y))\n",
    "print(t)"
   ]
  },
  {
   "cell_type": "code",
   "execution_count": 27,
   "metadata": {},
   "outputs": [],
   "source": [
    "Softmax_all = precip_Softmax_ds.ravel()\n",
    "Softplus_all = precip_Softplus_ds.ravel()\n",
    "Exponential_all = precip_Exponential_ds.ravel()\n",
    "Linear_Baseline_all = precip_Linear_Baseline_ds.ravel()\n",
    "\n",
    "all_max_values = [np.nanmax(Softmax_all), np.nanmax(Softplus_all), np.nanmax(Exponential_all), np.nanmax(Linear_Baseline_all)]\n",
    "all_min_values = [np.nanmin(Softmax_all), np.nanmin(Softplus_all), np.nanmin(Exponential_all), np.nanmin(Linear_Baseline_all)]\n",
    "m_ocean = min(all_min_values)\n",
    "M_ocean = max(all_max_values)"
   ]
  },
  {
   "cell_type": "code",
   "execution_count": 28,
   "metadata": {},
   "outputs": [],
   "source": [
    "np.save(\"/fast/gmooers/Real_Geography_Manuscript/Data_For_Paper/Paper_Summer_SPCAM5_Precip_Sigmoid_PDF.npy\",Softmax_all)\n",
    "np.save(\"/fast/gmooers/Real_Geography_Manuscript/Data_For_Paper/Paper_Summer_SPCAM5_Precip_Softplus_PDF.npy\",Softplus_all)\n",
    "np.save(\"/fast/gmooers/Real_Geography_Manuscript/Data_For_Paper/Paper_Summer_SPCAM5_Prepip_Exponential_PDF.npy\",Exponential_all)\n",
    "np.save(\"/fast/gmooers/Real_Geography_Manuscript/Data_For_Paper/Paper_Summer_SPCAM5_Precip_Linear_Baseline_PDF.npy\",Linear_Baseline_all)\n"
   ]
  },
  {
   "cell_type": "code",
   "execution_count": 29,
   "metadata": {},
   "outputs": [],
   "source": [
    "precip_SPCAM5 = np.empty(shape=(t, y, x))\n",
    "precip_Softmax = np.empty(shape=(t, y, x))\n",
    "precip_Softplus = np.empty(shape=(t, y, x))\n",
    "precip_Exponential = np.empty(shape=(t, y, x))\n",
    "precip_Linear_Baseline = np.empty(shape=(t, y, x))\n",
    "count = 0\n",
    "for i in range(t):\n",
    "    for j in range(y):\n",
    "        for k in range(x):\n",
    "            precip_SPCAM5[i, j, k] = precip_SPCAM5_ds[count]\n",
    "            precip_Softmax[i, j, k] = precip_Softmax_ds[count]\n",
    "            precip_Softplus[i, j, k] = precip_Softplus_ds[count]\n",
    "            precip_Exponential[i, j, k] = precip_Exponential_ds[count]\n",
    "            precip_Linear_Baseline[i, j, k] = precip_Linear_Baseline_ds[count]\n",
    "            \n",
    "            count = count + 1"
   ]
  },
  {
   "cell_type": "code",
   "execution_count": 30,
   "metadata": {},
   "outputs": [],
   "source": [
    "precip_SPCAM5_land = np.empty(shape=(t, y, x))\n",
    "precip_Softmax_land = np.empty(shape=(t, y, x))\n",
    "precip_Softplus_land = np.empty(shape=(t, y, x))\n",
    "precip_Exponential_land = np.empty(shape=(t, y, x))\n",
    "precip_Linear_Baseline_land = np.empty(shape=(t, y, x))\n",
    "\n",
    "precip_SPCAM5_ocean = np.empty(shape=(t, y, x))\n",
    "precip_Softmax_ocean = np.empty(shape=(t, y, x))\n",
    "precip_Softplus_ocean = np.empty(shape=(t, y, x))\n",
    "precip_Exponential_ocean = np.empty(shape=(t, y, x))\n",
    "precip_Linear_Baseline_ocean = np.empty(shape=(t, y, x))"
   ]
  },
  {
   "cell_type": "code",
   "execution_count": 31,
   "metadata": {},
   "outputs": [],
   "source": [
    "for i in range(len(precip_SPCAM5[0])):\n",
    "    for j in range(len(precip_SPCAM5[0][0])):\n",
    "        if land_f[i,j] >= 0.5:\n",
    "            precip_SPCAM5_land[:, i, j] = precip_SPCAM5[:, i, j]\n",
    "            precip_Softmax_land[:, i, j] = precip_Softmax[:, i, j]\n",
    "            precip_Softplus_land[:, i, j] = precip_Softplus[:, i, j]\n",
    "            precip_Exponential_land[:, i, j] = precip_Exponential[:, i, j]\n",
    "            precip_Linear_Baseline_land[:, i, j] = precip_Linear_Baseline[:, i, j]\n",
    "        if land_f[i,j] < 0.5:\n",
    "            precip_SPCAM5_ocean[:, i, j] = precip_SPCAM5[:, i, j]\n",
    "            precip_Softmax_ocean[:, i, j] = precip_Softmax[:, i, j]\n",
    "            precip_Softplus_ocean[:, i, j] = precip_Softplus[:, i, j]\n",
    "            precip_Exponential_ocean[:, i, j] = precip_Exponential[:, i, j]\n",
    "            precip_Linear_Baseline_ocean[:, i, j] = precip_Linear_Baseline[:, i, j]"
   ]
  },
  {
   "cell_type": "code",
   "execution_count": 32,
   "metadata": {},
   "outputs": [],
   "source": [
    "SPCAM5_ocean = precip_SPCAM5_ocean.ravel()\n",
    "SPCAM5_land = precip_SPCAM5_land.ravel()\n",
    "\n",
    "Softmax_ocean = precip_Softmax_ocean.ravel()\n",
    "Softmax_land = precip_Softmax_land.ravel()\n",
    "\n",
    "Softplus_ocean = precip_Softplus_ocean.ravel()\n",
    "Softplus_land = precip_Softplus_land.ravel()\n",
    "\n",
    "Exponential_ocean = precip_Exponential_ocean.ravel()\n",
    "Exponential_land = precip_Exponential_land.ravel()\n",
    "\n",
    "Linear_Baseline_ocean = precip_Linear_Baseline_ocean.ravel()\n",
    "Linear_Baseline_land = precip_Linear_Baseline_land.ravel()"
   ]
  },
  {
   "cell_type": "code",
   "execution_count": 34,
   "metadata": {},
   "outputs": [],
   "source": [
    "SPCAM5_ocean = SPCAM5_ocean[~np.isnan(SPCAM5_ocean)]\n",
    "SPCAM5_land = SPCAM5_land[~np.isnan(SPCAM5_land)]\n",
    "\n",
    "Softmax_ocean = Softmax_ocean[~np.isnan(Softmax_ocean)]\n",
    "Softmax_land = Softmax_land[~np.isnan(Softmax_land)]\n",
    "\n",
    "Softplus_ocean = Softplus_ocean[~np.isnan(Softplus_ocean)]\n",
    "Softplus_land = Softplus_land[~np.isnan(Softplus_land)]\n",
    "\n",
    "Exponential_ocean = Exponential_ocean[~np.isnan(Exponential_ocean)]\n",
    "Exponential_land = Exponential_land[~np.isnan(Exponential_land)]\n",
    "\n",
    "Linear_Baseline_ocean = Linear_Baseline_ocean[~np.isnan(Linear_Baseline_ocean)]\n",
    "Linear_Baseline_land = Linear_Baseline_land[~np.isnan(Linear_Baseline_land)]"
   ]
  },
  {
   "cell_type": "code",
   "execution_count": 35,
   "metadata": {},
   "outputs": [],
   "source": [
    "ocean_max_values = [np.nanmax(SPCAM5_ocean), np.nanmax(Softmax_ocean), np.nanmax(Softplus_ocean), np.nanmax(Exponential_ocean), np.nanmax(Linear_Baseline_ocean)]\n",
    "ocean_min_values = [np.nanmin(SPCAM5_ocean), np.nanmin(Softmax_ocean), np.nanmin(Softplus_ocean), np.nanmin(Exponential_ocean), np.nanmin(Linear_Baseline_ocean)]\n",
    "m_ocean = min(ocean_min_values)\n",
    "M_ocean = max(ocean_max_values)\n",
    "land_max_values = [np.nanmax(SPCAM5_land), np.nanmax(Softmax_land), np.nanmax(Softplus_land), np.nanmax(Exponential_land), np.nanmax(Linear_Baseline_land)]\n",
    "land_min_values = [np.nanmin(SPCAM5_land), np.nanmin(Softmax_land), np.nanmin(Softplus_land), np.nanmin(Exponential_land), np.nanmin(Linear_Baseline_land)]\n",
    "m_land = min(land_min_values)\n",
    "M_land = max(land_max_values)"
   ]
  },
  {
   "cell_type": "code",
   "execution_count": 36,
   "metadata": {},
   "outputs": [
    {
     "name": "stdout",
     "output_type": "stream",
     "text": [
      "precip data saved\n"
     ]
    }
   ],
   "source": [
    "np.save(\"/fast/gmooers/Real_Geography_Manuscript/Data_For_Paper/Paper_Summer_Ocean_SPCAM5_Precip_Sigmoid_PDF.npy\",Softmax_ocean)\n",
    "np.save(\"/fast/gmooers/Real_Geography_Manuscript/Data_For_Paper/Paper_Summer_Ocean_SPCAM5_Precip_Softplus_PDF.npy\",Softplus_ocean)\n",
    "np.save(\"/fast/gmooers/Real_Geography_Manuscript/Data_For_Paper/Paper_Summer_Ocean_SPCAM5_Prepip_Exponential_PDF.npy\",Exponential_ocean)\n",
    "np.save(\"/fast/gmooers/Real_Geography_Manuscript/Data_For_Paper/Paper_Summer_Ocean_SPCAM5_Precip_Linear_Baseline_PDF.npy\",Linear_Baseline_ocean)\n",
    "\n",
    "np.save(\"/fast/gmooers/Real_Geography_Manuscript/Data_For_Paper/Paper_Summer_Land_SPCAM5_Precip_Sigmoid_PDF.npy\",Softmax_land)\n",
    "np.save(\"/fast/gmooers/Real_Geography_Manuscript/Data_For_Paper/Paper_Summer_Land_SPCAM5_Precip_Softplus_PDF.npy\",Softplus_land)\n",
    "np.save(\"/fast/gmooers/Real_Geography_Manuscript/Data_For_Paper/Paper_Summer_Land_SPCAM5_Prepip_Exponential_PDF.npy\",Exponential_land)\n",
    "np.save(\"/fast/gmooers/Real_Geography_Manuscript/Data_For_Paper/Paper_Summer_Land_CSPAM5_Precip_Linear_Baseline_PDF.npy\",Linear_Baseline_land)\n",
    "\n",
    "\n",
    "print(\"precip data saved\")"
   ]
  },
  {
   "cell_type": "code",
   "execution_count": null,
   "metadata": {},
   "outputs": [],
   "source": []
  }
 ],
 "metadata": {
  "kernelspec": {
   "display_name": "Python 3",
   "language": "python",
   "name": "python3"
  },
  "language_info": {
   "codemirror_mode": {
    "name": "ipython",
    "version": 3
   },
   "file_extension": ".py",
   "mimetype": "text/x-python",
   "name": "python",
   "nbconvert_exporter": "python",
   "pygments_lexer": "ipython3",
   "version": "3.7.3"
  }
 },
 "nbformat": 4,
 "nbformat_minor": 4
}
