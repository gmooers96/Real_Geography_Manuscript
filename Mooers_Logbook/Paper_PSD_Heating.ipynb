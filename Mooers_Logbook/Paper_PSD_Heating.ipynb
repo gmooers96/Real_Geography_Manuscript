{
 "cells": [
  {
   "cell_type": "code",
   "execution_count": 150,
   "metadata": {},
   "outputs": [
    {
     "name": "stderr",
     "output_type": "stream",
     "text": [
      "/export/home/gmooers/miniconda3/lib/python3.7/site-packages/ipykernel_launcher.py:18: MatplotlibDeprecationWarning: \n",
      "The dedent function was deprecated in Matplotlib 3.1 and will be removed in 3.3. Use inspect.cleandoc instead.\n"
     ]
    }
   ],
   "source": [
    "import netCDF4\n",
    "import operator\n",
    "import xarray as xr\n",
    "import dask\n",
    "import numpy as np\n",
    "import time\n",
    "import matplotlib.pyplot as plt\n",
    "import matplotlib.colors as colors\n",
    "import matplotlib.patches as patches\n",
    "from matplotlib import ticker\n",
    "import cartopy\n",
    "import cartopy.feature as cfeature\n",
    "import cartopy.crs as ccrs\n",
    "import scipy\n",
    "from scipy import signal\n",
    "import math\n",
    "from mpl_toolkits.basemap import Basemap\n",
    "bm = Basemap()"
   ]
  },
  {
   "cell_type": "code",
   "execution_count": 151,
   "metadata": {},
   "outputs": [
    {
     "name": "stdout",
     "output_type": "stream",
     "text": [
      "files imported\n"
     ]
    }
   ],
   "source": [
    "#Good_July.nc\n",
    "path_to_file = '/fast/gmooers/Real_Geography_Manuscript/Preprocessed_Data/One_Month_July/full_physics_essentials_valid_month02_targets.nc'\n",
    "real_ds = xr.open_dataset(path_to_file)\n",
    "\n",
    "path_to_file = '/fast/gmooers/Real_Geography_Manuscript/Models/Good_July.nc'\n",
    "test_ds = xr.open_dataset(path_to_file)\n",
    "\n",
    "print('files imported')"
   ]
  },
  {
   "cell_type": "code",
   "execution_count": 152,
   "metadata": {},
   "outputs": [],
   "source": [
    "heat_real_ds = real_ds.targets[:, :30].values\n",
    "\n",
    "heat_test_ds = test_ds.Prediction[:, :30].values\n",
    "\n",
    "times = real_ds.time.values\n",
    "\n",
    "lats = real_ds.lat.values\n",
    "\n",
    "lons = real_ds.lon.values\n",
    "\n",
    "x = 144\n",
    "y = 96\n",
    "z = 30\n",
    "t = int(len(heat_test_ds)/(x*y))"
   ]
  },
  {
   "cell_type": "code",
   "execution_count": 153,
   "metadata": {},
   "outputs": [
    {
     "name": "stdout",
     "output_type": "stream",
     "text": [
      "(144, 96, 2975, 30)\n",
      "(144, 96, 2975, 30)\n"
     ]
    }
   ],
   "source": [
    "spacing = 1/96\n",
    "\n",
    "reconstructed_targets = np.zeros(shape=(x, y, t, z))\n",
    "reconstructed_features = np.zeros(shape=(x, y, t, z))\n",
    "count = 0\n",
    "for i in range(t):\n",
    "    for j in range(y):\n",
    "        for k in range(x):\n",
    "            #A = targets_heat[count]\n",
    "            #B = features_heat[count]\n",
    "            A = heat_real_ds[count]\n",
    "            B = heat_test_ds[count]\n",
    "            reconstructed_targets[k, j, i, :] = A\n",
    "            reconstructed_features[k, j, i, :] = B\n",
    "            count = count + 1\n",
    "\n",
    "print(reconstructed_targets.shape)\n",
    "print(reconstructed_features.shape)"
   ]
  },
  {
   "cell_type": "code",
   "execution_count": 154,
   "metadata": {},
   "outputs": [],
   "source": [
    "others = netCDF4.Dataset(\"/fast/gmooers/Raw_Data/extras/TimestepOutput_Neuralnet_SPCAM_216.cam.h1.2009-01-01-72000.nc\")\n",
    "plev = np.array(others.variables['lev'])\n",
    "ps = np.array(others.variables['PS'])\n",
    "g = 9.81 #m/s^2\n",
    "#print(plev)\n",
    "hyai = np.array(others.variables['hyai'])\n",
    "hybi = np.array(others.variables['hybi'])\n",
    "#print(hyai.shape)\n",
    "#print(hyai)\n",
    "cp = 1004.0\n",
    "L = 2256000.0\n",
    "PS = 1e5\n",
    "P0 = 1e5\n",
    "P = P0*hyai+PS*hybi # Total pressure [Pa]\n",
    "dp = P[1:]-P[:-1] # Differential pressure [Pa]\n",
    "#convert from k/s to w/m^2\n",
    "pressure_weighted_targets = reconstructed_targets*dp[None, None, None, :]*cp/g\n",
    "pressure_weighted_predictions = reconstructed_features*dp[None, None, None, :]*cp/g"
   ]
  },
  {
   "cell_type": "code",
   "execution_count": 155,
   "metadata": {},
   "outputs": [],
   "source": [
    "def spectrum_gen(h, dt):\n",
    "    nt = len(h)\n",
    "    #Get half the length of the time series to avoid redudant information\n",
    "    npositive = nt//2\n",
    "    pslice = slice(1, npositive)\n",
    "    #Get frequencies\n",
    "    freqs = np.fft.fftfreq(nt, d=dt)[pslice] \n",
    "    #perform the fft \n",
    "    ft = np.fft.fft(h)[pslice]\n",
    "    #remove imaginary componant of the fft and square\n",
    "    psraw = np.conjugate(ft) *ft\n",
    "    #double to account for the negative half that was removed above\n",
    "    psraw *= 2.0\n",
    "    #Normalization for the power spectrum\n",
    "    psraw /= nt**2\n",
    "    #Go fro mthe Power Spectrum to Power Density\n",
    "    psdraw = psraw * dt * nt\n",
    "    return freqs, psraw, psdraw\n",
    "    \n",
    "#spectrum_gen(s1, t[1]-t[0])"
   ]
  },
  {
   "cell_type": "code",
   "execution_count": 156,
   "metadata": {},
   "outputs": [
    {
     "name": "stderr",
     "output_type": "stream",
     "text": [
      "/export/home/gmooers/miniconda3/lib/python3.7/site-packages/ipykernel_launcher.py:16: ComplexWarning: Casting complex values to real discards the imaginary part\n",
      "  app.launch_new_instance()\n",
      "/export/home/gmooers/miniconda3/lib/python3.7/site-packages/ipykernel_launcher.py:17: ComplexWarning: Casting complex values to real discards the imaginary part\n"
     ]
    }
   ],
   "source": [
    "def spectrum_generator(targets, features, levels, latitude_count, longitude_count, time_space):\n",
    "    targ_freqs, targ_psraw, targ_psdraw = spectrum_gen(np.squeeze(targets[0,0,:,0]), time_space)\n",
    "    depth = len(targ_psdraw)\n",
    "    target_collector = np.zeros(shape=(longitude_count, latitude_count, levels, depth))\n",
    "    target_collector[:,:,:] = np.nan\n",
    "    feature_collector = np.zeros(shape=(longitude_count, latitude_count, levels, depth))\n",
    "    feature_collector[:,:,:] = np.nan\n",
    "    counter = 0\n",
    "    for i in range(levels):\n",
    "        for j in range(latitude_count):\n",
    "            for k in range(longitude_count):\n",
    "                target = np.squeeze(targets[k, j, :, i])\n",
    "                feature = np.squeeze(features[k, j, :, i])\n",
    "                targ_freqs, targ_psraw, targ_psdraw = spectrum_gen(target, time_space)\n",
    "                feat_freqs, feat_psraw, feat_psdraw = spectrum_gen(feature, time_space)\n",
    "                target_collector[k, j, i, :] = targ_psdraw\n",
    "                feature_collector[k, j, i, :] = feat_psdraw\n",
    "        \n",
    "    return targ_freqs, feat_freqs, target_collector, feature_collector \n",
    "\n",
    "targ_freqs, feat_freqs, target_collector, feature_collector = spectrum_generator(pressure_weighted_targets, pressure_weighted_predictions, z, y, x, spacing)"
   ]
  },
  {
   "cell_type": "code",
   "execution_count": 157,
   "metadata": {},
   "outputs": [],
   "source": [
    "def plotter(target_array, feature_array, frequency, title_name):\n",
    "    plt.plot(1/frequency, target_array, 'r', alpha = 0.5, label = \"Truth\")\n",
    "    plt.plot(1/frequency, feature_array, 'b', alpha=0.5, label = \"Prediction\")\n",
    "    plt.legend()\n",
    "    plt.yscale('log')\n",
    "    plt.xscale('log')\n",
    "    plt.xlabel('Period (Days)')\n",
    "    h = plt.ylabel(r'$\\frac{w^2}{m^4*day}$', fontsize = 15)\n",
    "    h.set_rotation(0)\n",
    "    plt.title(\"Power Spectrum Density for \"+title_name)\n",
    "    "
   ]
  },
  {
   "cell_type": "code",
   "execution_count": 158,
   "metadata": {},
   "outputs": [],
   "source": [
    "lat_list = lats[::144][:96]\n",
    "lon_list = lons[:144]\n",
    "\n",
    "#method 1 - Hovmueller Github \n",
    "a = 6.37e6 #radius of the earth\n",
    "dlat = np.abs(lat_list[1]-lat_list[0])\n",
    "dlon = np.abs(lon_list[0]-lon_list[1])\n",
    "weights = (dlon*np.pi/180.)*a*np.cos(lat_list*np.pi/180.)"
   ]
  },
  {
   "cell_type": "code",
   "execution_count": 159,
   "metadata": {},
   "outputs": [
    {
     "data": {
      "image/png": "[encoded data removed]",
      "text/plain": [
       "<Figure size 432x288 with 1 Axes>"
      ]
     },
     "metadata": {
      "needs_background": "light"
     },
     "output_type": "display_data"
    }
   ],
   "source": [
    "lat_weighted_targs = target_collector*weights[None,:,None,None]/np.nanmean(weights)\n",
    "lat_weighted_targs = np.nanmean(lat_weighted_targs, axis = 1)\n",
    "\n",
    "lat_weighted_features = feature_collector*weights[None,:,None,None]/np.nanmean(weights)\n",
    "lat_weighted_features = np.nanmean(lat_weighted_features, axis = 1)\n",
    "\n",
    "pressure_weighted_target_output = np.nanmean(lat_weighted_targs, axis = 1)\n",
    "pressure_weighted_feature_output = np.nanmean(lat_weighted_features, axis = 1)\n",
    "\n",
    "target_avg = np.nanmean(pressure_weighted_target_output, axis = 0)\n",
    "test_avg = np.nanmean(pressure_weighted_feature_output, axis = 0)\n",
    "\n",
    "np.save('/fast/gmooers/Real_Geography_Manuscript/Compressed_Data/Weighted_Basic_Spectral_Truth_Heat.npy', target_avg)\n",
    "np.save('/fast/gmooers/Real_Geography_Manuscript/Compressed_Data/Weighted_Basic_Spectral_Prediction_Heat.npy', test_avg)\n",
    "\n",
    "title = 'All locations'\n",
    "plotter(target_avg, test_avg, targ_freqs, title)"
   ]
  },
  {
   "cell_type": "code",
   "execution_count": 160,
   "metadata": {},
   "outputs": [],
   "source": [
    "path_to_file = '/fast/gmooers/Raw_Data/extras/TimestepOutput_Neuralnet_SPCAM_216.cam.h0.2018-07.nc'\n",
    "land_frac = xr.open_dataset(path_to_file)\n",
    "land_f = np.squeeze(land_frac.LANDFRAC.values)\n",
    "\n",
    "new_land_frac = np.zeros(shape=(144, 96))\n",
    "new_land_frac[:,:] = np.nan\n",
    "\n",
    "for i in range(len(land_f)):\n",
    "    for j in range(len(land_f[i])):\n",
    "        new_land_frac[j, i] = land_f[i,j]"
   ]
  },
  {
   "cell_type": "code",
   "execution_count": 161,
   "metadata": {},
   "outputs": [],
   "source": [
    "SPCAM5_ocean_heat = np.zeros(shape=(len(target_collector),len(target_collector[0]),len(target_collector[0][0]),len(target_collector[0][0][0])))\n",
    "SPCAM5_ocean_heat[:,:,:,:] = np.nan\n",
    "SPCAM5_land_heat = np.zeros(shape=(len(target_collector),len(target_collector[0]),len(target_collector[0][0]),len(target_collector[0][0][0])))\n",
    "SPCAM5_land_heat[:,:,:,:] = np.nan\n",
    "\n",
    "DNN_ocean_heat = np.zeros(shape=(len(target_collector),len(target_collector[0]),len(target_collector[0][0]),len(target_collector[0][0][0])))\n",
    "DNN_ocean_heat[:,:,:,:] = np.nan\n",
    "DNN_land_heat = np.zeros(shape=(len(target_collector),len(target_collector[0]),len(target_collector[0][0]),len(target_collector[0][0][0])))\n",
    "DNN_land_heat[:,:,:,:] = np.nan"
   ]
  },
  {
   "cell_type": "code",
   "execution_count": 162,
   "metadata": {},
   "outputs": [],
   "source": [
    "for i in range(len(target_collector)):\n",
    "    for j in range(len(target_collector[0])):\n",
    "        if new_land_frac[i,j] >= 0.5:\n",
    "            SPCAM5_land_heat[i,j,:,:] = target_collector[i,j,:,:]\n",
    "            DNN_land_heat[i,j,:,:] = feature_collector[i,j,:,:]\n",
    "        if new_land_frac[i,j] < 0.5:\n",
    "            SPCAM5_ocean_heat[i,j,:,:] = target_collector[i,j,:,:]\n",
    "            DNN_ocean_heat[i,j,:,:] = feature_collector[i,j,:,:]"
   ]
  },
  {
   "cell_type": "code",
   "execution_count": 163,
   "metadata": {},
   "outputs": [],
   "source": [
    "SPCAM5_final_land_heat = SPCAM5_land_heat*weights[None,:,None,None]/np.nanmean(weights)\n",
    "SPCAM5_final_land_heat = np.nanmean(SPCAM5_final_land_heat, axis = 1) \n",
    "SPCAM5_final_land_heat = np.nanmean(SPCAM5_final_land_heat, axis = 1) \n",
    "SPCAM5_final_land_heat = np.nanmean(SPCAM5_final_land_heat, axis = 0)\n",
    "\n",
    "SPCAM5_final_ocean_heat = SPCAM5_ocean_heat*weights[None,:,None,None]/np.nanmean(weights)\n",
    "SPCAM5_final_ocean_heat = np.nanmean(SPCAM5_final_ocean_heat, axis = 1) \n",
    "SPCAM5_final_ocean_heat = np.nanmean(SPCAM5_final_ocean_heat, axis = 1) \n",
    "SPCAM5_final_ocean_heat = np.nanmean(SPCAM5_final_ocean_heat, axis = 0)\n",
    "\n",
    "DNN_final_land_heat = DNN_land_heat*weights[None,:,None,None]/np.nanmean(weights)\n",
    "DNN_final_land_heat = np.nanmean(DNN_final_land_heat, axis = 1)\n",
    "DNN_final_land_heat = np.nanmean(DNN_final_land_heat, axis = 1) \n",
    "DNN_final_land_heat = np.nanmean(DNN_final_land_heat, axis = 0)\n",
    "\n",
    "DNN_final_ocean_heat = DNN_ocean_heat*weights[None,:,None,None]/np.nanmean(weights) \n",
    "DNN_final_ocean_heat = np.nanmean(DNN_final_ocean_heat, axis = 1) \n",
    "DNN_final_ocean_heat = np.nanmean(DNN_final_ocean_heat, axis = 1) \n",
    "DNN_final_ocean_heat = np.nanmean(DNN_final_ocean_heat, axis = 0)"
   ]
  },
  {
   "cell_type": "code",
   "execution_count": 164,
   "metadata": {},
   "outputs": [],
   "source": [
    "np.save('/fast/gmooers/Real_Geography_Manuscript/Compressed_Data/Weighted_Basic_Spectral_Truth_Heat_Ocean.npy', SPCAM5_final_ocean_heat)\n",
    "np.save('/fast/gmooers/Real_Geography_Manuscript/Compressed_Data/Weighted_Basic_Spectral_Prediction_Heat_Ocean.npy', DNN_final_ocean_heat)\n",
    "\n",
    "np.save('/fast/gmooers/Real_Geography_Manuscript/Compressed_Data/Weighted_Basic_Spectral_Truth_Heat_Land.npy', SPCAM5_final_land_heat)\n",
    "np.save('/fast/gmooers/Real_Geography_Manuscript/Compressed_Data/Weighted_Basic_Spectral_Prediction_Heat_Land.npy', DNN_final_land_heat)"
   ]
  },
  {
   "cell_type": "code",
   "execution_count": 165,
   "metadata": {},
   "outputs": [
    {
     "data": {
      "image/png": "[encoded data removed]",
      "text/plain": [
       "<Figure size 432x288 with 1 Axes>"
      ]
     },
     "metadata": {
      "needs_background": "light"
     },
     "output_type": "display_data"
    }
   ],
   "source": [
    "plotter(SPCAM5_final_ocean_heat, DNN_final_ocean_heat, targ_freqs, title)"
   ]
  },
  {
   "cell_type": "code",
   "execution_count": 166,
   "metadata": {},
   "outputs": [
    {
     "data": {
      "image/png": "[encoded data removed]",
      "text/plain": [
       "<Figure size 432x288 with 1 Axes>"
      ]
     },
     "metadata": {
      "needs_background": "light"
     },
     "output_type": "display_data"
    }
   ],
   "source": [
    "plotter(SPCAM5_final_land_heat, DNN_final_land_heat, targ_freqs, title)"
   ]
  },
  {
   "cell_type": "code",
   "execution_count": 167,
   "metadata": {},
   "outputs": [
    {
     "data": {
      "text/plain": [
       "[<matplotlib.lines.Line2D at 0x7f2e7dbce898>]"
      ]
     },
     "execution_count": 167,
     "metadata": {},
     "output_type": "execute_result"
    },
    {
     "data": {
      "image/png": "[encoded data removed]",
      "text/plain": [
       "<Figure size 432x288 with 1 Axes>"
      ]
     },
     "metadata": {
      "needs_background": "light"
     },
     "output_type": "display_data"
    }
   ],
   "source": [
    "plt.plot(SPCAM5_final_land_heat)"
   ]
  },
  {
   "cell_type": "code",
   "execution_count": 168,
   "metadata": {},
   "outputs": [
    {
     "data": {
      "text/plain": [
       "[<matplotlib.lines.Line2D at 0x7f2e7da21e48>]"
      ]
     },
     "execution_count": 168,
     "metadata": {},
     "output_type": "execute_result"
    },
    {
     "data": {
      "image/png": "[encoded data removed]",
      "text/plain": [
       "<Figure size 432x288 with 1 Axes>"
      ]
     },
     "metadata": {
      "needs_background": "light"
     },
     "output_type": "display_data"
    }
   ],
   "source": [
    "plt.plot(DNN_final_land_heat)"
   ]
  },
  {
   "cell_type": "code",
   "execution_count": null,
   "metadata": {},
   "outputs": [],
   "source": []
  }
 ],
 "metadata": {
  "kernelspec": {
   "display_name": "Python 3",
   "language": "python",
   "name": "python3"
  },
  "language_info": {
   "codemirror_mode": {
    "name": "ipython",
    "version": 3
   },
   "file_extension": ".py",
   "mimetype": "text/x-python",
   "name": "python",
   "nbconvert_exporter": "python",
   "pygments_lexer": "ipython3",
   "version": "3.7.3"
  }
 },
 "nbformat": 4,
 "nbformat_minor": 4
}
