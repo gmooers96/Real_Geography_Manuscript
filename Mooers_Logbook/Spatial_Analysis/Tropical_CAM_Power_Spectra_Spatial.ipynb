{
 "cells": [
  {
   "cell_type": "code",
   "execution_count": 1,
   "metadata": {},
   "outputs": [],
   "source": [
    "import netCDF4\n",
    "import operator\n",
    "import xarray as xr\n",
    "import dask\n",
    "import numpy as np\n",
    "import time\n",
    "import matplotlib.pyplot as plt\n",
    "import matplotlib.colors as colors\n",
    "import matplotlib.patches as patches\n",
    "from matplotlib import ticker\n",
    "import cartopy\n",
    "import cartopy.feature as cfeature\n",
    "import cartopy.crs as ccrs\n",
    "import scipy\n",
    "from scipy import signal\n",
    "import math\n",
    "\n",
    "#added from Lutsko Github\n",
    "import spectrum "
   ]
  },
  {
   "cell_type": "code",
   "execution_count": 2,
   "metadata": {},
   "outputs": [
    {
     "name": "stdout",
     "output_type": "stream",
     "text": [
      "files imported\n"
     ]
    }
   ],
   "source": [
    "#Good_July.nc\n",
    "path_to_file = '/fast/gmooers/Real_Geography_Manuscript/Models/CAM_July.nc'\n",
    "real_ds = xr.open_dataset(path_to_file)\n",
    "\n",
    "\n",
    "print('files imported')"
   ]
  },
  {
   "cell_type": "code",
   "execution_count": 3,
   "metadata": {},
   "outputs": [],
   "source": [
    "#heat_real_ds = real_ds.PTEQ[:, :].values\n",
    "moist_real_ds = real_ds.PTEQ.values\n",
    "heat_real_ds = real_ds.PTTEND.values\n",
    "\n",
    "times = real_ds.time.values\n",
    "\n",
    "lats = real_ds.lat.values\n",
    "\n",
    "lons = real_ds.lon.values"
   ]
  },
  {
   "cell_type": "code",
   "execution_count": 4,
   "metadata": {},
   "outputs": [],
   "source": [
    "x = 144\n",
    "y = 96\n",
    "z = 30\n",
    "t = int(len(heat_real_ds)/(x*y))"
   ]
  },
  {
   "cell_type": "code",
   "execution_count": 5,
   "metadata": {},
   "outputs": [],
   "source": [
    "spacing = 1/96"
   ]
  },
  {
   "cell_type": "code",
   "execution_count": 6,
   "metadata": {},
   "outputs": [
    {
     "name": "stdout",
     "output_type": "stream",
     "text": [
      "made it\n"
     ]
    }
   ],
   "source": [
    "others = netCDF4.Dataset(\"/fast/gmooers/Raw_Data/extras/TimestepOutput_Neuralnet_SPCAM_216.cam.h1.2009-01-01-72000.nc\")\n",
    "plev = np.array(others.variables['lev'])\n",
    "ps = np.array(others.variables['PS'])\n",
    "g = 9.81 #m/s^2\n",
    "L = 2256000.0\n",
    "cp = 1004.0\n",
    "#print(plev)\n",
    "hyai = np.array(others.variables['hyai'])\n",
    "hybi = np.array(others.variables['hybi'])\n",
    "PS = 1e5\n",
    "P0 = 1e5\n",
    "P = P0*hyai+PS*hybi # Total pressure [Pa]\n",
    "dp = P[1:]-P[:-1] # Differential pressure [Pa]\n",
    "#convert from k/s to w/m^2\n",
    "heat_pressure_weighted_targets = heat_real_ds*dp[None, :,None, None]*cp/g\n",
    "moist_pressure_weighted_targets = moist_real_ds*dp[None, :,None, None]*L/g\n",
    "print('made it')"
   ]
  },
  {
   "cell_type": "code",
   "execution_count": 7,
   "metadata": {},
   "outputs": [
    {
     "data": {
      "text/plain": [
       "(2976, 30, 96, 144)"
      ]
     },
     "execution_count": 7,
     "metadata": {},
     "output_type": "execute_result"
    }
   ],
   "source": [
    "heat_pressure_weighted_targets.shape"
   ]
  },
  {
   "cell_type": "code",
   "execution_count": 11,
   "metadata": {},
   "outputs": [],
   "source": [
    "lat_list = lats\n",
    "lon_list = lons\n",
    "trop_lats = lat_list[37:59]\n",
    "a = 6.37e6 #radius of the earth\n",
    "dlat = np.abs(lat_list[1]-lat_list[0])\n",
    "dlon = np.abs(lon_list[0]-lon_list[1])\n",
    "weights = (dlon*np.pi/180.)*a*np.cos(lat_list*np.pi/180.)\n",
    "other_weights = np.cos(np.deg2rad(trop_lats))\n",
    "\n",
    "\n",
    "heat__truths = heat_pressure_weighted_targets[:,:,37:59,:]\n",
    "moist_truths = moist_pressure_weighted_targets[:,:,37:59,:]"
   ]
  },
  {
   "cell_type": "code",
   "execution_count": 12,
   "metadata": {},
   "outputs": [],
   "source": [
    "def weighting(latitudes, R):\n",
    "    lat_weights = np.empty(shape=(latitudes.size))\n",
    "    for i in range(len(latitudes)):\n",
    "        lat_weights[i]= np.sin(np.radians(latitudes[i]))/np.radians(latitudes[i])\n",
    "    return lat_weights\n",
    "\n",
    "my_weights = weighting(trop_lats, a)"
   ]
  },
  {
   "cell_type": "code",
   "execution_count": 13,
   "metadata": {},
   "outputs": [],
   "source": [
    "lon_spaces = np.empty(shape=(trop_lats.size))\n",
    "for i in range(len(trop_lats)):\n",
    "    lon_spaces[i] = np.abs((lon_list[1]-lon_list[0])*40075.*np.cos(trop_lats[0])/360.0)*my_weights[i]\n",
    "\n",
    "lon_spacing = np.nanmean(lon_spaces)/np.nanmean(my_weights)"
   ]
  },
  {
   "cell_type": "code",
   "execution_count": 15,
   "metadata": {},
   "outputs": [],
   "source": [
    "#lon_spacing = np.abs((lons[1]-lons[0])*40075.*np.cos(lats[0])/360.0)\n",
    "#lat_spacing = 111.32*(lats[1]-lats[0])"
   ]
  },
  {
   "cell_type": "code",
   "execution_count": 14,
   "metadata": {},
   "outputs": [],
   "source": [
    "def spectrum_gen(h, dt):\n",
    "    nt = len(h)\n",
    "    #Get half the length of the time series to avoid redudant information\n",
    "    npositive = nt//2\n",
    "    pslice = slice(1, npositive)\n",
    "    #Get frequencies\n",
    "    freqs = np.fft.fftfreq(nt, d=dt)[pslice] \n",
    "    #perform the fft \n",
    "    ft = np.fft.fft(h)[pslice]\n",
    "    #remove imaginary componant of the fft and square\n",
    "    psraw = np.conjugate(ft) *ft\n",
    "    #double to account for the negative half that was removed above\n",
    "    psraw *= 2.0\n",
    "    #Normalization for the power spectrum\n",
    "    psraw /= nt**2\n",
    "    #Go fro mthe Power Spectrum to Power Density\n",
    "    psdraw = psraw * dt * nt\n",
    "    return freqs, psraw, psdraw\n",
    "    \n",
    "#spectrum_gen(s1, t[1]-t[0])"
   ]
  },
  {
   "cell_type": "code",
   "execution_count": 15,
   "metadata": {},
   "outputs": [
    {
     "data": {
      "text/plain": [
       "(2976, 30, 96, 144)"
      ]
     },
     "execution_count": 15,
     "metadata": {},
     "output_type": "execute_result"
    }
   ],
   "source": [
    "heat_pressure_weighted_targets.shape"
   ]
  },
  {
   "cell_type": "code",
   "execution_count": 16,
   "metadata": {},
   "outputs": [
    {
     "name": "stdout",
     "output_type": "stream",
     "text": [
      "0\n"
     ]
    },
    {
     "name": "stderr",
     "output_type": "stream",
     "text": [
      "/export/home/gmooers/miniconda3/lib/python3.7/site-packages/ipykernel_launcher.py:14: ComplexWarning: Casting complex values to real discards the imaginary part\n",
      "  \n"
     ]
    },
    {
     "name": "stdout",
     "output_type": "stream",
     "text": [
      "1\n",
      "2\n",
      "3\n",
      "4\n",
      "5\n",
      "6\n",
      "7\n",
      "8\n",
      "9\n",
      "10\n",
      "11\n",
      "12\n",
      "13\n",
      "14\n",
      "15\n",
      "16\n",
      "17\n",
      "18\n",
      "19\n",
      "20\n",
      "21\n",
      "22\n",
      "23\n",
      "24\n",
      "25\n",
      "26\n",
      "27\n",
      "28\n",
      "29\n",
      "0\n",
      "1\n",
      "2\n",
      "3\n",
      "4\n",
      "5\n",
      "6\n",
      "7\n",
      "8\n",
      "9\n",
      "10\n",
      "11\n",
      "12\n",
      "13\n",
      "14\n",
      "15\n",
      "16\n",
      "17\n",
      "18\n",
      "19\n",
      "20\n",
      "21\n",
      "22\n",
      "23\n",
      "24\n",
      "25\n",
      "26\n",
      "27\n",
      "28\n",
      "29\n"
     ]
    }
   ],
   "source": [
    "def spectrum_generator_X(targets, levels, latitude_count, longitude_count, time_space):\n",
    "    time_count = len(targets[:,0,0,0])\n",
    "    targ_freqs, targ_psraw, targ_psdraw = spectrum_gen(np.squeeze(targets[0,0,0,:]), time_space)\n",
    "    depth = len(targ_psdraw)\n",
    "    target_collector = np.zeros(shape=(depth, levels, latitude_count, time_count))\n",
    "    target_collector[:,:,:,:] = np.nan\n",
    "    counter = 0\n",
    "    for i in range(levels):\n",
    "        print(i)\n",
    "        for j in range(latitude_count):\n",
    "            for k in range(time_count):\n",
    "                target = np.squeeze(targets[k,i,j,:])\n",
    "                targ_freqs, targ_psraw, targ_psdraw = spectrum_gen(target, time_space)\n",
    "                target_collector[:,i,j,k] = targ_psdraw\n",
    "        \n",
    "    return targ_freqs, target_collector\n",
    "\n",
    "x_heat_targ_freqs,  x_heat_target_collector = spectrum_generator_X(heat_pressure_weighted_targets, z, 22, x, lon_spacing)\n",
    "x_moist_targ_freqs,  x_moist_target_collector = spectrum_generator_X(moist_pressure_weighted_targets, z, 22, x, lon_spacing)"
   ]
  },
  {
   "cell_type": "code",
   "execution_count": 20,
   "metadata": {},
   "outputs": [
    {
     "name": "stdout",
     "output_type": "stream",
     "text": [
      "0\n"
     ]
    },
    {
     "name": "stderr",
     "output_type": "stream",
     "text": [
      "/export/home/gmooers/miniconda3/lib/python3.7/site-packages/ipykernel_launcher.py:14: ComplexWarning: Casting complex values to real discards the imaginary part\n",
      "  \n"
     ]
    },
    {
     "name": "stdout",
     "output_type": "stream",
     "text": [
      "1\n"
     ]
    },
    {
     "ename": "KeyboardInterrupt",
     "evalue": "",
     "output_type": "error",
     "traceback": [
      "\u001b[0;31m---------------------------------------------------------------------------\u001b[0m",
      "\u001b[0;31mKeyboardInterrupt\u001b[0m                         Traceback (most recent call last)",
      "\u001b[0;32m<ipython-input-20-0ab53247cf20>\u001b[0m in \u001b[0;36m<module>\u001b[0;34m\u001b[0m\n\u001b[1;32m     16\u001b[0m     \u001b[0;32mreturn\u001b[0m \u001b[0mtarg_freqs\u001b[0m\u001b[0;34m,\u001b[0m \u001b[0mtarget_collector\u001b[0m\u001b[0;34m\u001b[0m\u001b[0;34m\u001b[0m\u001b[0m\n\u001b[1;32m     17\u001b[0m \u001b[0;34m\u001b[0m\u001b[0m\n\u001b[0;32m---> 18\u001b[0;31m \u001b[0my_heat_targ_freqs\u001b[0m\u001b[0;34m,\u001b[0m  \u001b[0my_heat_target_collector\u001b[0m \u001b[0;34m=\u001b[0m \u001b[0mspectrum_generator_Y\u001b[0m\u001b[0;34m(\u001b[0m\u001b[0mheat_pressure_weighted_targets\u001b[0m\u001b[0;34m,\u001b[0m \u001b[0mz\u001b[0m\u001b[0;34m,\u001b[0m \u001b[0my\u001b[0m\u001b[0;34m,\u001b[0m \u001b[0mx\u001b[0m\u001b[0;34m,\u001b[0m \u001b[0mlat_spacing\u001b[0m\u001b[0;34m)\u001b[0m\u001b[0;34m\u001b[0m\u001b[0;34m\u001b[0m\u001b[0m\n\u001b[0m\u001b[1;32m     19\u001b[0m \u001b[0my_moist_targ_freqs\u001b[0m\u001b[0;34m,\u001b[0m  \u001b[0my_moist_target_collector\u001b[0m \u001b[0;34m=\u001b[0m \u001b[0mspectrum_generator_Y\u001b[0m\u001b[0;34m(\u001b[0m\u001b[0mmoist_pressure_weighted_targets\u001b[0m\u001b[0;34m,\u001b[0m \u001b[0mz\u001b[0m\u001b[0;34m,\u001b[0m \u001b[0my\u001b[0m\u001b[0;34m,\u001b[0m \u001b[0mx\u001b[0m\u001b[0;34m,\u001b[0m \u001b[0mlat_spacing\u001b[0m\u001b[0;34m)\u001b[0m\u001b[0;34m\u001b[0m\u001b[0;34m\u001b[0m\u001b[0m\n",
      "\u001b[0;32m<ipython-input-20-0ab53247cf20>\u001b[0m in \u001b[0;36mspectrum_generator_Y\u001b[0;34m(targets, levels, latitude_count, longitude_count, time_space)\u001b[0m\n\u001b[1;32m     11\u001b[0m             \u001b[0;32mfor\u001b[0m \u001b[0mk\u001b[0m \u001b[0;32min\u001b[0m \u001b[0mrange\u001b[0m\u001b[0;34m(\u001b[0m\u001b[0mlongitude_count\u001b[0m\u001b[0;34m)\u001b[0m\u001b[0;34m:\u001b[0m\u001b[0;34m\u001b[0m\u001b[0;34m\u001b[0m\u001b[0m\n\u001b[1;32m     12\u001b[0m                 \u001b[0mtarget\u001b[0m \u001b[0;34m=\u001b[0m \u001b[0mnp\u001b[0m\u001b[0;34m.\u001b[0m\u001b[0msqueeze\u001b[0m\u001b[0;34m(\u001b[0m\u001b[0mtargets\u001b[0m\u001b[0;34m[\u001b[0m\u001b[0mj\u001b[0m\u001b[0;34m,\u001b[0m\u001b[0mi\u001b[0m\u001b[0;34m,\u001b[0m\u001b[0;34m:\u001b[0m\u001b[0;34m,\u001b[0m\u001b[0mk\u001b[0m\u001b[0;34m]\u001b[0m\u001b[0;34m)\u001b[0m\u001b[0;34m\u001b[0m\u001b[0;34m\u001b[0m\u001b[0m\n\u001b[0;32m---> 13\u001b[0;31m                 \u001b[0mtarg_freqs\u001b[0m\u001b[0;34m,\u001b[0m \u001b[0mtarg_psraw\u001b[0m\u001b[0;34m,\u001b[0m \u001b[0mtarg_psdraw\u001b[0m \u001b[0;34m=\u001b[0m \u001b[0mspectrum_gen\u001b[0m\u001b[0;34m(\u001b[0m\u001b[0mtarget\u001b[0m\u001b[0;34m,\u001b[0m \u001b[0mtime_space\u001b[0m\u001b[0;34m)\u001b[0m\u001b[0;34m\u001b[0m\u001b[0;34m\u001b[0m\u001b[0m\n\u001b[0m\u001b[1;32m     14\u001b[0m                 \u001b[0mtarget_collector\u001b[0m\u001b[0;34m[\u001b[0m\u001b[0;34m:\u001b[0m\u001b[0;34m,\u001b[0m\u001b[0mi\u001b[0m\u001b[0;34m,\u001b[0m\u001b[0mj\u001b[0m\u001b[0;34m,\u001b[0m\u001b[0mk\u001b[0m\u001b[0;34m]\u001b[0m \u001b[0;34m=\u001b[0m \u001b[0mtarg_psdraw\u001b[0m\u001b[0;34m\u001b[0m\u001b[0;34m\u001b[0m\u001b[0m\n\u001b[1;32m     15\u001b[0m \u001b[0;34m\u001b[0m\u001b[0m\n",
      "\u001b[0;32m<ipython-input-16-56fe3faaf75e>\u001b[0m in \u001b[0;36mspectrum_gen\u001b[0;34m(h, dt)\u001b[0m\n\u001b[1;32m     11\u001b[0m     \u001b[0mpsraw\u001b[0m \u001b[0;34m=\u001b[0m \u001b[0mnp\u001b[0m\u001b[0;34m.\u001b[0m\u001b[0mconjugate\u001b[0m\u001b[0;34m(\u001b[0m\u001b[0mft\u001b[0m\u001b[0;34m)\u001b[0m \u001b[0;34m*\u001b[0m\u001b[0mft\u001b[0m\u001b[0;34m\u001b[0m\u001b[0;34m\u001b[0m\u001b[0m\n\u001b[1;32m     12\u001b[0m     \u001b[0;31m#double to account for the negative half that was removed above\u001b[0m\u001b[0;34m\u001b[0m\u001b[0;34m\u001b[0m\u001b[0;34m\u001b[0m\u001b[0m\n\u001b[0;32m---> 13\u001b[0;31m     \u001b[0mpsraw\u001b[0m \u001b[0;34m*=\u001b[0m \u001b[0;36m2.0\u001b[0m\u001b[0;34m\u001b[0m\u001b[0;34m\u001b[0m\u001b[0m\n\u001b[0m\u001b[1;32m     14\u001b[0m     \u001b[0;31m#Normalization for the power spectrum\u001b[0m\u001b[0;34m\u001b[0m\u001b[0;34m\u001b[0m\u001b[0;34m\u001b[0m\u001b[0m\n\u001b[1;32m     15\u001b[0m     \u001b[0mpsraw\u001b[0m \u001b[0;34m/=\u001b[0m \u001b[0mnt\u001b[0m\u001b[0;34m**\u001b[0m\u001b[0;36m2\u001b[0m\u001b[0;34m\u001b[0m\u001b[0;34m\u001b[0m\u001b[0m\n",
      "\u001b[0;31mKeyboardInterrupt\u001b[0m: "
     ]
    }
   ],
   "source": [
    "def spectrum_generator_Y(targets, levels, latitude_count, longitude_count, time_space):\n",
    "    time_count = len(targets[:,0,0,0])\n",
    "    targ_freqs, targ_psraw, targ_psdraw = spectrum_gen(np.squeeze(targets[0,0,:,0]), time_space)\n",
    "    depth = len(targ_psdraw)\n",
    "    target_collector = np.zeros(shape=(depth, levels, time_count, longitude_count))\n",
    "    target_collector[:,:,:,:] = np.nan\n",
    "    counter = 0\n",
    "    for i in range(levels):\n",
    "        print(i)\n",
    "        for j in range(time_count):\n",
    "            for k in range(longitude_count):\n",
    "                target = np.squeeze(targets[j,i,:,k])\n",
    "                targ_freqs, targ_psraw, targ_psdraw = spectrum_gen(target, time_space)\n",
    "                target_collector[:,i,j,k] = targ_psdraw\n",
    "        \n",
    "    return targ_freqs, target_collector\n",
    "\n",
    "#y_heat_targ_freqs,  y_heat_target_collector = spectrum_generator_Y(heat_pressure_weighted_targets, z, y, x, lat_spacing)\n",
    "#y_moist_targ_freqs,  y_moist_target_collector = spectrum_generator_Y(moist_pressure_weighted_targets, z, y, x, lat_spacing)"
   ]
  },
  {
   "cell_type": "code",
   "execution_count": 17,
   "metadata": {},
   "outputs": [],
   "source": [
    "def plotter(target_array, frequency, title_name):\n",
    "    plt.plot(1/frequency, target_array, 'r', alpha = 0.5, label = \"CAM5\")\n",
    "    plt.legend()\n",
    "    plt.yscale('log')\n",
    "    plt.xscale('log')\n",
    "    plt.xlabel('Period (Days)')\n",
    "    h = plt.ylabel(r'$\\frac{w^2}{m^4*day}$', fontsize = 15)\n",
    "    h.set_rotation(0)\n",
    "    plt.title(\"Power Spectrum Density for \"+title_name)"
   ]
  },
  {
   "cell_type": "code",
   "execution_count": 18,
   "metadata": {},
   "outputs": [],
   "source": [
    "x_heat_lat_weighted_targs = x_heat_target_collector*my_weights[None,None,:,None]/np.nanmean(my_weights)\n",
    "x_heat_lat_weighted_targs = np.nanmean(x_heat_lat_weighted_targs, axis = 2)\n",
    "\n",
    "x_moist_lat_weighted_targs = x_moist_target_collector*my_weights[None,None,:,None]/np.nanmean(my_weights)\n",
    "x_moist_lat_weighted_targs = np.nanmean(x_moist_lat_weighted_targs, axis = 2)\n",
    "\n",
    "x_heat_pressure_weighted_target_output = np.nanmean(x_heat_lat_weighted_targs , axis = 1)\n",
    "x_moist_pressure_weighted_target_output = np.nanmean(x_moist_lat_weighted_targs, axis = 1)\n",
    "\n",
    "x_heat_target_avg = np.nanmean(x_heat_pressure_weighted_target_output, axis = 1)\n",
    "x_moist_target_avg = np.nanmean(x_moist_pressure_weighted_target_output, axis = 1)"
   ]
  },
  {
   "cell_type": "code",
   "execution_count": 19,
   "metadata": {},
   "outputs": [],
   "source": [
    "#y_heat_lat_weighted_targs = y_heat_target_collector\n",
    "#y_heat_lat_weighted_targs = np.nanmean(y_heat_lat_weighted_targs, axis = 1)\n",
    "\n",
    "#y_moist_lat_weighted_targs = y_moist_target_collector\n",
    "#y_moist_lat_weighted_targs = np.nanmean(y_moist_lat_weighted_targs, axis = 1)\n",
    "\n",
    "#y_heat_pressure_weighted_target_output = np.nanmean(y_heat_lat_weighted_targs , axis = 1)\n",
    "#y_moist_pressure_weighted_target_output = np.nanmean(y_moist_lat_weighted_targs, axis = 1)\n",
    "\n",
    "#y_heat_target_avg = np.nanmean(y_heat_pressure_weighted_target_output, axis = 1)\n",
    "#y_moist_target_avg = np.nanmean(y_moist_pressure_weighted_target_output, axis = 1)"
   ]
  },
  {
   "cell_type": "code",
   "execution_count": 20,
   "metadata": {},
   "outputs": [],
   "source": [
    "title = 'All locations'\n",
    "#plotter(heat_target_avg, heat_targ_freqs, title)\n",
    "#plotter(moist_target_avg, moist_targ_freqs, title)"
   ]
  },
  {
   "cell_type": "code",
   "execution_count": 21,
   "metadata": {},
   "outputs": [],
   "source": [
    "np.save(\"/fast/gmooers/Real_Geography_Manuscript/Data_For_Paper/Tropical_Spatial_CAM_Spectra_Moisture_X.npy\",x_moist_target_avg)\n",
    "np.save(\"/fast/gmooers/Real_Geography_Manuscript/Data_For_Paper/Tropical_Spatial_CAM_Spectra_Heat_X.npy\",x_heat_target_avg)\n",
    "np.save(\"/fast/gmooers/Real_Geography_Manuscript/Data_For_Paper/Tropical_Spatial_CAM_Spectra_freqs_Moisture_X.npy\", x_moist_targ_freqs)\n",
    "np.save(\"/fast/gmooers/Real_Geography_Manuscript/Data_For_Paper/Tropical_Spatial_CAM_Spectra_freqs_Heat_X.npy\", x_heat_targ_freqs)"
   ]
  },
  {
   "cell_type": "code",
   "execution_count": null,
   "metadata": {},
   "outputs": [],
   "source": [
    "#np.save(\"/fast/gmooers/Real_Geography_Manuscript/Data_For_Paper/Spatial_CAM_Spectra_Moisture_Y.npy\", y_moist_target_avg)\n",
    "#np.save(\"/fast/gmooers/Real_Geography_Manuscript/Data_For_Paper/Spatial_CAM_Spectra_Heat_Y.npy\", y_heat_target_avg)\n",
    "#np.save(\"/fast/gmooers/Real_Geography_Manuscript/Data_For_Paper/Spatial_CAM_Spectra_freqs_Moisture_Y.npy\", y_moist_targ_freqs)\n",
    "#np.save(\"/fast/gmooers/Real_Geography_Manuscript/Data_For_Paper/Spatial_CAM_Spectra_freqs_Heat_Y.npy\", y_heat_targ_freqs)"
   ]
  }
 ],
 "metadata": {
  "kernelspec": {
   "display_name": "Python 3",
   "language": "python",
   "name": "python3"
  },
  "language_info": {
   "codemirror_mode": {
    "name": "ipython",
    "version": 3
   },
   "file_extension": ".py",
   "mimetype": "text/x-python",
   "name": "python",
   "nbconvert_exporter": "python",
   "pygments_lexer": "ipython3",
   "version": "3.7.3"
  }
 },
 "nbformat": 4,
 "nbformat_minor": 4
}
