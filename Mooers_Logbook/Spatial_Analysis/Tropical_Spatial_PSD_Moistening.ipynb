{
 "cells": [
  {
   "cell_type": "code",
   "execution_count": 1,
   "metadata": {},
   "outputs": [],
   "source": [
    "import netCDF4\n",
    "import operator\n",
    "import xarray as xr\n",
    "import dask\n",
    "import numpy as np\n",
    "import time\n",
    "import matplotlib.pyplot as plt\n",
    "import matplotlib.colors as colors\n",
    "import matplotlib.patches as patches\n",
    "from matplotlib import ticker\n",
    "import cartopy\n",
    "import cartopy.feature as cfeature\n",
    "import cartopy.crs as ccrs\n",
    "import scipy\n",
    "from scipy import signal\n",
    "import math"
   ]
  },
  {
   "cell_type": "code",
   "execution_count": 2,
   "metadata": {},
   "outputs": [
    {
     "name": "stdout",
     "output_type": "stream",
     "text": [
      "files imported\n"
     ]
    }
   ],
   "source": [
    "#Good_July.nc\n",
    "path_to_file = '/fast/gmooers/Real_Geography_Manuscript/Preprocessed_Data/One_Month_July/full_physics_essentials_valid_month02_targets.nc'\n",
    "real_ds = xr.open_dataset(path_to_file)\n",
    "\n",
    "path_to_file = '/fast/gmooers/Real_Geography_Manuscript/Models/July_Linear_Baseline.nc'\n",
    "test_ds = xr.open_dataset(path_to_file)\n",
    "\n",
    "print('files imported')"
   ]
  },
  {
   "cell_type": "code",
   "execution_count": 3,
   "metadata": {},
   "outputs": [],
   "source": [
    "heat_real_ds = real_ds.targets[:, 30:60].values\n",
    "\n",
    "heat_test_ds = test_ds.Prediction[:, 30:60].values\n",
    "\n",
    "times = real_ds.time.values\n",
    "\n",
    "lats = real_ds.lat.values\n",
    "\n",
    "lons = real_ds.lon.values\n",
    "\n",
    "x = 144\n",
    "y = 96\n",
    "z = 30\n",
    "t = int(len(heat_test_ds)/(x*y))"
   ]
  },
  {
   "cell_type": "code",
   "execution_count": 4,
   "metadata": {},
   "outputs": [
    {
     "name": "stdout",
     "output_type": "stream",
     "text": [
      "(144, 96, 2975, 30)\n",
      "(144, 96, 2975, 30)\n"
     ]
    }
   ],
   "source": [
    "spacing_x = 1/144\n",
    "spacing_y = 1/96\n",
    "\n",
    "reconstructed_targets = np.zeros(shape=(x, y, t, z))\n",
    "reconstructed_features = np.zeros(shape=(x, y, t, z))\n",
    "count = 0\n",
    "for i in range(t):\n",
    "    for j in range(y):\n",
    "        for k in range(x):\n",
    "            #A = targets_heat[count]\n",
    "            #B = features_heat[count]\n",
    "            A = heat_real_ds[count]\n",
    "            B = heat_test_ds[count]\n",
    "            reconstructed_targets[k, j, i, :] = A\n",
    "            reconstructed_features[k, j, i, :] = B\n",
    "            count = count + 1\n",
    "\n",
    "print(reconstructed_targets.shape)\n",
    "print(reconstructed_features.shape)"
   ]
  },
  {
   "cell_type": "code",
   "execution_count": 5,
   "metadata": {},
   "outputs": [],
   "source": [
    "others = netCDF4.Dataset(\"/fast/gmooers/Raw_Data/extras/TimestepOutput_Neuralnet_SPCAM_216.cam.h1.2009-01-01-72000.nc\")\n",
    "plev = np.array(others.variables['lev'])\n",
    "ps = np.array(others.variables['PS'])\n",
    "g = 9.81 #m/s^2\n",
    "#print(plev)\n",
    "hyai = np.array(others.variables['hyai'])\n",
    "hybi = np.array(others.variables['hybi'])\n",
    "#print(hyai.shape)\n",
    "#print(hyai)\n",
    "cp = 1004.0\n",
    "L = 2256000.0\n",
    "PS = 1e5\n",
    "P0 = 1e5\n",
    "P = P0*hyai+PS*hybi # Total pressure [Pa]\n",
    "dp = P[1:]-P[:-1] # Differential pressure [Pa]\n",
    "#convert from k/s to w/m^2\n",
    "pressure_weighted_targets = reconstructed_targets*dp[None, None, None, :]*L/g\n",
    "pressure_weighted_predictions = reconstructed_features*dp[None, None, None, :]*L/g"
   ]
  },
  {
   "cell_type": "code",
   "execution_count": 6,
   "metadata": {},
   "outputs": [],
   "source": [
    "lat_list = lats[::144][:96]\n",
    "lon_list = lons[:144]\n",
    "trop_lats = lat_list[37:59]\n",
    "trop_truths = pressure_weighted_targets[:,37:59,:,:]\n",
    "trop_predictions = pressure_weighted_predictions[:,37:59,:,:]"
   ]
  },
  {
   "cell_type": "code",
   "execution_count": 7,
   "metadata": {},
   "outputs": [],
   "source": [
    "#method 1 - Hovmueller Github \n",
    "a = 6.37e6 #radius of the earth\n",
    "dlat = np.abs(lat_list[1]-lat_list[0])\n",
    "dlon = np.abs(lon_list[0]-lon_list[1])\n",
    "weights = (dlon*np.pi/180.)*a*np.cos(lat_list*np.pi/180.)\n",
    "other_weights = np.cos(np.deg2rad(trop_lats))"
   ]
  },
  {
   "cell_type": "code",
   "execution_count": 8,
   "metadata": {},
   "outputs": [],
   "source": [
    "def weighting(latitudes, R):\n",
    "    lat_weights = np.empty(shape=(latitudes.size))\n",
    "    for i in range(len(latitudes)):\n",
    "        lat_weights[i]= np.sin(np.radians(latitudes[i]))/np.radians(latitudes[i])\n",
    "    return lat_weights\n",
    "\n",
    "my_weights = weighting(trop_lats, a)"
   ]
  },
  {
   "cell_type": "code",
   "execution_count": 9,
   "metadata": {},
   "outputs": [],
   "source": [
    "lon_spaces = np.empty(shape=(trop_lats.size))\n",
    "for i in range(len(trop_lats)):\n",
    "    lon_spaces[i] = np.abs((lon_list[1]-lon_list[0])*40075.*np.cos(trop_lats[0])/360.0)*my_weights[i]\n",
    "\n",
    "lon_spacing = np.nanmean(lon_spaces)/np.nanmean(my_weights)"
   ]
  },
  {
   "cell_type": "code",
   "execution_count": 10,
   "metadata": {},
   "outputs": [],
   "source": [
    "#lon_spacing = np.abs((lon_list[1]-lon_list[0])*40075.*np.cos(lat_list[0])/360.0)\n",
    "lat_spacing = 111.32*(lat_list[1]-lat_list[0])"
   ]
  },
  {
   "cell_type": "code",
   "execution_count": 11,
   "metadata": {},
   "outputs": [],
   "source": [
    "def plotter(target_array, feature_array, frequency, title_name):\n",
    "    plt.plot(1/frequency, target_array, 'r', alpha = 0.5, label = \"Truth\")\n",
    "    plt.plot(1/frequency, feature_array, 'b', alpha=0.5, label = \"Prediction\")\n",
    "    plt.legend()\n",
    "    plt.yscale('log')\n",
    "    plt.xscale('log')\n",
    "    plt.xlabel('Period (Kilometers)')\n",
    "    h = plt.ylabel(r'$\\frac{w^2}{m^4*day}$', fontsize = 15)\n",
    "    h.set_rotation(0)\n",
    "    plt.title(\"Power Spectrum Density for \"+title_name)"
   ]
  },
  {
   "cell_type": "code",
   "execution_count": 12,
   "metadata": {},
   "outputs": [],
   "source": [
    "def spectrum_gen(h, dt):\n",
    "    nt = len(h)\n",
    "    #Get half the length of the time series to avoid redudant information\n",
    "    npositive = nt//2\n",
    "    pslice = slice(1, npositive)\n",
    "    #Get frequencies\n",
    "    freqs = np.fft.fftfreq(nt, d=dt)[pslice] \n",
    "    #perform the fft \n",
    "    ft = np.fft.fft(h)[pslice]\n",
    "    #remove imaginary componant of the fft and square\n",
    "    psraw = np.conjugate(ft) *ft\n",
    "    #double to account for the negative half that was removed above\n",
    "    psraw *= 2.0\n",
    "    #Normalization for the power spectrum\n",
    "    psraw /= nt**2\n",
    "    #Go fro mthe Power Spectrum to Power Density\n",
    "    psdraw = psraw * dt * nt\n",
    "    return freqs, psraw, psdraw\n",
    "    \n",
    "x_temp_freqs, x_temp_psraw, x_temp_psdraw = spectrum_gen(np.squeeze(trop_truths[:,0,0,0]), lon_spacing)\n",
    "x_temp_freqs, x_temp_sraw, x_temp_psdraw = spectrum_gen(np.squeeze(trop_predictions[:,0,0,0]), lon_spacing)"
   ]
  },
  {
   "cell_type": "code",
   "execution_count": 13,
   "metadata": {},
   "outputs": [],
   "source": [
    "y_temp_freqs, y_temp_psraw, y_temp_psdraw = spectrum_gen(np.squeeze(trop_truths[0,:,0,0]), lat_spacing)\n",
    "y_temp_freqs, y_temp_psraw, y_temp_psdraw = spectrum_gen(np.squeeze(trop_predictions[0,:,0,0]), lat_spacing)"
   ]
  },
  {
   "cell_type": "code",
   "execution_count": 14,
   "metadata": {},
   "outputs": [],
   "source": [
    "np.save('/fast/gmooers/Real_Geography_Manuscript/Data_For_Paper/SPCAM5_X_Spectral_Spacing.npy', x_temp_freqs)\n",
    "np.save('/fast/gmooers/Real_Geography_Manuscript/Data_For_Paper/SPCAM5_Y_Spectral_Spacing.npy', y_temp_freqs)"
   ]
  },
  {
   "cell_type": "code",
   "execution_count": 15,
   "metadata": {},
   "outputs": [
    {
     "data": {
      "text/plain": [
       "20107.448326561975"
      ]
     },
     "execution_count": 15,
     "metadata": {},
     "output_type": "execute_result"
    }
   ],
   "source": [
    "1.0/x_temp_freqs[0]"
   ]
  },
  {
   "cell_type": "code",
   "execution_count": 16,
   "metadata": {},
   "outputs": [
    {
     "name": "stdout",
     "output_type": "stream",
     "text": [
      "(71,)\n"
     ]
    },
    {
     "name": "stderr",
     "output_type": "stream",
     "text": [
      "/export/home/gmooers/miniconda3/lib/python3.7/site-packages/numpy/core/_asarray.py:85: ComplexWarning: Casting complex values to real discards the imaginary part\n",
      "  return array(a, dtype, copy=False, order=order)\n",
      "/export/home/gmooers/miniconda3/lib/python3.7/site-packages/numpy/core/_asarray.py:85: ComplexWarning: Casting complex values to real discards the imaginary part\n",
      "  return array(a, dtype, copy=False, order=order)\n"
     ]
    },
    {
     "data": {
      "image/png": "[encoded data removed]",
      "text/plain": [
       "<Figure size 432x288 with 1 Axes>"
      ]
     },
     "metadata": {
      "needs_background": "light"
     },
     "output_type": "display_data"
    }
   ],
   "source": [
    "title = 'All locations'\n",
    "print(x_temp_psdraw.shape)\n",
    "plotter(x_temp_psdraw, x_temp_psdraw, x_temp_freqs, title)"
   ]
  },
  {
   "cell_type": "code",
   "execution_count": null,
   "metadata": {},
   "outputs": [
    {
     "name": "stdout",
     "output_type": "stream",
     "text": [
      "0\n"
     ]
    },
    {
     "name": "stderr",
     "output_type": "stream",
     "text": [
      "/export/home/gmooers/miniconda3/lib/python3.7/site-packages/ipykernel_launcher.py:18: ComplexWarning: Casting complex values to real discards the imaginary part\n",
      "/export/home/gmooers/miniconda3/lib/python3.7/site-packages/ipykernel_launcher.py:19: ComplexWarning: Casting complex values to real discards the imaginary part\n"
     ]
    },
    {
     "name": "stdout",
     "output_type": "stream",
     "text": [
      "1\n",
      "2\n",
      "3\n",
      "4\n",
      "5\n",
      "6\n",
      "7\n",
      "8\n",
      "9\n",
      "10\n",
      "11\n",
      "12\n",
      "13\n",
      "14\n"
     ]
    }
   ],
   "source": [
    "def spectrum_generator_X(targets, features, levels, latitude_count, longitude_count, time_space):\n",
    "    time_count = len(targets[0,0,:,0])\n",
    "    targ_freqs, targ_psraw, targ_psdraw = spectrum_gen(np.squeeze(targets[:,0,0,0]), time_space)\n",
    "    depth = len(targ_psdraw)\n",
    "    target_collector = np.zeros(shape=(time_count, latitude_count, levels, depth))\n",
    "    target_collector[:,:,:] = np.nan\n",
    "    feature_collector = np.zeros(shape=(time_count, latitude_count, levels, depth))\n",
    "    feature_collector[:,:,:] = np.nan\n",
    "    counter = 0\n",
    "    for i in range(levels):\n",
    "        print(i)\n",
    "        for j in range(latitude_count):\n",
    "            for k in range(time_count):\n",
    "                target = np.squeeze(targets[:, j, k, i])\n",
    "                feature = np.squeeze(features[:, j, k, i])\n",
    "                targ_freqs, targ_psraw, targ_psdraw = spectrum_gen(target, time_space)\n",
    "                feat_freqs, feat_psraw, feat_psdraw = spectrum_gen(feature, time_space)\n",
    "                target_collector[k, j, i, :] = targ_psdraw\n",
    "                feature_collector[k, j, i, :] = feat_psdraw\n",
    "        \n",
    "    return targ_freqs, feat_freqs, target_collector, feature_collector \n",
    "\n",
    "x_targ_freqs, x_feat_freqs, x_target_collector, x_feature_collector = spectrum_generator_X(trop_truths, trop_predictions, z, trop_lats.size, x, lon_spacing)"
   ]
  },
  {
   "cell_type": "code",
   "execution_count": null,
   "metadata": {},
   "outputs": [],
   "source": [
    "def spectrum_generator_Y(targets, features, levels, latitude_count, longitude_count, time_space):\n",
    "    time_count = len(targets[0,0,:,0])\n",
    "    targ_freqs, targ_psraw, targ_psdraw = spectrum_gen(np.squeeze(targets[0,:,0,0]), time_space)\n",
    "    depth = len(targ_psdraw)\n",
    "    target_collector = np.zeros(shape=(time_count, longitude_count, levels, depth))\n",
    "    target_collector[:,:,:] = np.nan\n",
    "    feature_collector = np.zeros(shape=(time_count, longitude_count, levels, depth))\n",
    "    feature_collector[:,:,:] = np.nan\n",
    "    counter = 0\n",
    "    for i in range(levels):\n",
    "        print(i)\n",
    "        for j in range(longitude_count):\n",
    "            for k in range(time_count):\n",
    "                target = np.squeeze(targets[j, :, k, i])\n",
    "                feature = np.squeeze(features[j, :, k, i])\n",
    "                targ_freqs, targ_psraw, targ_psdraw = spectrum_gen(target, time_space)\n",
    "                feat_freqs, feat_psraw, feat_psdraw = spectrum_gen(feature, time_space)\n",
    "                target_collector[k, j, i, :] = targ_psdraw\n",
    "                feature_collector[k, j, i, :] = feat_psdraw\n",
    "        \n",
    "    return targ_freqs, feat_freqs, target_collector, feature_collector \n",
    "\n",
    "#y_targ_freqs, y_feat_freqs, y_target_collector, y_feature_collector = spectrum_generator_Y(pressure_weighted_targets, pressure_weighted_predictions, z, y, x, lat_spacing)"
   ]
  },
  {
   "cell_type": "code",
   "execution_count": null,
   "metadata": {},
   "outputs": [],
   "source": [
    "x_target_collector.shape"
   ]
  },
  {
   "cell_type": "code",
   "execution_count": null,
   "metadata": {},
   "outputs": [],
   "source": [
    "x_lat_weighted_targs = x_target_collector*my_weights[None,:,None,None]/np.nanmean(my_weights)\n",
    "x_lat_weighted_targs = np.nanmean(x_lat_weighted_targs, axis = 1)\n",
    "\n",
    "x_lat_weighted_features = x_feature_collector*my_weights[None,:,None,None]/np.nanmean(my_weights)\n",
    "x_lat_weighted_features = np.nanmean(x_lat_weighted_features, axis = 1)\n",
    "\n",
    "x_pressure_weighted_target_output = np.nanmean(x_lat_weighted_targs, axis = 1)\n",
    "x_pressure_weighted_feature_output = np.nanmean(x_lat_weighted_features, axis = 1)\n",
    "\n",
    "x_target_avg = np.nanmean(x_pressure_weighted_target_output, axis = 0)\n",
    "x_test_avg = np.nanmean(x_pressure_weighted_feature_output, axis = 0)"
   ]
  },
  {
   "cell_type": "code",
   "execution_count": null,
   "metadata": {},
   "outputs": [],
   "source": [
    "#y_lat_weighted_targs = y_target_collector\n",
    "#y_lat_weighted_targs = np.nanmean(y_lat_weighted_targs, axis = 1)#\n",
    "\n",
    "#y_lat_weighted_features = y_feature_collector\n",
    "#y_lat_weighted_features = np.nanmean(y_lat_weighted_features, axis = 1)\n",
    "\n",
    "#y_pressure_weighted_target_output = np.nanmean(y_lat_weighted_targs, axis = 1)\n",
    "#y_pressure_weighted_feature_output = np.nanmean(y_lat_weighted_features, axis = 1)\n",
    "\n",
    "#y_target_avg = np.nanmean(y_pressure_weighted_target_output, axis = 0)\n",
    "#y_test_avg = np.nanmean(y_pressure_weighted_feature_output, axis = 0)"
   ]
  },
  {
   "cell_type": "code",
   "execution_count": null,
   "metadata": {},
   "outputs": [],
   "source": [
    "np.save('/fast/gmooers/Real_Geography_Manuscript/Data_For_Paper/Tropical_Spatial_X_Spectral_Truth_Moisture.npy', x_target_avg)\n",
    "np.save('/fast/gmooers/Real_Geography_Manuscript/Data_For_Paper/Tropical_Spatial_X_Spectral_Prediction_Moisture.npy', x_test_avg)\n",
    "np.save('/fast/gmooers/Real_Geography_Manuscript/Data_For_Paper/Tropical_Spatial_X_Spectral_Spacing_Moisture.npy', lon_spacing)\n",
    "\n",
    "\n",
    "#np.save('/fast/gmooers/Real_Geography_Manuscript/Data_For_Paper/Weighted_Spatial_Y_Spectral_Truth_Heat.npy', y_target_avg)\n",
    "#np.save('/fast/gmooers/Real_Geography_Manuscript/Data_For_Paper/Weighted_Spatial_Y_Spectral_Prediction_Heat.npy', y_test_avg)\n",
    "#np.save('/fast/gmooers/Real_Geography_Manuscript/Data_For_Paper/Weighted_Spatial_Y_Spectral_Spacing_Heat.npy', lat_spacing)\n"
   ]
  },
  {
   "cell_type": "code",
   "execution_count": null,
   "metadata": {},
   "outputs": [],
   "source": []
  }
 ],
 "metadata": {
  "kernelspec": {
   "display_name": "Python 3",
   "language": "python",
   "name": "python3"
  },
  "language_info": {
   "codemirror_mode": {
    "name": "ipython",
    "version": 3
   },
   "file_extension": ".py",
   "mimetype": "text/x-python",
   "name": "python",
   "nbconvert_exporter": "python",
   "pygments_lexer": "ipython3",
   "version": "3.7.3"
  }
 },
 "nbformat": 4,
 "nbformat_minor": 4
}
