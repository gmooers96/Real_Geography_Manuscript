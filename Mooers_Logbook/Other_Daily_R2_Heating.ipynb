{
 "cells": [
  {
   "cell_type": "code",
   "execution_count": 1,
   "metadata": {},
   "outputs": [
    {
     "name": "stdout",
     "output_type": "stream",
     "text": [
      "begin\n",
      "halfway\n",
      "3420\n"
     ]
    }
   ],
   "source": [
    "#Import the acrtuals to compare to model guesses\n",
    "#nc file\n",
    "import netCDF4\n",
    "import numpy as np\n",
    "import time\n",
    "import matplotlib.pyplot as plt\n",
    "import xarray as xr\n",
    "import dask\n",
    "print('begin')\n",
    "\n",
    "#Path for Aqua_Planet, 2 months, No VPB\n",
    "path_to_file = \"/fast/gmooers/Real_Geography_Manuscript/Models/SPCAM3_6_Months/full_physics_essentials_valid_month02_targets.nc\"\n",
    "ds = xr.open_dataset(path_to_file)\n",
    "truths = ds.targets[:, :30].values\n",
    "lons = ds.lon.values\n",
    "lats = ds.lat.values\n",
    "print('halfway')\n",
    "#Path for Aqua_Planet, 2 months, No VPB\n",
    "path_to_file = \"/fast/gmooers/Real_Geography_Manuscript/Models/SPCAM3_6_Months.nc\"\n",
    "ds = xr.open_dataset(path_to_file)\n",
    "features = ds.Prediction[:, :30].values\n",
    "\n",
    "#x = 144\n",
    "x = 128\n",
    "#y = 96\n",
    "y=64\n",
    "z = 30\n",
    "t = int(len(truths)/(x*y))\n",
    "print(t)"
   ]
  },
  {
   "cell_type": "code",
   "execution_count": 2,
   "metadata": {},
   "outputs": [
    {
     "name": "stdout",
     "output_type": "stream",
     "text": [
      "hi\n",
      "(144, 96, 3420, 30)\n",
      "(144, 96, 3420, 30)\n"
     ]
    }
   ],
   "source": [
    "reconstructed_targets = np.zeros(shape=(x, y, t, z))\n",
    "reconstructed_features = np.zeros(shape=(x, y, t, z))\n",
    "#print(reconstructed_targets.shape)\n",
    "print('hi')\n",
    "count = 0\n",
    "for i in range(t):\n",
    "    for j in range(y):\n",
    "        for k in range(x):\n",
    "            A = truths[count]\n",
    "            B = features[count]\n",
    "            reconstructed_targets[k, j, i, :] = A\n",
    "            reconstructed_features[k, j, i, :] = B\n",
    "            count = count + 1\n",
    "\n",
    "print(reconstructed_targets.shape)\n",
    "print(reconstructed_features.shape)"
   ]
  },
  {
   "cell_type": "code",
   "execution_count": 4,
   "metadata": {},
   "outputs": [],
   "source": [
    "daily_predictions = np.empty(shape=(len(reconstructed_features), len(reconstructed_features[0]), int(len(reconstructed_features[0][0])/96), len(reconstructed_features[0][0][0])))\n",
    "daily_truths = np.empty(shape=(len(reconstructed_targets), len(reconstructed_targets[0]), int(len(reconstructed_targets[0][0])/96), len(reconstructed_targets[0][0][0])))"
   ]
  },
  {
   "cell_type": "code",
   "execution_count": null,
   "metadata": {},
   "outputs": [],
   "source": [
    "current = 0\n",
    "\n",
    "for i in range(int(len(reconstructed_targets[0][0])/96)):\n",
    "    daily_predictions[:,:,i,:] = np.nansum(reconstructed_features[:,:,current:current+96,:], axis=2)\n",
    "    daily_truths[:,:,i,:] = np.nansum(reconstructed_targets[:,:,current:current+96,:],axis=2)\n",
    "    current = current+96"
   ]
  },
  {
   "cell_type": "code",
   "execution_count": null,
   "metadata": {},
   "outputs": [],
   "source": [
    "#np.isnan(daily_predictions).any()"
   ]
  },
  {
   "cell_type": "code",
   "execution_count": null,
   "metadata": {},
   "outputs": [],
   "source": [
    "R = np.zeros(shape=(x, y, z))\n",
    "SSE = np.zeros(shape=(x, y, z))\n",
    "SVAR = np.zeros(shape=(x, y, z))\n",
    "\n",
    "\n",
    "for i in range(len(daily_predictions)):\n",
    "    for k in range(len(daily_predictions[0])):\n",
    "        for j in range(len(daily_predictions[0][0][0])):\n",
    "                target_array = np.squeeze(daily_truths[i,k,:,j])\n",
    "                predict_array = np.squeeze(daily_predictions[i,k,:,j])\n",
    "    \n",
    "                sse = np.sum((target_array-predict_array)**2.0)\n",
    "                svar = np.sum((target_array-np.mean(target_array))**2.0)\n",
    "                r_2 = 1-(sse/svar)\n",
    "                R[i, k, j] = r_2\n",
    "                SSE[i, k, j] = sse\n",
    "                SVAR[i, k, j] = svar\n",
    "    \n",
    "    if i%10==0:\n",
    "        print(i)\n",
    "        \n",
    "R_Save = np.squeeze(R)\n",
    "SSE_Save = np.squeeze(SSE)\n",
    "SVAR_Save = np.squeeze(SVAR)\n",
    "\n",
    "#np.save(\"/fast/gmooers/Other_R2/Improved_Daily_SSE_SPCAM5_15_Min_Interval_Heat.npy\", SSE_Save)\n",
    "#np.save(\"/fast/gmooers/Other_R2/Improved_Daily_SVAR_SPCAM5_15_Min_Interval_Heat.npy\", SVAR_Save)\n",
    "np.save(\"/fast/gmooers/Real_Geography_Manuscript/Data_For_Paper/SPCAM3_Daily_Interval_Heating.npy\", R_Save)"
   ]
  },
  {
   "cell_type": "code",
   "execution_count": null,
   "metadata": {},
   "outputs": [],
   "source": []
  },
  {
   "cell_type": "code",
   "execution_count": null,
   "metadata": {},
   "outputs": [],
   "source": []
  }
 ],
 "metadata": {
  "kernelspec": {
   "display_name": "Python 3",
   "language": "python",
   "name": "python3"
  },
  "language_info": {
   "codemirror_mode": {
    "name": "ipython",
    "version": 3
   },
   "file_extension": ".py",
   "mimetype": "text/x-python",
   "name": "python",
   "nbconvert_exporter": "python",
   "pygments_lexer": "ipython3",
   "version": "3.7.3"
  }
 },
 "nbformat": 4,
 "nbformat_minor": 4
}
