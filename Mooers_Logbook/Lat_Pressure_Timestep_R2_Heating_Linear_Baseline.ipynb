{
 "cells": [
  {
   "cell_type": "code",
   "execution_count": null,
   "metadata": {},
   "outputs": [],
   "source": [
    "#Import the acrtuals to compare to model guesses\n",
    "#nc file\n",
    "import netCDF4\n",
    "import numpy as np\n",
    "import time\n",
    "import matplotlib.pyplot as plt\n",
    "import xarray as xr\n",
    "import dask\n",
    "print('begin')\n",
    "\n",
    "#Path for Aqua_Planet, 2 months, No VPB\n",
    "path_to_file = \"../Preprocessed_Data/7_Years_Spaced/full_physics_essentials_valid_month02_targets.nc\"\n",
    "ds = xr.open_dataset(path_to_file)\n",
    "truths = ds.targets[:, :30].values\n",
    "lons = ds.lon.values\n",
    "lats = ds.lat.values\n",
    "print('halfway')\n",
    "#Path for Aqua_Planet, 2 months, No VPB\n",
    "path_to_file = \"../Models/Linear_Baseline.nc\"\n",
    "ds = xr.open_dataset(path_to_file)\n",
    "features = ds.Prediction[:, :30].values\n",
    "\n",
    "x = 144\n",
    "#x = 128\n",
    "y = 96\n",
    "#y=64\n",
    "z = 30\n",
    "t = int(len(truths)/(x*y))\n",
    "print(t)"
   ]
  },
  {
   "cell_type": "code",
   "execution_count": null,
   "metadata": {},
   "outputs": [],
   "source": [
    "reconstructed_targets = np.zeros(shape=(x, y, t, z))\n",
    "reconstructed_features = np.zeros(shape=(x, y, t, z))\n",
    "#print(reconstructed_targets.shape)\n",
    "print('hi')\n",
    "count = 0\n",
    "for i in range(t):\n",
    "    for j in range(y):\n",
    "        for k in range(x):\n",
    "            A = truths[count]\n",
    "            B = features[count]\n",
    "            reconstructed_targets[k, j, i, :] = A\n",
    "            reconstructed_features[k, j, i, :] = B\n",
    "            count = count + 1\n",
    "\n",
    "print(reconstructed_targets.shape)\n",
    "print(reconstructed_features.shape)"
   ]
  },
  {
   "cell_type": "code",
   "execution_count": null,
   "metadata": {},
   "outputs": [],
   "source": [
    "predictions = np.nanmean(reconstructed_targets, axis=0)\n",
    "truths = np.nanmean(reconstructed_features, axis=0)"
   ]
  },
  {
   "cell_type": "code",
   "execution_count": null,
   "metadata": {},
   "outputs": [],
   "source": [
    "R = np.zeros(shape=(y, z))\n",
    "SSE = np.zeros(shape=(y, z))\n",
    "SVAR = np.zeros(shape=(y, z))\n",
    "\n",
    "\n",
    "for i in range(len(predictions)):\n",
    "    for j in range(len(predictions[0][0])):\n",
    "            target_array = np.squeeze(truths[i,:,j])\n",
    "            predict_array = np.squeeze(predictions[i,:,j])\n",
    "    \n",
    "            sse = np.sum((target_array-predict_array)**2.0)\n",
    "            svar = np.sum((target_array-np.mean(target_array))**2.0)\n",
    "            r_2 = 1-(sse/svar)\n",
    "            R[i, j] = r_2\n",
    "            SSE[i, j] = sse\n",
    "            SVAR[i, j] = svar\n",
    "    \n",
    "    if i%10==0:\n",
    "        print(i)\n",
    "        \n",
    "R_Save = np.squeeze(R)\n",
    "SSE_Save = np.squeeze(SSE)\n",
    "SVAR_Save = np.squeeze(SVAR)\n",
    "\n",
    "#np.save(\"/fast/gmooers/Data_For_Paper/Linear_Baseline_SSE_Daily_SPCAM5_15_Min_Interval_Heat.npy\", SSE_Save)\n",
    "#np.save(\"/fast/gmooers/Data_For_Paper/Linear_Baseline_SVAR_Daily_SPCAM5_15_Min_Interval_Heat.npy\", SVAR_Save)\n",
    "np.save(\"/fast/gmooers/Real_Geography_Manuscript/Data_For_Paper/Linear_Baseline_Daily_SPCAM5_15_Min_Interval_Heat.npy.\", R_Save)"
   ]
  }
 ],
 "metadata": {
  "kernelspec": {
   "display_name": "Python 3",
   "language": "python",
   "name": "python3"
  },
  "language_info": {
   "codemirror_mode": {
    "name": "ipython",
    "version": 3
   },
   "file_extension": ".py",
   "mimetype": "text/x-python",
   "name": "python",
   "nbconvert_exporter": "python",
   "pygments_lexer": "ipython3",
   "version": "3.7.3"
  }
 },
 "nbformat": 4,
 "nbformat_minor": 4
}
