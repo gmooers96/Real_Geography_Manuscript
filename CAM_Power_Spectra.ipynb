{
 "cells": [
  {
   "cell_type": "code",
   "execution_count": 31,
   "metadata": {},
   "outputs": [
    {
     "name": "stderr",
     "output_type": "stream",
     "text": [
      "/export/home/gmooers/miniconda3/lib/python3.7/site-packages/ipykernel_launcher.py:18: MatplotlibDeprecationWarning: \n",
      "The dedent function was deprecated in Matplotlib 3.1 and will be removed in 3.3. Use inspect.cleandoc instead.\n"
     ]
    }
   ],
   "source": [
    "import netCDF4\n",
    "import operator\n",
    "import xarray as xr\n",
    "import dask\n",
    "import numpy as np\n",
    "import time\n",
    "import matplotlib.pyplot as plt\n",
    "import matplotlib.colors as colors\n",
    "import matplotlib.patches as patches\n",
    "from matplotlib import ticker\n",
    "import cartopy\n",
    "import cartopy.feature as cfeature\n",
    "import cartopy.crs as ccrs\n",
    "import scipy\n",
    "from scipy import signal\n",
    "import math\n",
    "from mpl_toolkits.basemap import Basemap\n",
    "bm = Basemap() \n",
    "\n",
    "#added from Lutsko Github\n",
    "import spectrum "
   ]
  },
  {
   "cell_type": "code",
   "execution_count": 32,
   "metadata": {},
   "outputs": [
    {
     "name": "stdout",
     "output_type": "stream",
     "text": [
      "files imported\n"
     ]
    }
   ],
   "source": [
    "#Good_July.nc\n",
    "path_to_file = '/fast/gmooers/Preprocessed_Data/CAM_July.nc'\n",
    "real_ds = xr.open_dataset(path_to_file)\n",
    "\n",
    "\n",
    "print('files imported')"
   ]
  },
  {
   "cell_type": "code",
   "execution_count": 33,
   "metadata": {},
   "outputs": [
    {
     "name": "stdout",
     "output_type": "stream",
     "text": [
      "(2976, 30, 96, 144)\n"
     ]
    }
   ],
   "source": [
    "#heat_real_ds = real_ds.PTEQ[:, :].values\n",
    "heat_real_ds = real_ds.PTEQ[:, :30].values\n",
    "print(heat_real_ds.shape)\n",
    "times = real_ds.time.values\n",
    "\n",
    "lats = real_ds.lat.values\n",
    "\n",
    "lons = real_ds.lon.values"
   ]
  },
  {
   "cell_type": "code",
   "execution_count": 35,
   "metadata": {},
   "outputs": [],
   "source": [
    "x = 144\n",
    "y = 96\n",
    "z = 30\n",
    "t = int(len(heat_real_ds)/(x*y))"
   ]
  },
  {
   "cell_type": "code",
   "execution_count": 36,
   "metadata": {},
   "outputs": [],
   "source": [
    "\n",
    "spacing = 1/96\n",
    "\n",
    "reconstructed_targets = heat_real_ds"
   ]
  },
  {
   "cell_type": "code",
   "execution_count": 37,
   "metadata": {},
   "outputs": [
    {
     "name": "stdout",
     "output_type": "stream",
     "text": [
      "made it\n"
     ]
    }
   ],
   "source": [
    "others = netCDF4.Dataset(\"/fast/gmooers/Raw_Data/extras/TimestepOutput_Neuralnet_SPCAM_216.cam.h1.2009-01-01-72000.nc\")\n",
    "plev = np.array(others.variables['lev'])\n",
    "ps = np.array(others.variables['PS'])\n",
    "g = 9.81 #m/s^2\n",
    "L = 2256000.0\n",
    "cp = 1004.0\n",
    "#print(plev)\n",
    "hyai = np.array(others.variables['hyai'])\n",
    "hybi = np.array(others.variables['hybi'])\n",
    "PS = 1e5\n",
    "P0 = 1e5\n",
    "P = P0*hyai+PS*hybi # Total pressure [Pa]\n",
    "dp = P[1:]-P[:-1] # Differential pressure [Pa]\n",
    "#convert from k/s to w/m^2\n",
    "#pressure_weighted_targets = reconstructed_targets*dp[None, :,None, None]*cp/g\n",
    "pressure_weighted_targets = reconstructed_targets*dp[None, :,None, None]*L/g\n",
    "print('made it')"
   ]
  },
  {
   "cell_type": "code",
   "execution_count": 38,
   "metadata": {},
   "outputs": [],
   "source": [
    "def spectrum_gen(h, dt):\n",
    "    nt = len(h)\n",
    "    #Get half the length of the time series to avoid redudant information\n",
    "    npositive = nt//2\n",
    "    pslice = slice(1, npositive)\n",
    "    #Get frequencies\n",
    "    freqs = np.fft.fftfreq(nt, d=dt)[pslice] \n",
    "    #perform the fft \n",
    "    ft = np.fft.fft(h)[pslice]\n",
    "    #remove imaginary componant of the fft and square\n",
    "    psraw = np.conjugate(ft) *ft\n",
    "    #double to account for the negative half that was removed above\n",
    "    psraw *= 2.0\n",
    "    #Normalization for the power spectrum\n",
    "    psraw /= nt**2\n",
    "    #Go fro mthe Power Spectrum to Power Density\n",
    "    psdraw = psraw * dt * nt\n",
    "    return freqs, psraw, psdraw\n",
    "    \n",
    "#spectrum_gen(s1, t[1]-t[0])"
   ]
  },
  {
   "cell_type": "code",
   "execution_count": 39,
   "metadata": {},
   "outputs": [
    {
     "name": "stderr",
     "output_type": "stream",
     "text": [
      "/export/home/gmooers/miniconda3/lib/python3.7/site-packages/ipykernel_launcher.py:12: ComplexWarning: Casting complex values to real discards the imaginary part\n",
      "  if sys.path[0] == '':\n"
     ]
    }
   ],
   "source": [
    "def spectrum_generator(targets, levels, latitude_count, longitude_count, time_space):\n",
    "    targ_freqs, targ_psraw, targ_psdraw = spectrum_gen(np.squeeze(targets[:,0,0,0]), time_space)\n",
    "    depth = len(targ_psdraw)\n",
    "    target_collector = np.zeros(shape=(depth, levels, latitude_count, longitude_count))\n",
    "    target_collector[:,:,:] = np.nan\n",
    "    counter = 0\n",
    "    for i in range(levels):\n",
    "        for j in range(latitude_count):\n",
    "            for k in range(longitude_count):\n",
    "                target = np.squeeze(targets[:,i,j,k])\n",
    "                targ_freqs, targ_psraw, targ_psdraw = spectrum_gen(target, time_space)\n",
    "                target_collector[:,i,j,k] = targ_psdraw\n",
    "        \n",
    "    return targ_freqs, target_collector\n",
    "\n",
    "targ_freqs,  target_collector = spectrum_generator(pressure_weighted_targets, z, y, x, spacing)"
   ]
  },
  {
   "cell_type": "code",
   "execution_count": 40,
   "metadata": {},
   "outputs": [],
   "source": [
    "def plotter(target_array, frequency, title_name):\n",
    "    plt.plot(1/frequency, target_array, 'r', alpha = 0.5, label = \"CAM5\")\n",
    "    plt.legend()\n",
    "    plt.yscale('log')\n",
    "    plt.xscale('log')\n",
    "    plt.xlabel('Period (Days)')\n",
    "    h = plt.ylabel(r'$\\frac{w^2}{m^4*day}$', fontsize = 15)\n",
    "    h.set_rotation(0)\n",
    "    plt.title(\"Power Spectrum Density for \"+title_name)"
   ]
  },
  {
   "cell_type": "code",
   "execution_count": 42,
   "metadata": {},
   "outputs": [],
   "source": [
    "lat_list = np.linspace(-90.0, 90.0, 96)\n",
    "lon_list = np.linspace(0.0, 357.5, 144)\n",
    "\n",
    "#method 1 - Hovmueller Github \n",
    "a = 6.37e6 #radius of the earth\n",
    "dlat = np.abs(lat_list[1]-lat_list[0])\n",
    "dlon = np.abs(lon_list[0]-lon_list[1])\n",
    "gridCellWidth = (dlon*np.pi/180.)*a*np.cos(lat_list*np.pi/180.)\n",
    "lat_weighted_targs = np.nansum(target_collector*gridCellWidth[None,None,:,None], axis = 1)/np.sum(gridCellWidth)\n",
    "\n",
    "weights = gridCellWidth\n"
   ]
  },
  {
   "cell_type": "code",
   "execution_count": 43,
   "metadata": {},
   "outputs": [
    {
     "name": "stdout",
     "output_type": "stream",
     "text": [
      "(1487, 30, 96, 144)\n",
      "(1487, 30, 144)\n"
     ]
    },
    {
     "data": {
      "image/png": "[encoded data removed]",
      "text/plain": [
       "<Figure size 432x288 with 1 Axes>"
      ]
     },
     "metadata": {
      "needs_background": "light"
     },
     "output_type": "display_data"
    }
   ],
   "source": [
    "print(target_collector.shape)\n",
    "lat_weighted_targs = np.nansum(target_collector[:,:,:,:]*weights[None,None,:,None], axis = 2)/np.sum(weights[:]) \n",
    "print(lat_weighted_targs.shape)\n",
    "pressure_weighted_target_output = np.nansum(lat_weighted_targs * dp[None,:,None], axis = 1)/np.sum(dp) \n",
    "target_avg = np.nansum(pressure_weighted_target_output, axis = 1)\n",
    "title = 'All locations'\n",
    "np.save(\"/fast/gmooers/RG_Paper_Data/Weighted_CAM_Spectra_Moisture.npy\",target_avg)\n",
    "#np.save(\"/fast/gmooers/RG_Paper_Data/CAM_Spectra_freqs_Moisture.npy\", targ_freqs)\n",
    "plotter(target_avg, targ_freqs, title)"
   ]
  },
  {
   "cell_type": "markdown",
   "metadata": {},
   "source": [
    "# Apply land and ocean  masks"
   ]
  },
  {
   "cell_type": "code",
   "execution_count": 48,
   "metadata": {},
   "outputs": [
    {
     "name": "stdout",
     "output_type": "stream",
     "text": [
      "mask applied\n"
     ]
    }
   ],
   "source": [
    "lat_list = np.linspace(-90.0, 90.0, 96)\n",
    "lon_list = np.linspace(0.0, 357.5, 144)\n",
    "\n",
    "ocean_trop_target = np.zeros(shape=(len(target_collector), z, len(lat_list), len(target_collector[0][0][0])))\n",
    "ocean_trop_target[:,:,:,:] = np.nan\n",
    "\n",
    "for i in range(len(ocean_trop_target[0][0][0])):\n",
    "    lon = lon_list[i]\n",
    "    if lon > 180.0:\n",
    "        lon = lon - 360.0\n",
    "    for j in range(len(ocean_trop_target[0][0])):\n",
    "        lat = lat_list[j]\n",
    "        if bm.is_land(lon, lat) == False:\n",
    "            ocean_trop_target[:, :, j, i] = target_collector[:, :, j, i]\n",
    "\n",
    "print('mask applied')"
   ]
  },
  {
   "cell_type": "code",
   "execution_count": 49,
   "metadata": {},
   "outputs": [
    {
     "data": {
      "image/png": "[encoded data removed]",
      "text/plain": [
       "<Figure size 432x288 with 1 Axes>"
      ]
     },
     "metadata": {
      "needs_background": "light"
     },
     "output_type": "display_data"
    }
   ],
   "source": [
    "lat_weighted_targs = np.nansum(ocean_trop_target[:,:,:,:]*weights[None,None,:,None], axis = 2)/np.sum(weights[:]) \n",
    "pressure_weighted_target_output = np.nansum(lat_weighted_targs * dp[None,:,None], axis = 1)/np.sum(dp) \n",
    "target_avg = np.nansum(pressure_weighted_target_output, axis = 1)\n",
    "title = 'Ocean'\n",
    "np.save(\"/fast/gmooers/RG_Paper_Data/Weighted_CAM_Spectra_Moisture_Ocean.npy\",target_avg)\n",
    "#np.save(\"/fast/gmooers/RG_Paper_Data/CAM_Spectra_freqs_Moisture.npy\", targ_freqs)\n",
    "plotter(target_avg, targ_freqs, title)"
   ]
  },
  {
   "cell_type": "code",
   "execution_count": 50,
   "metadata": {},
   "outputs": [
    {
     "name": "stdout",
     "output_type": "stream",
     "text": [
      "mask applied\n"
     ]
    }
   ],
   "source": [
    "land_trop_target = np.zeros(shape=(len(target_collector), z, len(lat_list), len(target_collector[0][0][0])))\n",
    "land_trop_target[:,:,:,:] = np.nan\n",
    "\n",
    "for i in range(len(land_trop_target[0][0][0])):\n",
    "    lon = lon_list[i]\n",
    "    if lon > 180.0:\n",
    "        lon = lon - 360.0\n",
    "    for j in range(len(land_trop_target[0][0])):\n",
    "        lat = lat_list[j]\n",
    "        if bm.is_land(lon, lat) == True:\n",
    "            land_trop_target[:, :, j, i] = target_collector[:, :, j, i]\n",
    "\n",
    "print('mask applied')"
   ]
  },
  {
   "cell_type": "code",
   "execution_count": 51,
   "metadata": {},
   "outputs": [
    {
     "data": {
      "image/png": "[encoded data removed]",
      "text/plain": [
       "<Figure size 432x288 with 1 Axes>"
      ]
     },
     "metadata": {
      "needs_background": "light"
     },
     "output_type": "display_data"
    }
   ],
   "source": [
    "lat_weighted_targs = np.nansum(land_trop_target[:,:,:,:]*weights[None,None,:,None], axis = 2)/np.sum(weights[:]) \n",
    "pressure_weighted_target_output = np.nansum(lat_weighted_targs * dp[None,:,None], axis = 1)/np.sum(dp) \n",
    "target_avg = np.nansum(pressure_weighted_target_output, axis = 1)\n",
    "title = 'Land'\n",
    "np.save(\"/fast/gmooers/RG_Paper_Data/Weighted_CAM_Spectra_Moisture_Land.npy\",target_avg)\n",
    "#np.save(\"/fast/gmooers/RG_Paper_Data/CAM_Spectra_freqs_Moisture_Land.npy\", targ_freqs)\n",
    "plotter(target_avg, targ_freqs, title)"
   ]
  }
 ],
 "metadata": {
  "kernelspec": {
   "display_name": "Python 3",
   "language": "python",
   "name": "python3"
  },
  "language_info": {
   "codemirror_mode": {
    "name": "ipython",
    "version": 3
   },
   "file_extension": ".py",
   "mimetype": "text/x-python",
   "name": "python",
   "nbconvert_exporter": "python",
   "pygments_lexer": "ipython3",
   "version": "3.7.3"
  }
 },
 "nbformat": 4,
 "nbformat_minor": 4
}
