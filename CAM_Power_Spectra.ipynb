{
 "cells": [
  {
   "cell_type": "code",
   "execution_count": 1,
   "metadata": {},
   "outputs": [
    {
     "name": "stderr",
     "output_type": "stream",
     "text": [
      "/export/home/gmooers/miniconda3/lib/python3.7/site-packages/ipykernel_launcher.py:18: MatplotlibDeprecationWarning: \n",
      "The dedent function was deprecated in Matplotlib 3.1 and will be removed in 3.3. Use inspect.cleandoc instead.\n",
      "ERROR:root:Internal Python error in the inspect module.\n",
      "Below is the traceback from this internal error.\n",
      "\n"
     ]
    },
    {
     "name": "stdout",
     "output_type": "stream",
     "text": [
      "Traceback (most recent call last):\n",
      "  File \"/export/home/gmooers/miniconda3/lib/python3.7/site-packages/IPython/core/interactiveshell.py\", line 3331, in run_code\n",
      "    exec(code_obj, self.user_global_ns, self.user_ns)\n",
      "  File \"<ipython-input-1-7109723e9a77>\", line 21, in <module>\n",
      "    import spectrum\n",
      "  File \"/export/home/gmooers/miniconda3/lib/python3.7/site-packages/spectrum/__init__.py\", line 19, in <module>\n",
      "    from .datasets import *\n",
      "  File \"/export/home/gmooers/miniconda3/lib/python3.7/site-packages/spectrum/datasets.py\", line 148, in <module>\n",
      "    dolphin_filename = spectrum_data(\"DOLPHINS.wav\")\n",
      "  File \"/export/home/gmooers/miniconda3/lib/python3.7/site-packages/spectrum/datasets.py\", line 136, in spectrum_data\n",
      "    import pkg_resources\n",
      "  File \"/export/home/gmooers/miniconda3/lib/python3.7/site-packages/pkg_resources/__init__.py\", line 84, in <module>\n",
      "    __import__('pkg_resources.extern.packaging.requirements')\n",
      "  File \"/export/home/gmooers/miniconda3/lib/python3.7/site-packages/pkg_resources/_vendor/packaging/requirements.py\", line 9, in <module>\n",
      "    from pkg_resources.extern.pyparsing import stringStart, stringEnd, originalTextFor, ParseException\n",
      "  File \"<frozen importlib._bootstrap>\", line 983, in _find_and_load\n",
      "  File \"<frozen importlib._bootstrap>\", line 967, in _find_and_load_unlocked\n",
      "  File \"<frozen importlib._bootstrap>\", line 668, in _load_unlocked\n",
      "  File \"<frozen importlib._bootstrap>\", line 638, in _load_backward_compatible\n",
      "  File \"/export/home/gmooers/miniconda3/lib/python3.7/site-packages/pkg_resources/extern/__init__.py\", line 43, in load_module\n",
      "    __import__(extant)\n",
      "  File \"/export/home/gmooers/miniconda3/lib/python3.7/site-packages/pkg_resources/_vendor/pyparsing.py\", line 3923, in <module>\n",
      "    class ZeroOrMore(_MultipleMatch):\n",
      "KeyboardInterrupt\n",
      "\n",
      "During handling of the above exception, another exception occurred:\n",
      "\n",
      "Traceback (most recent call last):\n",
      "  File \"/export/home/gmooers/miniconda3/lib/python3.7/site-packages/IPython/core/interactiveshell.py\", line 2044, in showtraceback\n",
      "    stb = value._render_traceback_()\n",
      "AttributeError: 'KeyboardInterrupt' object has no attribute '_render_traceback_'\n",
      "\n",
      "During handling of the above exception, another exception occurred:\n",
      "\n",
      "Traceback (most recent call last):\n",
      "  File \"/export/home/gmooers/miniconda3/lib/python3.7/site-packages/IPython/core/ultratb.py\", line 1148, in get_records\n",
      "    return _fixed_getinnerframes(etb, number_of_lines_of_context, tb_offset)\n",
      "  File \"/export/home/gmooers/miniconda3/lib/python3.7/site-packages/IPython/core/ultratb.py\", line 316, in wrapped\n",
      "    return f(*args, **kwargs)\n",
      "  File \"/export/home/gmooers/miniconda3/lib/python3.7/site-packages/IPython/core/ultratb.py\", line 350, in _fixed_getinnerframes\n",
      "    records = fix_frame_records_filenames(inspect.getinnerframes(etb, context))\n",
      "  File \"/export/home/gmooers/miniconda3/lib/python3.7/inspect.py\", line 1502, in getinnerframes\n",
      "    frameinfo = (tb.tb_frame,) + getframeinfo(tb, context)\n",
      "  File \"/export/home/gmooers/miniconda3/lib/python3.7/inspect.py\", line 1460, in getframeinfo\n",
      "    filename = getsourcefile(frame) or getfile(frame)\n",
      "  File \"/export/home/gmooers/miniconda3/lib/python3.7/inspect.py\", line 696, in getsourcefile\n",
      "    if getattr(getmodule(object, filename), '__loader__', None) is not None:\n",
      "  File \"/export/home/gmooers/miniconda3/lib/python3.7/inspect.py\", line 742, in getmodule\n",
      "    os.path.realpath(f)] = module.__name__\n",
      "  File \"/export/home/gmooers/miniconda3/lib/python3.7/posixpath.py\", line 395, in realpath\n",
      "    path, ok = _joinrealpath(filename[:0], filename, {})\n",
      "  File \"/export/home/gmooers/miniconda3/lib/python3.7/posixpath.py\", line 443, in _joinrealpath\n",
      "    path, ok = _joinrealpath(path, os.readlink(newpath), seen)\n",
      "  File \"/export/home/gmooers/miniconda3/lib/python3.7/posixpath.py\", line 429, in _joinrealpath\n",
      "    if not islink(newpath):\n",
      "  File \"/export/home/gmooers/miniconda3/lib/python3.7/posixpath.py\", line 171, in islink\n",
      "    st = os.lstat(path)\n",
      "KeyboardInterrupt\n"
     ]
    },
    {
     "ename": "KeyboardInterrupt",
     "evalue": "",
     "output_type": "error",
     "traceback": [
      "\u001b[0;31m---------------------------------------------------------------------------\u001b[0m"
     ]
    }
   ],
   "source": [
    "import netCDF4\n",
    "import operator\n",
    "import xarray as xr\n",
    "import dask\n",
    "import numpy as np\n",
    "import time\n",
    "import matplotlib.pyplot as plt\n",
    "import matplotlib.colors as colors\n",
    "import matplotlib.patches as patches\n",
    "from matplotlib import ticker\n",
    "import cartopy\n",
    "import cartopy.feature as cfeature\n",
    "import cartopy.crs as ccrs\n",
    "import scipy\n",
    "from scipy import signal\n",
    "import math\n",
    "from mpl_toolkits.basemap import Basemap\n",
    "bm = Basemap() \n",
    "\n",
    "#added from Lutsko Github\n",
    "import spectrum "
   ]
  },
  {
   "cell_type": "code",
   "execution_count": null,
   "metadata": {},
   "outputs": [],
   "source": [
    "#Good_July.nc\n",
    "path_to_file = '/fast/gmooers/Models/CAM_July.nc'\n",
    "real_ds = xr.open_dataset(path_to_file)\n",
    "\n",
    "\n",
    "print('files imported')"
   ]
  },
  {
   "cell_type": "code",
   "execution_count": null,
   "metadata": {},
   "outputs": [],
   "source": [
    "#heat_real_ds = real_ds.PTEQ[:, :].values\n",
    "moist_real_ds = real_ds.PTEQ.values\n",
    "heat_real_ds = real_ds.PTTEND.values\n",
    "\n",
    "times = real_ds.time.values\n",
    "\n",
    "lats = real_ds.lat.values\n",
    "\n",
    "lons = real_ds.lon.values"
   ]
  },
  {
   "cell_type": "code",
   "execution_count": null,
   "metadata": {},
   "outputs": [],
   "source": [
    "x = 144\n",
    "y = 96\n",
    "z = 30\n",
    "t = int(len(heat_real_ds)/(x*y))"
   ]
  },
  {
   "cell_type": "code",
   "execution_count": null,
   "metadata": {},
   "outputs": [],
   "source": [
    "spacing = 1/96"
   ]
  },
  {
   "cell_type": "code",
   "execution_count": null,
   "metadata": {},
   "outputs": [],
   "source": [
    "others = netCDF4.Dataset(\"/fast/gmooers/Raw_Data/extras/TimestepOutput_Neuralnet_SPCAM_216.cam.h1.2009-01-01-72000.nc\")\n",
    "plev = np.array(others.variables['lev'])\n",
    "ps = np.array(others.variables['PS'])\n",
    "g = 9.81 #m/s^2\n",
    "L = 2256000.0\n",
    "cp = 1004.0\n",
    "#print(plev)\n",
    "hyai = np.array(others.variables['hyai'])\n",
    "hybi = np.array(others.variables['hybi'])\n",
    "PS = 1e5\n",
    "P0 = 1e5\n",
    "P = P0*hyai+PS*hybi # Total pressure [Pa]\n",
    "dp = P[1:]-P[:-1] # Differential pressure [Pa]\n",
    "#convert from k/s to w/m^2\n",
    "heat_pressure_weighted_targets = heat_real_ds*dp[None, :,None, None]*cp/g\n",
    "moist_pressure_weighted_targets = moist_real_ds*dp[None, :,None, None]*L/g\n",
    "print('made it')"
   ]
  },
  {
   "cell_type": "code",
   "execution_count": null,
   "metadata": {},
   "outputs": [],
   "source": [
    "def spectrum_gen(h, dt):\n",
    "    nt = len(h)\n",
    "    #Get half the length of the time series to avoid redudant information\n",
    "    npositive = nt//2\n",
    "    pslice = slice(1, npositive)\n",
    "    #Get frequencies\n",
    "    freqs = np.fft.fftfreq(nt, d=dt)[pslice] \n",
    "    #perform the fft \n",
    "    ft = np.fft.fft(h)[pslice]\n",
    "    #remove imaginary componant of the fft and square\n",
    "    psraw = np.conjugate(ft) *ft\n",
    "    #double to account for the negative half that was removed above\n",
    "    psraw *= 2.0\n",
    "    #Normalization for the power spectrum\n",
    "    psraw /= nt**2\n",
    "    #Go fro mthe Power Spectrum to Power Density\n",
    "    psdraw = psraw * dt * nt\n",
    "    return freqs, psraw, psdraw\n",
    "    \n",
    "#spectrum_gen(s1, t[1]-t[0])"
   ]
  },
  {
   "cell_type": "code",
   "execution_count": null,
   "metadata": {},
   "outputs": [],
   "source": [
    "def spectrum_generator(targets, levels, latitude_count, longitude_count, time_space):\n",
    "    targ_freqs, targ_psraw, targ_psdraw = spectrum_gen(np.squeeze(targets[:,0,0,0]), time_space)\n",
    "    depth = len(targ_psdraw)\n",
    "    target_collector = np.zeros(shape=(depth, levels, latitude_count, longitude_count))\n",
    "    target_collector[:,:,:] = np.nan\n",
    "    counter = 0\n",
    "    for i in range(levels):\n",
    "        for j in range(latitude_count):\n",
    "            for k in range(longitude_count):\n",
    "                target = np.squeeze(targets[:,i,j,k])\n",
    "                targ_freqs, targ_psraw, targ_psdraw = spectrum_gen(target, time_space)\n",
    "                target_collector[:,i,j,k] = targ_psdraw\n",
    "        \n",
    "    return targ_freqs, target_collector\n",
    "\n",
    "heat_targ_freqs,  heat_target_collector = spectrum_generator(heat_pressure_weighted_targets, z, y, x, spacing)\n",
    "moist_targ_freqs,  moist_target_collector = spectrum_generator(moist_pressure_weighted_targets, z, y, x, spacing)"
   ]
  },
  {
   "cell_type": "code",
   "execution_count": null,
   "metadata": {},
   "outputs": [],
   "source": [
    "def plotter(target_array, frequency, title_name):\n",
    "    plt.plot(1/frequency, target_array, 'r', alpha = 0.5, label = \"CAM5\")\n",
    "    plt.legend()\n",
    "    plt.yscale('log')\n",
    "    plt.xscale('log')\n",
    "    plt.xlabel('Period (Days)')\n",
    "    h = plt.ylabel(r'$\\frac{w^2}{m^4*day}$', fontsize = 15)\n",
    "    h.set_rotation(0)\n",
    "    plt.title(\"Power Spectrum Density for \"+title_name)"
   ]
  },
  {
   "cell_type": "code",
   "execution_count": null,
   "metadata": {},
   "outputs": [],
   "source": [
    "lat_list = lats\n",
    "lon_list = lons\n",
    "\n",
    "#method 1 - Hovmueller Github \n",
    "a = 6.37e6 #radius of the earth\n",
    "dlat = np.abs(lat_list[1]-lat_list[0])\n",
    "dlon = np.abs(lon_list[0]-lon_list[1])\n",
    "gridCellWidth = (dlon*np.pi/180.)*a*np.cos(lat_list*np.pi/180.)\n",
    "\n",
    "heat_lat_weighted_targs = heat_target_collector*gridCellWidth[None,None,:,None]/np.nanmean(gridCellWidth)\n",
    "heat_lat_weighted_targs = np.nanmean(heat_lat_weighted_targs, axis = 1)\n",
    "\n",
    "moist_lat_weighted_targs = moist_target_collector*gridCellWidth[None,None,:,None]/np.nanmean(gridCellWidth)\n",
    "moist_lat_weighted_targs = np.nanmean(moist_lat_weighted_targs, axis = 1)\n",
    "\n",
    "heat_pressure_weighted_target_output = np.nanmean(heat_lat_weighted_targs , axis = 1)\n",
    "moist_pressure_weighted_target_output = np.nanmean(moist_lat_weighted_targs, axis = 1)\n",
    "\n",
    "heat_target_avg = np.nanmean(heat_pressure_weighted_target_output, axis = 1)\n",
    "moist_target_avg = np.nanmean(moist_pressure_weighted_target_output, axis = 1)"
   ]
  },
  {
   "cell_type": "code",
   "execution_count": null,
   "metadata": {},
   "outputs": [],
   "source": [
    "np.save(\"/fast/gmooers/Real_Geography_Manuscript/Compressed_Data/Updated_Weighted_CAM_Spectra_Moisture.npy\",moist_target_avg)\n",
    "np.save(\"/fast/gmooers/Real_Geography_Manuscript/Compressed_Data/Updated_Weighted_CAM_Spectra_Heat.npy\",heat_target_avg)\n",
    "np.save(\"/fast/gmooers/Real_Geography_Manuscript/Compressed_Data/Updated_CAM_Spectra_freqs_Moisture.npy\", moist_targ_freqs)\n",
    "np.save(\"/fast/gmooers/Real_Geography_Manuscript/Compressed_Data/Updated_CAM_Spectra_freqs_Heat.npy\", heat_targ_freqs)"
   ]
  },
  {
   "cell_type": "code",
   "execution_count": null,
   "metadata": {},
   "outputs": [],
   "source": [
    "\n",
    "title = 'All locations'\n",
    "plotter(heat_target_avg, heat_targ_freqs, title)\n",
    "plotter(moist_target_avg, moist_targ_freqs, title)"
   ]
  },
  {
   "cell_type": "markdown",
   "metadata": {},
   "source": [
    "# Apply land and ocean  masks"
   ]
  },
  {
   "cell_type": "code",
   "execution_count": null,
   "metadata": {},
   "outputs": [],
   "source": [
    "path_to_file = '/fast/gmooers/Raw_Data/extras/TimestepOutput_Neuralnet_SPCAM_216.cam.h0.2018-07.nc'\n",
    "land_frac = xr.open_dataset(path_to_file)\n",
    "land_f = np.squeeze(land_frac.LANDFRAC.values)\n",
    "\n",
    "new_land_frac = np.zeros(shape=(144, 96))\n",
    "new_land_frac[:,:] = np.nan"
   ]
  },
  {
   "cell_type": "code",
   "execution_count": null,
   "metadata": {},
   "outputs": [],
   "source": [
    "print(heat_target_collector.shape)\n",
    "print(land_f.shape)"
   ]
  },
  {
   "cell_type": "code",
   "execution_count": null,
   "metadata": {},
   "outputs": [],
   "source": [
    "ocean_heat = np.zeros(shape=(len(heat_target_collector),len(heat_target_collector[0]),len(heat_target_collector[0][0]),len(heat_target_collector[0][0][0])))\n",
    "ocean_heat[:,:,:,:] = np.nan\n",
    "ocean_moist = np.zeros(shape=(len(heat_target_collector),len(heat_target_collector[0]),len(heat_target_collector[0][0]),len(heat_target_collector[0][0][0])))\n",
    "ocean_moist[:,:,:,:] = np.nan\n",
    "land_heat = np.zeros(shape=(len(heat_target_collector),len(heat_target_collector[0]),len(heat_target_collector[0][0]),len(heat_target_collector[0][0][0])))\n",
    "land_heat[:,:,:,:] = np.nan\n",
    "land_moist = np.zeros(shape=(len(heat_target_collector),len(heat_target_collector[0]),len(heat_target_collector[0][0]),len(heat_target_collector[0][0][0])))\n",
    "land_moist[:,:,:,:] = np.nan"
   ]
  },
  {
   "cell_type": "code",
   "execution_count": null,
   "metadata": {},
   "outputs": [],
   "source": [
    "print(np.count_nonzero(~np.isnan(heat_target_collector)))\n",
    "print(np.count_nonzero(~np.isnan(moist_target_collector)))\n",
    "print(np.count_nonzero(~np.isnan(land_heat)))\n",
    "print(np.count_nonzero(~np.isnan(land_moist)))\n",
    "print(np.count_nonzero(~np.isnan(ocean_heat)))\n",
    "print(np.count_nonzero(~np.isnan(ocean_moist)))"
   ]
  },
  {
   "cell_type": "code",
   "execution_count": null,
   "metadata": {},
   "outputs": [],
   "source": [
    "for i in range(len(heat_target_collector[0][0])):\n",
    "    for j in range(len(heat_target_collector[0][0][0])):\n",
    "        if land_f[i,j] >= 0.5:\n",
    "            land_moist[:,:,i,j] = moist_target_collector[:,:,i,j]\n",
    "            land_heat[:,:,i,j] = heat_target_collector[:,:,i,j]\n",
    "        if land_f[i,j] < 0.5:\n",
    "            ocean_moist[:,:,i,j] = moist_target_collector[:,:,i,j]\n",
    "            ocean_heat[:,:,i,j] = heat_target_collector[:,:,i,j]"
   ]
  },
  {
   "cell_type": "code",
   "execution_count": null,
   "metadata": {},
   "outputs": [],
   "source": [
    "print(np.count_nonzero(~np.isnan(heat_target_collector)))\n",
    "print(np.count_nonzero(~np.isnan(moist_target_collector)))\n",
    "print(np.count_nonzero(~np.isnan(land_heat)))\n",
    "print(np.count_nonzero(~np.isnan(land_moist)))\n",
    "print(np.count_nonzero(~np.isnan(ocean_heat)))\n",
    "print(np.count_nonzero(~np.isnan(ocean_moist)))"
   ]
  },
  {
   "cell_type": "code",
   "execution_count": null,
   "metadata": {},
   "outputs": [],
   "source": [
    "final_land_heat =land_heat*gridCellWidth[None,None,:,None]/np.nanmean(gridCellWidth)\n",
    "final_land_heat = np.nanmean(final_land_heat, axis = 2) \n",
    "final_land_heat = np.nanmean(final_land_heat, axis = 1) \n",
    "final_land_heat = np.nanmean(final_land_heat, axis = 1)\n",
    "\n",
    "final_land_moist = land_moist*gridCellWidth[None,None,:,None]/np.nanmean(gridCellWidth)\n",
    "final_land_moist = np.nanmean(final_land_moist, axis = 2)\n",
    "final_land_moist = np.nanmean(final_land_moist, axis = 1) \n",
    "final_land_moist = np.nanmean(final_land_moist, axis = 1)\n",
    "\n",
    "final_ocean_heat = ocean_heat*gridCellWidth[None,None,:,None]/np.nanmean(gridCellWidth)\n",
    "final_ocean_heat = np.nanmean(final_ocean_heat, axis = 2)\n",
    "final_ocean_heat = np.nanmean(final_ocean_heat, axis = 1) \n",
    "final_ocean_heat = np.nanmean(final_ocean_heat, axis = 1)\n",
    "\n",
    "final_ocean_moist = ocean_moist*gridCellWidth[None,None,:,None]/np.nanmean(gridCellWidth)\n",
    "final_ocean_moist = np.nanmean(final_ocean_moist, axis = 2)\n",
    "final_ocean_moist = np.nanmean(final_ocean_moist, axis = 1)\n",
    "final_ocean_moist = np.nanmean(final_ocean_moist, axis = 1)"
   ]
  },
  {
   "cell_type": "code",
   "execution_count": null,
   "metadata": {},
   "outputs": [],
   "source": [
    "np.save(\"/fast/gmooers/Real_Geography_Manuscript/Compressed_Data/Weighted_CAM_Spectra_Moisture_Ocean.npy\", final_ocean_moist)\n",
    "np.save(\"/fast/gmooers/Real_Geography_Manuscript/Compressed_Data/Weighted_CAM_Spectra_Moisture_Land.npy\", final_land_moist)\n",
    "np.save(\"/fast/gmooers/Real_Geography_Manuscript/Compressed_Data/Weighted_CAM_Spectra_Heat_Land.npy\", final_land_heat)\n",
    "np.save(\"/fast/gmooers/Real_Geography_Manuscript/Compressed_Data/Weighted_CAM_Spectra_Heat_Ocean.npy\", final_ocean_heat)\n",
    "\n",
    "#np.save(\"/fast/gmooers/RG_Paper_Data/CAM_Spectra_freqs_Moisture.npy\", targ_freqs)\n",
    "#np.save(\"/fast/gmooers/RG_Paper_Data/Weighted_CAM_Spectra_Moisture_Land.npy\",target_avg)\n",
    "#np.save(\"/fast/gmooers/RG_Paper_Data/CAM_Spectra_freqs_Moisture_Land.npy\", targ_freqs)"
   ]
  },
  {
   "cell_type": "code",
   "execution_count": null,
   "metadata": {},
   "outputs": [],
   "source": [
    "plt.plot(final_land_heat)"
   ]
  },
  {
   "cell_type": "code",
   "execution_count": null,
   "metadata": {},
   "outputs": [],
   "source": [
    "plt.plot(final_land_moist)"
   ]
  },
  {
   "cell_type": "code",
   "execution_count": null,
   "metadata": {},
   "outputs": [],
   "source": [
    "plt.plot(final_ocean_heat)"
   ]
  },
  {
   "cell_type": "code",
   "execution_count": null,
   "metadata": {},
   "outputs": [],
   "source": [
    "plt.plot(final_ocean_moist)"
   ]
  },
  {
   "cell_type": "code",
   "execution_count": null,
   "metadata": {},
   "outputs": [],
   "source": []
  }
 ],
 "metadata": {
  "kernelspec": {
   "display_name": "Python 3",
   "language": "python",
   "name": "python3"
  },
  "language_info": {
   "codemirror_mode": {
    "name": "ipython",
    "version": 3
   },
   "file_extension": ".py",
   "mimetype": "text/x-python",
   "name": "python",
   "nbconvert_exporter": "python",
   "pygments_lexer": "ipython3",
   "version": "3.7.3"
  }
 },
 "nbformat": 4,
 "nbformat_minor": 4
}
