{
 "cells": [
  {
   "cell_type": "code",
   "execution_count": 2,
   "metadata": {},
   "outputs": [
    {
     "name": "stdout",
     "output_type": "stream",
     "text": [
      "begin\n",
      "halfway\n",
      "2879\n"
     ]
    }
   ],
   "source": [
    "import netCDF4\n",
    "import numpy as np\n",
    "import time\n",
    "import matplotlib.pyplot as plt\n",
    "import xarray as xr\n",
    "import dask\n",
    "\n",
    "path_to_file = \"/fast/gmooers/Real_Geography_Manuscript/Preprocessed_Data/One_Month_Apr/full_physics_essentials_valid_month02_targets.nc\"\n",
    "ds = xr.open_dataset(path_to_file)\n",
    "truths = ds.targets[:, :30].values\n",
    "lons = ds.lon.values\n",
    "lats = ds.lat.values\n",
    "path_to_file = \"/fast/gmooers/Real_Geography_Manuscript/Models/Good_Apr.nc\"\n",
    "ds = xr.open_dataset(path_to_file)\n",
    "features = ds.Prediction[:, :30].values\n",
    "\n",
    "x = 144\n",
    "y = 96\n",
    "z = 30\n",
    "t = int(len(truths)/(x*y))"
   ]
  },
  {
   "cell_type": "code",
   "execution_count": 3,
   "metadata": {},
   "outputs": [
    {
     "name": "stdout",
     "output_type": "stream",
     "text": [
      "hi\n",
      "(144, 96, 2879, 30)\n",
      "(144, 96, 2879, 30)\n"
     ]
    }
   ],
   "source": [
    "reconstructed_targets = np.zeros(shape=(x, y, t, z))\n",
    "reconstructed_features = np.zeros(shape=(x, y, t, z))\n",
    "\n",
    "count = 0\n",
    "for i in range(t):\n",
    "    for j in range(y):\n",
    "        for k in range(x):\n",
    "            A = truths[count]\n",
    "            B = features[count]\n",
    "            reconstructed_targets[k, j, i, :] = A\n",
    "            reconstructed_features[k, j, i, :] = B\n",
    "            count = count + 1"
   ]
  },
  {
   "cell_type": "code",
   "execution_count": 4,
   "metadata": {},
   "outputs": [
    {
     "name": "stdout",
     "output_type": "stream",
     "text": [
      "0\n",
      "10\n",
      "20\n",
      "30\n",
      "40\n",
      "50\n",
      "60\n",
      "70\n",
      "80\n",
      "90\n",
      "100\n",
      "110\n",
      "120\n",
      "130\n",
      "140\n",
      "(144, 96, 29, 30)\n",
      "(144, 96, 29, 30)\n"
     ]
    }
   ],
   "source": [
    "#turn 15 minute increments into daily averages\n",
    "ndays = int(t/96)\n",
    "target_days = np.zeros(shape=(x, y, ndays, z))\n",
    "feat_days = np.zeros(shape=(x, y, ndays, z))\n",
    "day_array_targ = np.zeros(shape=(96, z))\n",
    "day_array_feat = np.zeros(shape=(96, z))\n",
    "count = 0\n",
    "day_count = 0\n",
    "for i in range(x):\n",
    "    for j in range(y):\n",
    "        for k in range(t):\n",
    "            temp_targ = reconstructed_targets[i, j, k, :]\n",
    "            day_array_targ[count, :] = temp_targ\n",
    "            temp_feat = reconstructed_features[i, j, k, :]\n",
    "            day_array_feat[count,:] = temp_feat\n",
    "            if (count == 95) or (k == t):\n",
    "                targ = np.nanmean(day_array_targ, axis = 0)\n",
    "                feat = np.nanmean(day_array_feat, axis = 0)\n",
    "                target_days[i, j, day_count, :] = targ\n",
    "                feat_days[i, j, day_count, :] = feat\n",
    "                day_count = day_count + 1\n",
    "                count = 0\n",
    "            else:\n",
    "                count = count+1\n",
    "        count = 0\n",
    "        day_count = 0 "
   ]
  },
  {
   "cell_type": "code",
   "execution_count": 5,
   "metadata": {},
   "outputs": [
    {
     "name": "stdout",
     "output_type": "stream",
     "text": [
      "0\n",
      "10\n",
      "20\n",
      "30\n",
      "40\n",
      "50\n",
      "60\n",
      "70\n",
      "80\n",
      "90\n",
      "100\n",
      "110\n",
      "120\n",
      "130\n",
      "140\n",
      "hi\n",
      "(144, 96, 1, 30)\n"
     ]
    }
   ],
   "source": [
    "#code for all longitudes \n",
    "A = target_days\n",
    "B = feat_days\n",
    "R = np.zeros(shape=(x, y, 1, z))\n",
    "SSE = np.zeros(shape=(x, y, 1, z))\n",
    "SVAR = np.zeros(shape=(x, y, 1, z))\n",
    "target_list = []\n",
    "feature_list = []\n",
    "count = 0\n",
    "\n",
    "for i in range(len(A)):\n",
    "    for j in range(len(A[0])):\n",
    "        for k in range(len(A[0][0][0])):\n",
    "            for l in range(len(A[0][0])):\n",
    "                target_value = A[i][j][l][k]\n",
    "                feature_value = B[i][j][l][k]\n",
    "                target_list.append(target_value)\n",
    "                feature_list.append(feature_value)\n",
    "            \n",
    "            target_list = np.array(target_list)\n",
    "            feature_list = np.array(feature_list)\n",
    "            sse = np.sum((target_list-feature_list)**2.0)\n",
    "            svar = np.sum((target_list-np.mean(target_list))**2.0)\n",
    "            r_2 = 1-(sse/svar)\n",
    "            SSE[i, j, :, k] = sse\n",
    "            SVAR[i, j, :, k] = svar\n",
    "            R[i, j, :, k] = r_2\n",
    "            target_list = []\n",
    "            feature_list = []\n",
    "    \n",
    "S = np.nanmean(SSE, axis = 0)\n",
    "S = np.squeeze(S)\n",
    "VAR = np.nanmean(SVAR, axis = 0)\n",
    "VAR = np.squeeze(VAR)\n",
    "\n",
    "R_Save = np.squeeze(R)\n",
    "SSE_Save = np.squeeze(SSE)\n",
    "SVAR_Save = np.squeeze(SVAR)\n",
    "np.save(\"/fast/gmooers/Real_Geography_Manscript/Data_For_Paper/April_SPCAM5_SSE_Daily_Interval_Heat.npy\", SSE_Save)\n",
    "np.save(\"/fast/gmooers/Real_Geography_Manscript/Data_For_Paper/April_SPCAM5_SVAR_Daily_Interval_Heat.npy\", SVAR_Save)\n",
    "np.save(\"/fast/gmooers/Real_Geography_Manscript/Data_For_Paper/April_SPCAM5_Daily_Interval_Heat.npy\", R_Save)"
   ]
  },
  {
   "cell_type": "code",
   "execution_count": 8,
   "metadata": {},
   "outputs": [
    {
     "name": "stdout",
     "output_type": "stream",
     "text": [
      "(48, 64, 128)\n",
      "(128, 64, 30, 16)\n",
      "(128, 64, 30)\n",
      "(64, 30)\n",
      "(30, 64)\n"
     ]
    }
   ],
   "source": [
    "y = 64\n",
    "x = 128\n",
    "z = 30\n",
    "tt = 16\n",
    "#For grid that takes into account levels\n",
    "#SPCAM5\n",
    "#datas = netCDF4.Dataset(\"/fast/gmooers/Raw_Data/extras/TimestepOutput_Neuralnet_SPCAM_216.cam.h1.2009-01-01-72000.nc\")\n",
    "#SPCAM3\n",
    "datas = netCDF4.Dataset(\"/fast/gmooers/Real_Geography_Manuscript/Data_For_Paper/AndKua_aqua_SPCAM3.0_sp_fbp_f4.cam2.h1.0001-12-31-00000.nc\")\n",
    "\n",
    "#Open up the variables\n",
    "lons = np.array(others.variables['lon'])\n",
    "lats = np.array(others.variables['lat'])\n",
    "times = np.array(others.variables['time'])\n",
    "ps = np.array(others.variables['PS'])\n",
    "#SPCAM5\n",
    "#pttend = np.array(others.variables['PTTEND'])\n",
    "#SPCAM3\n",
    "pttend = np.array(others.variables['TPHYSTND'])\n",
    "levs = np.array(others.variables['lev'])\n",
    "\n",
    "p = np.zeros(shape=(x, y, z, tt))\n",
    "#formula\n",
    "hyam = np.array(others.variables['hyam'])\n",
    "hybm = np.array(others.variables['hybm'])\n",
    "\n",
    "#loop over longitude\n",
    "for i in range(len(p)):\n",
    "    #loop over latitude\n",
    "    for j in range(len(p[0])):\n",
    "        #loop over time\n",
    "        for k in range(len(p[0][0][0])):\n",
    "            p_temp = hyam + ps[k][j][i]*hybm\n",
    "            p[i,j,:,k] = p_temp/100.\n",
    "        \n",
    "\n",
    "#simple mesh grid\n",
    "Xvar, Yvar = np.meshgrid(lons, levs)\n",
    "Xs, Ys = np.meshgrid(lats, levs)\n",
    "ilat = []\n",
    "for i in range(len(lats)):\n",
    "    if lats[i] < 10.0 or lats[i] > -10.0:\n",
    "        ilat.append(lats[i])\n",
    "        \n",
    "ilat = np.array(ilat)\n",
    "\n",
    "#CORRECT WAY:\n",
    "pband = np.nanmean(p,axis = 3)\n",
    "pband = np.nanmean(pband,axis = 0)\n",
    "np.save(\"/fast/gmooers/Real_Geography_Manscript/Data_For_Paper/SPCAM3_X_Coords.npy\", Xs.T)\n",
    "np.save(\"/fast/gmooers/Real_Geography_Manscript/Data_For_Paper/SPCAM3_Z_Coords.npy\", pband)"
   ]
  }
 ],
 "metadata": {
  "kernelspec": {
   "display_name": "Python 3",
   "language": "python",
   "name": "python3"
  },
  "language_info": {
   "codemirror_mode": {
    "name": "ipython",
    "version": 3
   },
   "file_extension": ".py",
   "mimetype": "text/x-python",
   "name": "python",
   "nbconvert_exporter": "python",
   "pygments_lexer": "ipython3",
   "version": "3.7.3"
  }
 },
 "nbformat": 4,
 "nbformat_minor": 2
}
