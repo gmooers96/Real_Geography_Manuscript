{
 "cells": [
  {
   "cell_type": "code",
   "execution_count": 1,
   "metadata": {},
   "outputs": [
    {
     "name": "stderr",
     "output_type": "stream",
     "text": [
      "/export/home/gmooers/miniconda3/lib/python3.7/site-packages/ipykernel_launcher.py:18: MatplotlibDeprecationWarning: \n",
      "The dedent function was deprecated in Matplotlib 3.1 and will be removed in 3.3. Use inspect.cleandoc instead.\n"
     ]
    }
   ],
   "source": [
    "import netCDF4\n",
    "import operator\n",
    "import xarray as xr\n",
    "import dask\n",
    "import numpy as np\n",
    "import time\n",
    "import matplotlib.pyplot as plt\n",
    "import matplotlib.colors as colors\n",
    "import matplotlib.patches as patches\n",
    "from matplotlib import ticker\n",
    "import cartopy\n",
    "import cartopy.feature as cfeature\n",
    "import cartopy.crs as ccrs\n",
    "import scipy\n",
    "from scipy import signal\n",
    "import math\n",
    "from mpl_toolkits.basemap import Basemap\n",
    "bm = Basemap()"
   ]
  },
  {
   "cell_type": "code",
   "execution_count": 2,
   "metadata": {},
   "outputs": [
    {
     "name": "stdout",
     "output_type": "stream",
     "text": [
      "files imported\n"
     ]
    }
   ],
   "source": [
    "#Good_July.nc\n",
    "path_to_file = '/fast/gmooers/Preprocessed_Data/One_Month_July/full_physics_essentials_valid_month02_targets.nc'\n",
    "real_ds = xr.open_dataset(path_to_file)\n",
    "\n",
    "path_to_file = '/fast/gmooers/Models/Good_July.nc'\n",
    "test_ds = xr.open_dataset(path_to_file)\n",
    "\n",
    "print('files imported')"
   ]
  },
  {
   "cell_type": "code",
   "execution_count": 3,
   "metadata": {},
   "outputs": [
    {
     "name": "stdout",
     "output_type": "stream",
     "text": [
      "files imported\n"
     ]
    }
   ],
   "source": [
    "#Good_July.nc\n",
    "path_to_file = '/fast/gmooers/Preprocessed_Data/One_Month_July/full_physics_essentials_valid_month02_targets.nc'\n",
    "real_ds = xr.open_dataset(path_to_file)\n",
    "\n",
    "path_to_file = '/fast/gmooers/Models/Good_July.nc'\n",
    "test_ds = xr.open_dataset(path_to_file)\n",
    "\n",
    "print('files imported')"
   ]
  },
  {
   "cell_type": "code",
   "execution_count": 4,
   "metadata": {},
   "outputs": [],
   "source": [
    "heat_real_ds = real_ds.targets[:, 30:60].values\n",
    "\n",
    "heat_test_ds = test_ds.Prediction[:, 30:60].values\n",
    "\n",
    "times = real_ds.time.values\n",
    "\n",
    "lats = real_ds.lat.values\n",
    "\n",
    "lons = real_ds.lon.values\n",
    "\n",
    "x = 144\n",
    "y = 96\n",
    "z = 30\n",
    "t = int(len(heat_test_ds)/(x*y))"
   ]
  },
  {
   "cell_type": "code",
   "execution_count": 5,
   "metadata": {},
   "outputs": [
    {
     "name": "stdout",
     "output_type": "stream",
     "text": [
      "(144, 96, 2975, 30)\n",
      "(144, 96, 2975, 30)\n"
     ]
    }
   ],
   "source": [
    "spacing = 1/96\n",
    "\n",
    "reconstructed_targets = np.zeros(shape=(x, y, t, z))\n",
    "reconstructed_features = np.zeros(shape=(x, y, t, z))\n",
    "count = 0\n",
    "for i in range(t):\n",
    "    for j in range(y):\n",
    "        for k in range(x):\n",
    "            #A = targets_heat[count]\n",
    "            #B = features_heat[count]\n",
    "            A = heat_real_ds[count]\n",
    "            B = heat_test_ds[count]\n",
    "            reconstructed_targets[k, j, i, :] = A\n",
    "            reconstructed_features[k, j, i, :] = B\n",
    "            count = count + 1\n",
    "\n",
    "print(reconstructed_targets.shape)\n",
    "print(reconstructed_features.shape)"
   ]
  },
  {
   "cell_type": "code",
   "execution_count": 6,
   "metadata": {},
   "outputs": [],
   "source": [
    "others = netCDF4.Dataset(\"/fast/gmooers/Raw_Data/extras/TimestepOutput_Neuralnet_SPCAM_216.cam.h1.2009-01-01-72000.nc\")\n",
    "plev = np.array(others.variables['lev'])\n",
    "ps = np.array(others.variables['PS'])\n",
    "g = 9.81 #m/s^2\n",
    "#print(plev)\n",
    "hyai = np.array(others.variables['hyai'])\n",
    "hybi = np.array(others.variables['hybi'])\n",
    "#print(hyai.shape)\n",
    "#print(hyai)\n",
    "cp = 1004.0\n",
    "L = 2256000.0\n",
    "PS = 1e5\n",
    "P0 = 1e5\n",
    "P = P0*hyai+PS*hybi # Total pressure [Pa]\n",
    "dp = P[1:]-P[:-1] # Differential pressure [Pa]\n",
    "#convert from k/s to w/m^2\n",
    "pressure_weighted_targets = reconstructed_targets*dp[None, None, None, :]*L/g\n",
    "pressure_weighted_predictions = reconstructed_features*dp[None, None, None, :]*L/g"
   ]
  },
  {
   "cell_type": "code",
   "execution_count": 7,
   "metadata": {},
   "outputs": [],
   "source": [
    "def spectrum_gen(h, dt):\n",
    "    nt = len(h)\n",
    "    #Get half the length of the time series to avoid redudant information\n",
    "    npositive = nt//2\n",
    "    pslice = slice(1, npositive)\n",
    "    #Get frequencies\n",
    "    freqs = np.fft.fftfreq(nt, d=dt)[pslice] \n",
    "    #perform the fft \n",
    "    ft = np.fft.fft(h)[pslice]\n",
    "    #remove imaginary componant of the fft and square\n",
    "    psraw = np.conjugate(ft) *ft\n",
    "    #double to account for the negative half that was removed above\n",
    "    psraw *= 2.0\n",
    "    #Normalization for the power spectrum\n",
    "    psraw /= nt**2\n",
    "    #Go fro mthe Power Spectrum to Power Density\n",
    "    psdraw = psraw * dt * nt\n",
    "    return freqs, psraw, psdraw\n",
    "    \n",
    "#spectrum_gen(s1, t[1]-t[0])"
   ]
  },
  {
   "cell_type": "code",
   "execution_count": 8,
   "metadata": {},
   "outputs": [
    {
     "name": "stderr",
     "output_type": "stream",
     "text": [
      "/export/home/gmooers/miniconda3/lib/python3.7/site-packages/ipykernel_launcher.py:16: ComplexWarning: Casting complex values to real discards the imaginary part\n",
      "  app.launch_new_instance()\n",
      "/export/home/gmooers/miniconda3/lib/python3.7/site-packages/ipykernel_launcher.py:17: ComplexWarning: Casting complex values to real discards the imaginary part\n"
     ]
    }
   ],
   "source": [
    "def spectrum_generator(targets, features, levels, latitude_count, longitude_count, time_space):\n",
    "    targ_freqs, targ_psraw, targ_psdraw = spectrum_gen(np.squeeze(targets[0,0,:,0]), time_space)\n",
    "    depth = len(targ_psdraw)\n",
    "    target_collector = np.zeros(shape=(longitude_count, latitude_count, levels, depth))\n",
    "    target_collector[:,:,:] = np.nan\n",
    "    feature_collector = np.zeros(shape=(longitude_count, latitude_count, levels, depth))\n",
    "    feature_collector[:,:,:] = np.nan\n",
    "    counter = 0\n",
    "    for i in range(levels):\n",
    "        for j in range(latitude_count):\n",
    "            for k in range(longitude_count):\n",
    "                target = np.squeeze(targets[k, j, :, i])\n",
    "                feature = np.squeeze(features[k, j, :, i])\n",
    "                targ_freqs, targ_psraw, targ_psdraw = spectrum_gen(target, time_space)\n",
    "                feat_freqs, feat_psraw, feat_psdraw = spectrum_gen(feature, time_space)\n",
    "                target_collector[k, j, i, :] = targ_psdraw\n",
    "                feature_collector[k, j, i, :] = feat_psdraw\n",
    "        \n",
    "    return targ_freqs, feat_freqs, target_collector, feature_collector \n",
    "\n",
    "targ_freqs, feat_freqs, target_collector, feature_collector = spectrum_generator(pressure_weighted_targets, pressure_weighted_predictions, z, y, x, spacing)"
   ]
  },
  {
   "cell_type": "code",
   "execution_count": 9,
   "metadata": {},
   "outputs": [],
   "source": [
    "def plotter(target_array, feature_array, frequency, title_name):\n",
    "    plt.plot(1/frequency, target_array, 'r', alpha = 0.5, label = \"Truth\")\n",
    "    plt.plot(1/frequency, feature_array, 'b', alpha=0.5, label = \"Prediction\")\n",
    "    plt.legend()\n",
    "    plt.yscale('log')\n",
    "    plt.xscale('log')\n",
    "    plt.xlabel('Period (Days)')\n",
    "    h = plt.ylabel(r'$\\frac{w^2}{m^4*day}$', fontsize = 15)\n",
    "    h.set_rotation(0)\n",
    "    plt.title(\"Power Spectrum Density for \"+title_name)"
   ]
  },
  {
   "cell_type": "code",
   "execution_count": 10,
   "metadata": {},
   "outputs": [],
   "source": [
    "lat_list = np.linspace(-90.0, 90.0, 96)\n",
    "lon_list = np.linspace(0.0, 357.5, 144)\n",
    "\n",
    "#method 1 - Hovmueller Github \n",
    "a = 6.37e6 #radius of the earth\n",
    "dlat = np.abs(lat_list[1]-lat_list[0])\n",
    "dlon = np.abs(lon_list[0]-lon_list[1])\n",
    "weights = (dlon*np.pi/180.)*a*np.cos(lat_list*np.pi/180.)"
   ]
  },
  {
   "cell_type": "code",
   "execution_count": 11,
   "metadata": {},
   "outputs": [
    {
     "data": {
      "image/png": "[encoded data removed]",
      "text/plain": [
       "<Figure size 432x288 with 1 Axes>"
      ]
     },
     "metadata": {
      "needs_background": "light"
     },
     "output_type": "display_data"
    }
   ],
   "source": [
    "lat_weighted_targs = np.nansum(target_collector[:,:,:,:]*weights[None,:,None,None], axis = 1)/np.sum(weights[:])\n",
    "lat_weighted_features = np.nansum(feature_collector[:,:,:,:]*weights[None,:,None,None], axis = 1)/np.sum(weights[:])\n",
    "\n",
    "pressure_weighted_target_output = np.nansum(lat_weighted_targs * dp[None,:,None], axis = 1)/np.sum(dp) \n",
    "pressure_weighted_feature_output = np.nansum(lat_weighted_features * dp[None,:,None], axis = 1)/np.sum(dp)\n",
    "\n",
    "target_avg = np.nansum(pressure_weighted_target_output, axis = 0)\n",
    "test_avg = np.nansum(pressure_weighted_feature_output, axis = 0)\n",
    "\n",
    "np.save('/fast/gmooers/RG_Paper_Data/Weighted_Basic_Spectral_Truth_Moistening.npy', target_avg)\n",
    "np.save('/fast/gmooers/RG_Paper_Data/Weighted_Basic_Spectral_Prediction_Moistening.npy', test_avg)\n",
    "\n",
    "title = 'All locations'\n",
    "plotter(target_avg, test_avg, targ_freqs, title)"
   ]
  },
  {
   "cell_type": "code",
   "execution_count": null,
   "metadata": {},
   "outputs": [],
   "source": [
    "lat_list = np.linspace(-90.0, 90.0, 96)\n",
    "lon_list = np.linspace(0.0, 357.5, 144)\n",
    "\n",
    "ocean_trop_feature = np.zeros(shape=(x, len(lat_list), z, len(feature_collector[0][0][0])))\n",
    "ocean_trop_target = np.zeros(shape=(x, len(lat_list), z, len(feature_collector[0][0][0])))\n",
    "ocean_trop_feature[:,:,:,:] = np.nan\n",
    "ocean_trop_target[:,:,:,:] = np.nan\n",
    "print(ocean_trop_feature.shape)\n",
    "for i in range(len(ocean_trop_feature)):\n",
    "    lon = lon_list[i]\n",
    "    if lon > 180.0:\n",
    "        lon = lon - 360.0\n",
    "    for j in range(len(ocean_trop_feature[i])):\n",
    "        lat = lat_list[j]\n",
    "        if bm.is_land(lon, lat) == False:\n",
    "            ocean_trop_feature[i, j, :, :] = feature_collector[i, j, :, :]\n",
    "            ocean_trop_target[i, j, :, :] = target_collector[i, j, :, :]\n",
    "\n",
    "print('mask applied')"
   ]
  },
  {
   "cell_type": "code",
   "execution_count": null,
   "metadata": {},
   "outputs": [],
   "source": [
    "#print(weights.shape)\n",
    "#print(ocean_trop_target.shape)\n",
    "#print(ocean_trop_feature.shape)\n",
    "lat_weighted_targs = np.nansum(ocean_trop_target[:,:,:,:]*weights[None,:,None,None], axis = 1)/np.sum(weights[:])\n",
    "lat_weighted_features = np.nansum(ocean_trop_feature[:,:,:,:]*weights[None,:,None,None], axis = 1)/np.sum(weights[:])\n",
    "\n",
    "#print(dp.shape)\n",
    "#print(lat_weighted_targs.shape)\n",
    "pressure_weighted_target_output = np.nansum(lat_weighted_targs[:,:,:] * dp[None,:,None], axis = 1)/np.sum(dp[:]) \n",
    "pressure_weighted_feature_output = np.nansum(lat_weighted_features[:,:,:]  * dp[None,:,None], axis = 1)/np.sum(dp[:])\n",
    "\n",
    "target_avg = np.nansum(pressure_weighted_target_output, axis = 0)\n",
    "test_avg = np.nansum(pressure_weighted_feature_output, axis = 0)\n",
    "\n",
    "np.save('/fast/gmooers/RG_Paper_Data/Weighted_Basic_Spectral_Truth_Moisture_Ocean.npy', target_avg)\n",
    "np.save('/fast/gmooers/RG_Paper_Data/Weighted_Basic_Spectral_Prediction_Moisture_Ocean.npy', test_avg)\n",
    "\n",
    "title = 'Land Mask'\n",
    "plotter(target_avg, test_avg, targ_freqs, title)"
   ]
  },
  {
   "cell_type": "code",
   "execution_count": null,
   "metadata": {},
   "outputs": [],
   "source": [
    "land_trop_feature = np.zeros(shape=(x, len(lat_list), z, len(feature_collector[0][0][0])))\n",
    "land_trop_target = np.zeros(shape=(x, len(lat_list), z, len(feature_collector[0][0][0])))\n",
    "\n",
    "land_trop_feature[:,:,:,:] = np.nan\n",
    "land_trop_target[:,:,:,:] = np.nan\n",
    "\n",
    "for i in range(len(land_trop_feature)):\n",
    "    lon = lon_list[i]\n",
    "    if lon > 180.0:\n",
    "        lon = lon - 360.0\n",
    "    for j in range(len(land_trop_feature[i])):\n",
    "        lat = lat_list[j]\n",
    "        if bm.is_land(lon, lat) == True:\n",
    "            land_trop_feature[i, j, :, :] = feature_collector[i, j, :, :]\n",
    "            land_trop_target[i, j, :, :] = target_collector[i, j, :, :]\n",
    "\n",
    "print('mask applied')"
   ]
  },
  {
   "cell_type": "code",
   "execution_count": null,
   "metadata": {},
   "outputs": [],
   "source": [
    "lat_weighted_targs = np.nansum(land_trop_target[:,:,:,:]*weights[None,:,None,None], axis = 1)/np.sum(weights[:])\n",
    "lat_weighted_features = np.nansum(land_trop_feature[:,:,:,:]*weights[None,:,None,None], axis = 1)/np.sum(weights[:])\n",
    "\n",
    "#print(dp.shape)\n",
    "#print(lat_weighted_targs.shape)\n",
    "pressure_weighted_target_output = np.nansum(lat_weighted_targs[:,:,:] * dp[None,:,None], axis = 1)/np.sum(dp[:]) \n",
    "pressure_weighted_feature_output = np.nansum(lat_weighted_features[:,:,:]  * dp[None,:,None], axis = 1)/np.sum(dp[:])\n",
    "\n",
    "target_avg = np.nansum(pressure_weighted_target_output, axis = 0)\n",
    "test_avg = np.nansum(pressure_weighted_feature_output, axis = 0)\n",
    "\n",
    "np.save('/fast/gmooers/RG_Paper_Data/Weighted_Basic_Spectral_Truth_Moisture_Land.npy', target_avg)\n",
    "np.save('/fast/gmooers/RG_Paper_Data/Weighted_Basic_Spectral_Prediction_Moisture_Land.npy', test_avg)\n",
    "\n",
    "title = 'Ocean Mask'\n",
    "plotter(target_avg, test_avg, targ_freqs, title)"
   ]
  }
 ],
 "metadata": {
  "kernelspec": {
   "display_name": "Python 3",
   "language": "python",
   "name": "python3"
  },
  "language_info": {
   "codemirror_mode": {
    "name": "ipython",
    "version": 3
   },
   "file_extension": ".py",
   "mimetype": "text/x-python",
   "name": "python",
   "nbconvert_exporter": "python",
   "pygments_lexer": "ipython3",
   "version": "3.7.3"
  }
 },
 "nbformat": 4,
 "nbformat_minor": 4
}
